{
 "cells": [
  {
   "cell_type": "code",
   "execution_count": 2,
   "id": "595cafbb",
   "metadata": {},
   "outputs": [
    {
     "ename": "ModuleNotFoundError",
     "evalue": "No module named 'ultralytics'",
     "output_type": "error",
     "traceback": [
      "\u001b[31m---------------------------------------------------------------------------\u001b[39m",
      "\u001b[31mModuleNotFoundError\u001b[39m                       Traceback (most recent call last)",
      "\u001b[36mCell\u001b[39m\u001b[36m \u001b[39m\u001b[32mIn[2]\u001b[39m\u001b[32m, line 1\u001b[39m\n\u001b[32m----> \u001b[39m\u001b[32m1\u001b[39m \u001b[38;5;28;01mfrom\u001b[39;00m\u001b[38;5;250m \u001b[39m\u001b[34;01multralytics\u001b[39;00m\u001b[38;5;250m \u001b[39m\u001b[38;5;28;01mimport\u001b[39;00m YOLO\n\u001b[32m      2\u001b[39m wd = YOLO(\u001b[33m\"\u001b[39m\u001b[33myolov8n.pt\u001b[39m\u001b[33m\"\u001b[39m) \n",
      "\u001b[31mModuleNotFoundError\u001b[39m: No module named 'ultralytics'"
     ]
    }
   ],
   "source": [
    "from ultralytics import YOLO\n",
    "wd = YOLO(\"yolov8n.pt\") "
   ]
  },
  {
   "cell_type": "code",
   "execution_count": 3,
   "id": "207e8ab4",
   "metadata": {},
   "outputs": [
    {
     "name": "stdout",
     "output_type": "stream",
     "text": [
      "\n",
      "1/1: 0... Success  (inf frames of shape 640x480 at 30.00 FPS)\n",
      "\n",
      "WARNING \n",
      "inference results will accumulate in RAM unless `stream=True` is passed, causing potential out-of-memory\n",
      "errors for large sources or long-running streams and videos. See https://docs.ultralytics.com/modes/predict/ for help.\n",
      "\n",
      "Example:\n",
      "    results = model(source=..., stream=True)  # generator of Results objects\n",
      "    for r in results:\n",
      "        boxes = r.boxes  # Boxes object for bbox outputs\n",
      "        masks = r.masks  # Masks object for segment masks outputs\n",
      "        probs = r.probs  # Class probabilities for classification outputs\n",
      "\n",
      "0: 480x640 1 person, 1 chair, 1 couch, 117.7ms\n",
      "0: 480x640 1 person, 1 chair, 93.4ms\n",
      "0: 480x640 1 person, 1 couch, 88.1ms\n",
      "0: 480x640 1 person, 91.8ms\n",
      "0: 480x640 1 person, 1 chair, 1 couch, 88.1ms\n",
      "0: 480x640 1 person, 1 chair, 1 couch, 86.8ms\n",
      "0: 480x640 1 person, 1 chair, 86.6ms\n",
      "0: 480x640 1 person, 1 chair, 90.3ms\n",
      "0: 480x640 1 person, 87.9ms\n",
      "0: 480x640 1 person, 87.3ms\n",
      "0: 480x640 1 person, 86.3ms\n",
      "0: 480x640 1 person, 91.7ms\n",
      "0: 480x640 2 persons, 89.2ms\n",
      "0: 480x640 1 person, 1 tie, 89.0ms\n",
      "0: 480x640 1 person, 1 tie, 90.1ms\n",
      "0: 480x640 1 person, 91.1ms\n",
      "0: 480x640 1 person, 88.3ms\n",
      "0: 480x640 1 person, 1 couch, 100.6ms\n",
      "0: 480x640 1 person, 85.3ms\n",
      "0: 480x640 1 person, 87.3ms\n",
      "0: 480x640 1 person, 1 chair, 89.9ms\n",
      "0: 480x640 1 person, 90.8ms\n",
      "0: 480x640 1 person, 88.0ms\n",
      "0: 480x640 1 person, 84.7ms\n",
      "0: 480x640 1 person, 91.1ms\n",
      "0: 480x640 1 person, 88.4ms\n",
      "0: 480x640 1 person, 88.4ms\n",
      "0: 480x640 1 person, 88.3ms\n",
      "0: 480x640 1 person, 1 dog, 88.5ms\n",
      "0: 480x640 1 person, 87.8ms\n",
      "0: 480x640 1 person, 86.0ms\n",
      "0: 480x640 1 person, 86.6ms\n",
      "0: 480x640 1 person, 89.0ms\n",
      "0: 480x640 1 person, 93.4ms\n",
      "0: 480x640 1 person, 92.6ms\n",
      "0: 480x640 1 person, 86.3ms\n",
      "0: 480x640 1 person, 1 chair, 89.4ms\n",
      "0: 480x640 1 person, 88.4ms\n",
      "0: 480x640 1 person, 90.5ms\n",
      "0: 480x640 1 person, 93.1ms\n",
      "0: 480x640 1 person, 89.4ms\n",
      "0: 480x640 1 person, 86.9ms\n",
      "0: 480x640 1 person, 1 chair, 87.7ms\n",
      "0: 480x640 1 person, 1 chair, 86.5ms\n",
      "0: 480x640 1 person, 1 chair, 87.5ms\n",
      "0: 480x640 1 person, 1 chair, 87.8ms\n",
      "0: 480x640 1 person, 86.7ms\n",
      "0: 480x640 1 person, 85.2ms\n",
      "0: 480x640 1 person, 86.9ms\n",
      "0: 480x640 1 person, 1 chair, 86.3ms\n",
      "0: 480x640 1 person, 1 chair, 88.2ms\n",
      "0: 480x640 1 person, 86.3ms\n",
      "0: 480x640 1 person, 1 chair, 85.6ms\n",
      "0: 480x640 1 person, 1 chair, 87.7ms\n",
      "0: 480x640 1 person, 87.6ms\n",
      "0: 480x640 1 person, 1 cell phone, 87.3ms\n",
      "0: 480x640 1 person, 87.2ms\n",
      "0: 480x640 1 person, 87.7ms\n",
      "0: 480x640 1 person, 88.5ms\n",
      "0: 480x640 1 person, 86.8ms\n",
      "0: 480x640 1 person, 85.1ms\n",
      "0: 480x640 1 person, 1 chair, 87.0ms\n",
      "0: 480x640 1 person, 86.7ms\n",
      "0: 480x640 1 person, 1 couch, 114.4ms\n",
      "0: 480x640 1 person, 1 chair, 1 couch, 123.0ms\n",
      "0: 480x640 1 person, 1 couch, 92.4ms\n",
      "0: 480x640 1 person, 90.0ms\n",
      "0: 480x640 1 person, 86.1ms\n",
      "0: 480x640 1 person, 86.8ms\n",
      "0: 480x640 1 person, 1 couch, 89.1ms\n",
      "0: 480x640 2 persons, 89.1ms\n",
      "0: 480x640 2 persons, 90.5ms\n",
      "0: 480x640 2 persons, 91.8ms\n",
      "0: 480x640 2 persons, 92.5ms\n",
      "0: 480x640 2 persons, 94.8ms\n",
      "0: 480x640 2 persons, 90.9ms\n",
      "0: 480x640 2 persons, 93.0ms\n",
      "0: 480x640 2 persons, 89.9ms\n",
      "0: 480x640 2 persons, 107.0ms\n",
      "0: 480x640 2 persons, 91.5ms\n",
      "0: 480x640 2 persons, 90.7ms\n",
      "0: 480x640 2 persons, 88.1ms\n",
      "0: 480x640 2 persons, 96.8ms\n",
      "0: 480x640 2 persons, 89.6ms\n",
      "0: 480x640 2 persons, 89.5ms\n",
      "0: 480x640 2 persons, 87.4ms\n",
      "0: 480x640 2 persons, 88.3ms\n",
      "0: 480x640 2 persons, 97.2ms\n",
      "0: 480x640 2 persons, 126.5ms\n",
      "0: 480x640 2 persons, 91.8ms\n",
      "0: 480x640 2 persons, 90.9ms\n",
      "0: 480x640 2 persons, 90.2ms\n",
      "0: 480x640 2 persons, 87.2ms\n",
      "0: 480x640 2 persons, 95.5ms\n",
      "0: 480x640 2 persons, 89.8ms\n",
      "0: 480x640 2 persons, 89.6ms\n",
      "0: 480x640 2 persons, 86.9ms\n",
      "0: 480x640 2 persons, 91.7ms\n",
      "0: 480x640 2 persons, 89.9ms\n",
      "0: 480x640 2 persons, 88.6ms\n",
      "0: 480x640 2 persons, 1 cell phone, 88.7ms\n",
      "0: 480x640 2 persons, 1 cell phone, 85.7ms\n",
      "0: 480x640 2 persons, 1 cell phone, 81.9ms\n",
      "0: 480x640 2 persons, 1 cell phone, 88.2ms\n",
      "0: 480x640 2 persons, 1 cell phone, 90.4ms\n",
      "0: 480x640 2 persons, 2 cell phones, 87.0ms\n",
      "0: 480x640 2 persons, 1 cell phone, 82.7ms\n",
      "0: 480x640 2 persons, 1 cell phone, 85.3ms\n",
      "0: 480x640 2 persons, 1 cell phone, 86.1ms\n",
      "0: 480x640 2 persons, 1 cell phone, 87.8ms\n",
      "0: 480x640 2 persons, 1 cell phone, 87.7ms\n",
      "0: 480x640 2 persons, 88.6ms\n",
      "0: 480x640 2 persons, 1 cell phone, 85.4ms\n",
      "0: 480x640 3 persons, 1 cell phone, 88.9ms\n",
      "0: 480x640 2 persons, 1 cell phone, 88.2ms\n",
      "0: 480x640 2 persons, 1 cell phone, 87.6ms\n",
      "0: 480x640 2 persons, 1 cell phone, 86.0ms\n",
      "0: 480x640 2 persons, 1 cell phone, 85.6ms\n",
      "0: 480x640 2 persons, 1 cell phone, 85.5ms\n",
      "0: 480x640 2 persons, 1 cell phone, 88.8ms\n",
      "0: 480x640 2 persons, 1 cell phone, 84.2ms\n",
      "0: 480x640 2 persons, 1 cell phone, 85.4ms\n",
      "0: 480x640 2 persons, 1 cell phone, 83.2ms\n",
      "0: 480x640 2 persons, 1 cell phone, 80.3ms\n",
      "0: 480x640 2 persons, 1 cell phone, 80.9ms\n",
      "0: 480x640 2 persons, 1 cell phone, 82.9ms\n",
      "0: 480x640 2 persons, 1 cell phone, 84.8ms\n",
      "0: 480x640 2 persons, 1 cell phone, 82.5ms\n",
      "0: 480x640 2 persons, 1 cell phone, 81.1ms\n",
      "0: 480x640 2 persons, 1 cell phone, 83.5ms\n",
      "0: 480x640 2 persons, 82.9ms\n",
      "0: 480x640 2 persons, 1 cell phone, 82.3ms\n",
      "0: 480x640 2 persons, 1 cell phone, 81.2ms\n",
      "0: 480x640 2 persons, 1 cell phone, 82.2ms\n",
      "0: 480x640 2 persons, 1 cell phone, 85.2ms\n",
      "0: 480x640 2 persons, 81.4ms\n",
      "0: 480x640 2 persons, 82.8ms\n",
      "0: 480x640 2 persons, 82.0ms\n",
      "0: 480x640 2 persons, 1 cell phone, 83.6ms\n",
      "0: 480x640 2 persons, 1 cell phone, 82.7ms\n",
      "0: 480x640 2 persons, 1 cell phone, 83.6ms\n",
      "0: 480x640 2 persons, 1 cell phone, 81.7ms\n",
      "0: 480x640 2 persons, 1 cell phone, 87.3ms\n",
      "0: 480x640 2 persons, 1 cell phone, 88.6ms\n",
      "0: 480x640 2 persons, 1 cell phone, 87.4ms\n",
      "0: 480x640 2 persons, 1 cell phone, 87.3ms\n",
      "0: 480x640 2 persons, 1 cell phone, 90.1ms\n",
      "0: 480x640 2 persons, 1 cell phone, 99.3ms\n",
      "0: 480x640 2 persons, 1 cell phone, 86.1ms\n",
      "0: 480x640 3 persons, 1 cell phone, 87.0ms\n",
      "0: 480x640 2 persons, 1 cell phone, 87.2ms\n",
      "0: 480x640 2 persons, 1 cell phone, 91.7ms\n",
      "0: 480x640 2 persons, 1 cell phone, 89.2ms\n",
      "0: 480x640 2 persons, 88.8ms\n",
      "0: 480x640 2 persons, 90.7ms\n",
      "0: 480x640 2 persons, 88.0ms\n",
      "0: 480x640 2 persons, 90.6ms\n",
      "0: 480x640 2 persons, 86.7ms\n",
      "0: 480x640 2 persons, 88.1ms\n",
      "0: 480x640 2 persons, 89.7ms\n",
      "0: 480x640 2 persons, 90.7ms\n",
      "0: 480x640 2 persons, 87.0ms\n",
      "0: 480x640 2 persons, 90.1ms\n",
      "0: 480x640 2 persons, 91.2ms\n",
      "0: 480x640 2 persons, 90.1ms\n",
      "0: 480x640 2 persons, 88.0ms\n",
      "0: 480x640 2 persons, 87.3ms\n",
      "0: 480x640 2 persons, 91.5ms\n",
      "0: 480x640 2 persons, 87.1ms\n",
      "0: 480x640 2 persons, 88.2ms\n",
      "0: 480x640 2 persons, 87.2ms\n",
      "0: 480x640 2 persons, 90.9ms\n",
      "0: 480x640 2 persons, 105.0ms\n",
      "0: 480x640 2 persons, 89.8ms\n",
      "0: 480x640 2 persons, 84.8ms\n",
      "0: 480x640 2 persons, 84.8ms\n",
      "0: 480x640 2 persons, 92.7ms\n",
      "0: 480x640 2 persons, 89.9ms\n",
      "0: 480x640 2 persons, 95.4ms\n",
      "0: 480x640 2 persons, 89.7ms\n",
      "0: 480x640 2 persons, 87.4ms\n",
      "0: 480x640 2 persons, 92.2ms\n",
      "0: 480x640 2 persons, 93.5ms\n",
      "0: 480x640 2 persons, 99.3ms\n",
      "0: 480x640 2 persons, 99.3ms\n",
      "0: 480x640 2 persons, 104.7ms\n",
      "0: 480x640 2 persons, 102.1ms\n",
      "0: 480x640 2 persons, 100.7ms\n",
      "0: 480x640 2 persons, 99.7ms\n",
      "0: 480x640 2 persons, 99.4ms\n",
      "0: 480x640 2 persons, 94.0ms\n",
      "0: 480x640 2 persons, 90.0ms\n",
      "0: 480x640 2 persons, 93.1ms\n",
      "0: 480x640 2 persons, 1 cell phone, 91.3ms\n",
      "0: 480x640 2 persons, 1 cell phone, 92.2ms\n",
      "0: 480x640 2 persons, 1 cell phone, 91.1ms\n",
      "0: 480x640 2 persons, 1 cell phone, 93.3ms\n",
      "0: 480x640 2 persons, 1 cell phone, 91.9ms\n",
      "0: 480x640 2 persons, 1 cell phone, 91.9ms\n",
      "0: 480x640 2 persons, 1 tie, 1 cell phone, 92.3ms\n",
      "0: 480x640 2 persons, 1 tie, 1 cell phone, 91.2ms\n",
      "0: 480x640 2 persons, 1 cell phone, 91.8ms\n",
      "0: 480x640 2 persons, 1 tie, 1 cell phone, 89.2ms\n",
      "0: 480x640 2 persons, 1 cell phone, 91.9ms\n",
      "0: 480x640 2 persons, 1 tie, 1 cell phone, 91.4ms\n",
      "0: 480x640 2 persons, 1 cell phone, 91.0ms\n",
      "0: 480x640 2 persons, 1 cell phone, 90.4ms\n",
      "0: 480x640 2 persons, 1 cell phone, 91.3ms\n",
      "0: 480x640 2 persons, 1 cell phone, 94.7ms\n",
      "0: 480x640 2 persons, 1 cell phone, 94.3ms\n",
      "0: 480x640 2 persons, 1 cell phone, 92.7ms\n",
      "0: 480x640 2 persons, 1 cell phone, 93.9ms\n",
      "0: 480x640 2 persons, 1 cell phone, 91.9ms\n",
      "0: 480x640 2 persons, 1 cell phone, 88.7ms\n",
      "0: 480x640 2 persons, 1 cell phone, 89.0ms\n",
      "0: 480x640 2 persons, 1 cell phone, 90.8ms\n",
      "0: 480x640 2 persons, 1 cell phone, 106.2ms\n",
      "0: 480x640 2 persons, 1 cell phone, 86.7ms\n",
      "0: 480x640 2 persons, 1 cell phone, 89.2ms\n",
      "0: 480x640 2 persons, 1 cell phone, 91.7ms\n",
      "0: 480x640 2 persons, 1 cell phone, 94.6ms\n",
      "0: 480x640 2 persons, 1 cell phone, 93.9ms\n",
      "0: 480x640 2 persons, 1 cell phone, 95.7ms\n",
      "0: 480x640 2 persons, 1 cell phone, 93.0ms\n",
      "0: 480x640 2 persons, 1 cell phone, 91.2ms\n",
      "0: 480x640 2 persons, 1 cell phone, 91.9ms\n",
      "0: 480x640 2 persons, 1 cell phone, 92.1ms\n",
      "0: 480x640 2 persons, 1 cell phone, 92.2ms\n",
      "0: 480x640 2 persons, 91.7ms\n",
      "0: 480x640 2 persons, 90.7ms\n",
      "0: 480x640 2 persons, 1 cell phone, 93.3ms\n",
      "0: 480x640 2 persons, 92.1ms\n",
      "0: 480x640 2 persons, 91.5ms\n",
      "0: 480x640 2 persons, 93.9ms\n",
      "0: 480x640 2 persons, 1 cell phone, 94.8ms\n",
      "0: 480x640 2 persons, 1 cell phone, 92.2ms\n",
      "0: 480x640 2 persons, 93.1ms\n",
      "0: 480x640 2 persons, 93.2ms\n",
      "0: 480x640 2 persons, 1 cell phone, 93.2ms\n",
      "0: 480x640 2 persons, 1 cell phone, 92.2ms\n",
      "0: 480x640 2 persons, 1 cell phone, 94.6ms\n",
      "0: 480x640 2 persons, 1 cell phone, 88.9ms\n",
      "0: 480x640 2 persons, 1 cell phone, 91.6ms\n",
      "0: 480x640 2 persons, 1 cell phone, 92.2ms\n",
      "0: 480x640 2 persons, 1 cell phone, 90.9ms\n",
      "0: 480x640 2 persons, 1 cell phone, 91.4ms\n",
      "0: 480x640 2 persons, 1 cell phone, 92.4ms\n",
      "0: 480x640 2 persons, 1 cell phone, 92.5ms\n",
      "0: 480x640 2 persons, 1 cell phone, 90.5ms\n",
      "0: 480x640 2 persons, 1 cell phone, 92.3ms\n",
      "0: 480x640 2 persons, 1 cell phone, 93.4ms\n",
      "0: 480x640 3 persons, 1 cell phone, 93.3ms\n",
      "0: 480x640 3 persons, 1 cell phone, 90.8ms\n",
      "0: 480x640 3 persons, 1 cell phone, 92.3ms\n",
      "0: 480x640 3 persons, 1 cell phone, 92.3ms\n",
      "0: 480x640 2 persons, 1 cell phone, 93.6ms\n",
      "0: 480x640 2 persons, 1 cell phone, 93.6ms\n",
      "0: 480x640 2 persons, 1 cell phone, 91.7ms\n",
      "0: 480x640 2 persons, 1 cell phone, 91.9ms\n",
      "0: 480x640 2 persons, 1 cell phone, 93.1ms\n",
      "0: 480x640 2 persons, 1 cell phone, 92.6ms\n",
      "0: 480x640 2 persons, 1 cell phone, 95.8ms\n",
      "0: 480x640 2 persons, 1 tie, 1 cell phone, 96.9ms\n",
      "0: 480x640 2 persons, 1 tie, 1 cell phone, 95.0ms\n",
      "0: 480x640 2 persons, 1 tie, 1 cell phone, 106.3ms\n",
      "0: 480x640 2 persons, 1 tie, 1 cell phone, 95.0ms\n",
      "0: 480x640 2 persons, 1 cell phone, 95.5ms\n",
      "0: 480x640 2 persons, 1 tie, 1 cell phone, 92.9ms\n",
      "0: 480x640 2 persons, 1 tie, 1 cell phone, 96.8ms\n",
      "0: 480x640 2 persons, 1 tie, 1 cell phone, 100.5ms\n",
      "0: 480x640 2 persons, 1 cell phone, 97.4ms\n",
      "0: 480x640 2 persons, 1 tie, 1 cell phone, 116.6ms\n",
      "0: 480x640 2 persons, 1 cell phone, 92.0ms\n",
      "0: 480x640 2 persons, 1 cell phone, 91.6ms\n",
      "0: 480x640 2 persons, 1 cell phone, 92.3ms\n",
      "0: 480x640 2 persons, 1 cell phone, 90.6ms\n",
      "0: 480x640 2 persons, 1 cell phone, 91.1ms\n",
      "0: 480x640 2 persons, 1 cell phone, 93.1ms\n",
      "0: 480x640 2 persons, 1 cell phone, 94.0ms\n",
      "0: 480x640 2 persons, 1 cell phone, 95.9ms\n",
      "0: 480x640 2 persons, 1 cell phone, 94.0ms\n",
      "0: 480x640 2 persons, 1 cell phone, 95.8ms\n",
      "0: 480x640 2 persons, 1 cell phone, 93.3ms\n",
      "0: 480x640 2 persons, 1 cell phone, 91.2ms\n",
      "0: 480x640 2 persons, 1 cell phone, 92.4ms\n",
      "0: 480x640 2 persons, 1 cell phone, 94.4ms\n",
      "0: 480x640 2 persons, 1 cell phone, 103.8ms\n",
      "0: 480x640 2 persons, 2 cell phones, 93.7ms\n",
      "0: 480x640 2 persons, 1 cell phone, 91.4ms\n",
      "0: 480x640 2 persons, 1 cell phone, 92.6ms\n",
      "0: 480x640 2 persons, 1 cell phone, 92.2ms\n",
      "0: 480x640 2 persons, 1 cell phone, 91.0ms\n",
      "0: 480x640 2 persons, 1 cell phone, 94.6ms\n",
      "0: 480x640 2 persons, 1 cell phone, 91.5ms\n",
      "0: 480x640 2 persons, 1 cell phone, 90.6ms\n",
      "0: 480x640 2 persons, 1 donut, 1 cell phone, 93.6ms\n",
      "0: 480x640 2 persons, 1 cell phone, 95.3ms\n",
      "0: 480x640 2 persons, 1 cell phone, 94.8ms\n",
      "0: 480x640 2 persons, 1 cell phone, 91.4ms\n",
      "0: 480x640 2 persons, 1 cell phone, 92.1ms\n",
      "0: 480x640 2 persons, 1 cell phone, 94.8ms\n",
      "0: 480x640 2 persons, 1 cell phone, 90.7ms\n",
      "0: 480x640 2 persons, 1 cell phone, 90.8ms\n",
      "0: 480x640 2 persons, 1 cell phone, 90.3ms\n",
      "0: 480x640 2 persons, 1 cell phone, 93.2ms\n",
      "0: 480x640 2 persons, 1 cell phone, 92.6ms\n",
      "0: 480x640 2 persons, 2 cell phones, 92.7ms\n",
      "0: 480x640 2 persons, 1 cell phone, 95.8ms\n",
      "0: 480x640 2 persons, 1 cell phone, 96.0ms\n",
      "0: 480x640 2 persons, 1 cell phone, 95.4ms\n",
      "0: 480x640 2 persons, 1 cell phone, 97.9ms\n",
      "0: 480x640 2 persons, 1 cell phone, 92.7ms\n",
      "0: 480x640 2 persons, 1 cell phone, 93.3ms\n",
      "0: 480x640 2 persons, 1 tie, 1 cell phone, 92.7ms\n",
      "0: 480x640 2 persons, 1 tie, 1 cell phone, 92.0ms\n",
      "0: 480x640 2 persons, 1 tie, 1 cell phone, 92.6ms\n",
      "0: 480x640 2 persons, 1 tie, 1 cell phone, 94.1ms\n",
      "0: 480x640 2 persons, 1 cell phone, 91.5ms\n",
      "0: 480x640 2 persons, 1 cell phone, 92.4ms\n",
      "0: 480x640 2 persons, 1 cell phone, 92.0ms\n",
      "0: 480x640 2 persons, 1 cell phone, 92.5ms\n",
      "0: 480x640 2 persons, 1 cell phone, 90.5ms\n",
      "0: 480x640 2 persons, 1 cell phone, 95.4ms\n",
      "0: 480x640 2 persons, 1 cell phone, 94.2ms\n",
      "0: 480x640 2 persons, 1 cell phone, 93.1ms\n",
      "0: 480x640 2 persons, 1 cell phone, 96.2ms\n",
      "0: 480x640 2 persons, 1 cell phone, 94.4ms\n",
      "0: 480x640 2 persons, 1 cell phone, 89.1ms\n",
      "0: 480x640 2 persons, 1 cell phone, 90.1ms\n",
      "0: 480x640 2 persons, 1 cell phone, 92.0ms\n",
      "0: 480x640 2 persons, 1 cell phone, 94.7ms\n",
      "0: 480x640 2 persons, 1 cell phone, 93.7ms\n",
      "0: 480x640 2 persons, 1 cell phone, 96.4ms\n",
      "0: 480x640 2 persons, 1 cell phone, 96.6ms\n",
      "0: 480x640 2 persons, 1 cell phone, 91.2ms\n",
      "0: 480x640 2 persons, 1 cell phone, 92.6ms\n",
      "0: 480x640 2 persons, 1 cell phone, 91.5ms\n",
      "0: 480x640 2 persons, 1 cell phone, 93.7ms\n",
      "0: 480x640 2 persons, 1 cell phone, 92.0ms\n",
      "0: 480x640 2 persons, 1 cell phone, 92.8ms\n",
      "0: 480x640 2 persons, 1 cell phone, 93.8ms\n",
      "0: 480x640 2 persons, 1 cell phone, 94.3ms\n",
      "0: 480x640 2 persons, 1 cell phone, 92.9ms\n",
      "0: 480x640 2 persons, 1 cell phone, 92.1ms\n",
      "0: 480x640 2 persons, 1 cell phone, 90.8ms\n",
      "0: 480x640 2 persons, 1 cell phone, 96.1ms\n",
      "0: 480x640 2 persons, 1 cell phone, 94.3ms\n",
      "0: 480x640 2 persons, 1 cell phone, 92.4ms\n",
      "0: 480x640 2 persons, 1 cell phone, 92.3ms\n",
      "0: 480x640 2 persons, 1 cell phone, 94.5ms\n",
      "0: 480x640 2 persons, 1 cell phone, 94.7ms\n",
      "0: 480x640 2 persons, 1 cell phone, 95.1ms\n",
      "0: 480x640 2 persons, 1 cell phone, 90.7ms\n",
      "0: 480x640 2 persons, 2 cell phones, 92.3ms\n",
      "0: 480x640 2 persons, 1 cell phone, 92.5ms\n",
      "0: 480x640 1 person, 1 cell phone, 93.3ms\n",
      "0: 480x640 1 person, 1 cell phone, 104.1ms\n",
      "0: 480x640 1 person, 1 cell phone, 94.0ms\n",
      "0: 480x640 1 person, 1 cell phone, 95.5ms\n",
      "0: 480x640 3 persons, 1 cell phone, 91.2ms\n",
      "0: 480x640 2 persons, 1 cell phone, 92.6ms\n",
      "0: 480x640 2 persons, 1 cell phone, 92.6ms\n",
      "0: 480x640 2 persons, 1 cell phone, 93.9ms\n",
      "0: 480x640 2 persons, 1 cell phone, 90.2ms\n",
      "0: 480x640 1 person, 1 cell phone, 95.6ms\n",
      "0: 480x640 1 person, 1 cell phone, 93.6ms\n",
      "0: 480x640 1 person, 1 cell phone, 93.9ms\n",
      "0: 480x640 2 persons, 1 cell phone, 92.2ms\n",
      "0: 480x640 1 person, 1 cell phone, 93.8ms\n",
      "0: 480x640 2 persons, 1 cell phone, 91.0ms\n",
      "0: 480x640 2 persons, 1 cell phone, 92.4ms\n",
      "0: 480x640 2 persons, 1 cell phone, 93.8ms\n",
      "0: 480x640 2 persons, 1 cell phone, 92.2ms\n",
      "0: 480x640 2 persons, 1 cell phone, 93.4ms\n",
      "0: 480x640 2 persons, 1 cell phone, 89.4ms\n",
      "0: 480x640 2 persons, 1 cell phone, 91.5ms\n",
      "0: 480x640 1 person, 1 cell phone, 91.4ms\n",
      "0: 480x640 2 persons, 1 cell phone, 92.2ms\n",
      "0: 480x640 1 person, 1 cell phone, 91.5ms\n",
      "0: 480x640 2 persons, 1 cell phone, 88.5ms\n",
      "0: 480x640 1 person, 1 cell phone, 90.1ms\n",
      "0: 480x640 2 persons, 1 cell phone, 93.2ms\n",
      "0: 480x640 1 person, 1 cell phone, 94.4ms\n",
      "0: 480x640 1 person, 1 cell phone, 90.9ms\n",
      "0: 480x640 1 person, 1 cell phone, 94.1ms\n",
      "0: 480x640 1 person, 1 cell phone, 92.9ms\n",
      "0: 480x640 1 person, 1 cell phone, 93.4ms\n",
      "0: 480x640 1 person, 1 cell phone, 92.4ms\n",
      "0: 480x640 1 person, 1 cell phone, 92.6ms\n",
      "0: 480x640 1 person, 1 cell phone, 92.0ms\n",
      "0: 480x640 1 person, 1 cell phone, 89.0ms\n",
      "0: 480x640 1 person, 1 cell phone, 92.8ms\n",
      "0: 480x640 1 person, 1 cell phone, 89.1ms\n",
      "0: 480x640 2 persons, 1 cell phone, 91.8ms\n",
      "0: 480x640 1 person, 1 cell phone, 93.9ms\n",
      "0: 480x640 2 persons, 1 cell phone, 92.2ms\n",
      "0: 480x640 2 persons, 1 cell phone, 93.5ms\n",
      "0: 480x640 2 persons, 1 cell phone, 95.4ms\n",
      "0: 480x640 2 persons, 1 cell phone, 92.6ms\n",
      "0: 480x640 2 persons, 1 cell phone, 91.8ms\n",
      "0: 480x640 2 persons, 1 cell phone, 90.7ms\n",
      "0: 480x640 2 persons, 1 cell phone, 92.5ms\n",
      "0: 480x640 2 persons, 1 cell phone, 92.9ms\n",
      "0: 480x640 2 persons, 1 cell phone, 89.9ms\n",
      "0: 480x640 2 persons, 1 cell phone, 96.1ms\n",
      "0: 480x640 2 persons, 1 cell phone, 93.0ms\n",
      "0: 480x640 2 persons, 1 cell phone, 93.0ms\n",
      "0: 480x640 3 persons, 1 dog, 92.3ms\n",
      "0: 480x640 3 persons, 1 dog, 91.6ms\n",
      "0: 480x640 2 persons, 94.1ms\n",
      "0: 480x640 2 persons, 93.5ms\n",
      "0: 480x640 2 persons, 94.0ms\n",
      "0: 480x640 3 persons, 93.4ms\n",
      "0: 480x640 3 persons, 93.4ms\n",
      "0: 480x640 2 persons, 93.0ms\n",
      "0: 480x640 2 persons, 91.9ms\n",
      "0: 480x640 2 persons, 89.8ms\n",
      "0: 480x640 2 persons, 89.8ms\n",
      "0: 480x640 2 persons, 91.9ms\n",
      "0: 480x640 2 persons, 92.7ms\n",
      "0: 480x640 2 persons, 92.8ms\n",
      "0: 480x640 2 persons, 117.5ms\n",
      "0: 480x640 2 persons, 103.9ms\n",
      "0: 480x640 2 persons, 93.4ms\n",
      "0: 480x640 1 person, 93.1ms\n",
      "0: 480x640 1 person, 1 couch, 92.9ms\n",
      "0: 480x640 1 person, 1 couch, 101.5ms\n",
      "0: 480x640 1 person, 1 couch, 90.6ms\n",
      "0: 480x640 1 person, 1 chair, 1 couch, 90.3ms\n",
      "0: 480x640 1 person, 1 couch, 91.8ms\n",
      "0: 480x640 1 person, 1 couch, 91.9ms\n",
      "0: 480x640 1 person, 91.0ms\n",
      "0: 480x640 1 person, 91.9ms\n",
      "0: 480x640 1 person, 88.9ms\n",
      "0: 480x640 1 person, 92.5ms\n",
      "0: 480x640 1 person, 93.2ms\n",
      "0: 480x640 1 person, 94.3ms\n",
      "0: 480x640 1 person, 1 chair, 1 couch, 95.7ms\n",
      "0: 480x640 1 person, 1 chair, 1 couch, 92.3ms\n",
      "0: 480x640 1 person, 95.6ms\n",
      "0: 480x640 1 person, 1 couch, 96.6ms\n",
      "0: 480x640 1 person, 2 remotes, 94.1ms\n",
      "0: 480x640 1 person, 1 couch, 93.5ms\n",
      "0: 480x640 1 person, 1 chair, 96.7ms\n",
      "0: 480x640 1 person, 1 couch, 93.4ms\n",
      "0: 480x640 1 person, 92.3ms\n",
      "0: 480x640 1 person, 1 couch, 93.2ms\n",
      "0: 480x640 1 person, 91.4ms\n",
      "0: 480x640 1 person, 94.6ms\n",
      "0: 480x640 1 person, 1 couch, 98.5ms\n",
      "0: 480x640 1 person, 91.7ms\n",
      "0: 480x640 1 person, 91.6ms\n",
      "0: 480x640 1 person, 1 chair, 91.5ms\n",
      "0: 480x640 1 person, 1 chair, 91.9ms\n",
      "0: 480x640 1 person, 1 chair, 88.1ms\n",
      "0: 480x640 1 person, 1 chair, 90.3ms\n",
      "0: 480x640 1 person, 1 chair, 90.2ms\n",
      "0: 480x640 1 person, 1 chair, 90.4ms\n",
      "0: 480x640 1 person, 1 chair, 91.5ms\n",
      "0: 480x640 1 person, 1 chair, 94.4ms\n",
      "0: 480x640 1 person, 1 chair, 90.6ms\n",
      "0: 480x640 1 person, 1 chair, 92.4ms\n",
      "0: 480x640 1 person, 1 chair, 90.0ms\n",
      "0: 480x640 1 person, 1 chair, 90.9ms\n",
      "0: 480x640 1 person, 1 chair, 89.5ms\n",
      "0: 480x640 1 person, 1 chair, 89.3ms\n",
      "0: 480x640 1 person, 1 chair, 89.6ms\n",
      "0: 480x640 1 person, 1 chair, 92.3ms\n",
      "0: 480x640 1 person, 1 chair, 90.7ms\n",
      "0: 480x640 1 person, 1 chair, 88.8ms\n",
      "0: 480x640 1 person, 1 chair, 91.2ms\n",
      "0: 480x640 1 person, 1 chair, 92.4ms\n",
      "0: 480x640 1 person, 1 chair, 89.1ms\n",
      "0: 480x640 1 person, 1 chair, 91.8ms\n",
      "0: 480x640 1 person, 1 chair, 91.2ms\n",
      "0: 480x640 1 person, 1 chair, 92.5ms\n",
      "0: 480x640 1 person, 88.1ms\n",
      "0: 480x640 1 person, 91.6ms\n",
      "0: 480x640 1 person, 92.7ms\n",
      "0: 480x640 1 person, 91.0ms\n",
      "0: 480x640 1 person, 90.4ms\n",
      "0: 480x640 1 person, 91.5ms\n",
      "0: 480x640 1 person, 90.6ms\n",
      "0: 480x640 1 person, 92.1ms\n",
      "0: 480x640 1 person, 91.4ms\n",
      "0: 480x640 1 person, 1 chair, 91.9ms\n",
      "0: 480x640 1 person, 1 chair, 90.2ms\n",
      "0: 480x640 1 person, 93.4ms\n",
      "0: 480x640 1 person, 89.9ms\n",
      "0: 480x640 1 person, 1 chair, 91.4ms\n",
      "0: 480x640 1 person, 1 chair, 91.1ms\n",
      "0: 480x640 1 person, 1 chair, 91.9ms\n",
      "0: 480x640 1 person, 1 chair, 88.9ms\n",
      "0: 480x640 1 person, 90.3ms\n",
      "0: 480x640 1 person, 88.7ms\n",
      "0: 480x640 1 person, 90.1ms\n",
      "0: 480x640 1 person, 105.3ms\n",
      "0: 480x640 1 person, 92.2ms\n",
      "0: 480x640 1 person, 93.4ms\n",
      "0: 480x640 1 person, 90.4ms\n",
      "0: 480x640 1 person, 90.6ms\n",
      "0: 480x640 1 person, 92.6ms\n",
      "0: 480x640 1 person, 97.5ms\n",
      "0: 480x640 2 persons, 98.7ms\n",
      "0: 480x640 2 persons, 94.1ms\n",
      "0: 480x640 2 persons, 89.2ms\n",
      "0: 480x640 2 persons, 90.5ms\n",
      "0: 480x640 2 persons, 91.0ms\n",
      "0: 480x640 2 persons, 91.4ms\n",
      "0: 480x640 2 persons, 94.1ms\n",
      "0: 480x640 2 persons, 1 cell phone, 91.2ms\n",
      "0: 480x640 2 persons, 92.9ms\n",
      "0: 480x640 2 persons, 93.4ms\n",
      "0: 480x640 2 persons, 95.3ms\n",
      "0: 480x640 2 persons, 92.8ms\n",
      "0: 480x640 2 persons, 92.7ms\n",
      "0: 480x640 2 persons, 92.6ms\n",
      "0: 480x640 2 persons, 93.3ms\n",
      "0: 480x640 2 persons, 1 dog, 91.6ms\n",
      "0: 480x640 2 persons, 1 dog, 92.2ms\n",
      "0: 480x640 2 persons, 94.7ms\n",
      "0: 480x640 2 persons, 1 teddy bear, 91.4ms\n",
      "0: 480x640 2 persons, 94.6ms\n",
      "0: 480x640 2 persons, 94.5ms\n",
      "0: 480x640 2 persons, 92.0ms\n",
      "0: 480x640 2 persons, 91.4ms\n",
      "0: 480x640 2 persons, 92.2ms\n",
      "0: 480x640 2 persons, 91.2ms\n",
      "0: 480x640 2 persons, 94.8ms\n",
      "0: 480x640 2 persons, 93.0ms\n",
      "0: 480x640 2 persons, 94.1ms\n",
      "0: 480x640 2 persons, 92.9ms\n",
      "0: 480x640 2 persons, 92.1ms\n",
      "0: 480x640 2 persons, 92.1ms\n",
      "0: 480x640 2 persons, 92.3ms\n",
      "0: 480x640 2 persons, 90.8ms\n",
      "0: 480x640 2 persons, 89.6ms\n",
      "0: 480x640 2 persons, 90.9ms\n",
      "0: 480x640 2 persons, 89.6ms\n",
      "0: 480x640 2 persons, 90.4ms\n",
      "0: 480x640 2 persons, 92.2ms\n",
      "0: 480x640 2 persons, 90.6ms\n",
      "0: 480x640 2 persons, 90.7ms\n",
      "0: 480x640 2 persons, 90.8ms\n",
      "0: 480x640 2 persons, 93.1ms\n",
      "0: 480x640 2 persons, 91.1ms\n",
      "0: 480x640 2 persons, 90.3ms\n",
      "0: 480x640 2 persons, 1 teddy bear, 91.0ms\n",
      "0: 480x640 2 persons, 92.2ms\n",
      "0: 480x640 2 persons, 93.6ms\n",
      "0: 480x640 2 persons, 91.7ms\n",
      "0: 480x640 2 persons, 95.4ms\n",
      "0: 480x640 2 persons, 92.9ms\n",
      "0: 480x640 2 persons, 93.3ms\n",
      "0: 480x640 2 persons, 95.7ms\n",
      "0: 480x640 2 persons, 92.8ms\n",
      "0: 480x640 3 persons, 90.0ms\n",
      "0: 480x640 2 persons, 92.6ms\n",
      "0: 480x640 2 persons, 91.9ms\n",
      "0: 480x640 2 persons, 90.6ms\n",
      "0: 480x640 2 persons, 92.5ms\n",
      "0: 480x640 2 persons, 92.0ms\n",
      "0: 480x640 2 persons, 91.5ms\n",
      "0: 480x640 2 persons, 94.0ms\n",
      "0: 480x640 2 persons, 94.1ms\n",
      "0: 480x640 2 persons, 94.2ms\n",
      "0: 480x640 2 persons, 102.6ms\n",
      "0: 480x640 2 persons, 93.8ms\n",
      "0: 480x640 2 persons, 92.8ms\n",
      "0: 480x640 1 person, 1 dog, 93.4ms\n",
      "0: 480x640 1 person, 1 dog, 92.2ms\n",
      "0: 480x640 2 persons, 1 dog, 116.7ms\n",
      "0: 480x640 2 persons, 91.5ms\n",
      "0: 480x640 2 persons, 91.5ms\n",
      "0: 480x640 2 persons, 91.7ms\n",
      "0: 480x640 2 persons, 92.8ms\n",
      "0: 480x640 2 persons, 93.0ms\n",
      "0: 480x640 2 persons, 92.6ms\n",
      "0: 480x640 2 persons, 93.9ms\n",
      "0: 480x640 2 persons, 93.7ms\n",
      "0: 480x640 2 persons, 94.6ms\n",
      "0: 480x640 2 persons, 93.6ms\n",
      "0: 480x640 2 persons, 91.7ms\n",
      "0: 480x640 2 persons, 91.8ms\n",
      "0: 480x640 2 persons, 90.5ms\n",
      "0: 480x640 2 persons, 90.3ms\n",
      "0: 480x640 2 persons, 91.9ms\n",
      "0: 480x640 2 persons, 1 tie, 90.0ms\n",
      "0: 480x640 2 persons, 1 tie, 89.2ms\n",
      "0: 480x640 2 persons, 92.9ms\n",
      "0: 480x640 2 persons, 95.7ms\n",
      "0: 480x640 2 persons, 92.2ms\n",
      "0: 480x640 2 persons, 93.8ms\n",
      "0: 480x640 2 persons, 92.4ms\n",
      "0: 480x640 2 persons, 92.8ms\n",
      "0: 480x640 2 persons, 1 tie, 91.7ms\n",
      "0: 480x640 2 persons, 1 tie, 91.8ms\n",
      "0: 480x640 2 persons, 1 cell phone, 92.5ms\n",
      "0: 480x640 2 persons, 1 cell phone, 93.4ms\n",
      "0: 480x640 2 persons, 1 cell phone, 92.4ms\n",
      "0: 480x640 2 persons, 1 cell phone, 93.4ms\n",
      "0: 480x640 4 persons, 1 cell phone, 92.6ms\n",
      "0: 480x640 2 persons, 1 cell phone, 90.0ms\n",
      "0: 480x640 2 persons, 1 cell phone, 92.0ms\n",
      "0: 480x640 2 persons, 1 cell phone, 95.5ms\n",
      "0: 480x640 2 persons, 1 scissors, 92.2ms\n",
      "0: 480x640 2 persons, 90.2ms\n",
      "0: 480x640 2 persons, 94.1ms\n",
      "0: 480x640 2 persons, 95.3ms\n",
      "0: 480x640 2 persons, 94.4ms\n",
      "0: 480x640 2 persons, 95.4ms\n",
      "0: 480x640 2 persons, 1 tie, 93.5ms\n",
      "0: 480x640 2 persons, 1 tie, 92.7ms\n",
      "0: 480x640 2 persons, 1 tie, 92.8ms\n",
      "0: 480x640 2 persons, 94.0ms\n",
      "0: 480x640 2 persons, 88.7ms\n",
      "0: 480x640 2 persons, 1 tie, 90.5ms\n",
      "0: 480x640 2 persons, 100.1ms\n",
      "0: 480x640 2 persons, 1 tie, 93.0ms\n",
      "0: 480x640 2 persons, 91.2ms\n",
      "0: 480x640 2 persons, 1 tie, 92.2ms\n",
      "0: 480x640 2 persons, 1 tie, 91.3ms\n",
      "0: 480x640 2 persons, 92.0ms\n",
      "0: 480x640 2 persons, 92.8ms\n",
      "0: 480x640 2 persons, 91.0ms\n",
      "0: 480x640 2 persons, 94.3ms\n",
      "0: 480x640 2 persons, 91.6ms\n",
      "0: 480x640 2 persons, 94.2ms\n",
      "0: 480x640 2 persons, 93.8ms\n",
      "0: 480x640 2 persons, 99.2ms\n",
      "0: 480x640 3 persons, 91.3ms\n",
      "0: 480x640 3 persons, 90.3ms\n",
      "0: 480x640 3 persons, 91.0ms\n",
      "0: 480x640 3 persons, 91.7ms\n",
      "0: 480x640 3 persons, 91.5ms\n",
      "0: 480x640 3 persons, 94.2ms\n",
      "0: 480x640 3 persons, 98.6ms\n",
      "0: 480x640 3 persons, 90.7ms\n",
      "0: 480x640 3 persons, 91.6ms\n",
      "0: 480x640 3 persons, 92.3ms\n",
      "0: 480x640 3 persons, 1 dog, 93.7ms\n",
      "0: 480x640 3 persons, 92.5ms\n",
      "0: 480x640 3 persons, 92.1ms\n",
      "0: 480x640 3 persons, 88.9ms\n",
      "0: 480x640 3 persons, 90.5ms\n",
      "0: 480x640 3 persons, 91.9ms\n",
      "0: 480x640 3 persons, 92.3ms\n",
      "0: 480x640 2 persons, 90.0ms\n",
      "0: 480x640 2 persons, 90.0ms\n",
      "0: 480x640 2 persons, 93.0ms\n",
      "0: 480x640 2 persons, 90.6ms\n",
      "0: 480x640 2 persons, 93.5ms\n",
      "0: 480x640 2 persons, 88.0ms\n",
      "0: 480x640 2 persons, 89.6ms\n",
      "0: 480x640 2 persons, 91.9ms\n",
      "0: 480x640 2 persons, 91.5ms\n",
      "0: 480x640 2 persons, 93.5ms\n",
      "0: 480x640 2 persons, 90.9ms\n",
      "0: 480x640 2 persons, 91.9ms\n",
      "0: 480x640 2 persons, 93.7ms\n",
      "0: 480x640 2 persons, 94.3ms\n",
      "0: 480x640 2 persons, 93.9ms\n",
      "0: 480x640 2 persons, 90.8ms\n",
      "0: 480x640 3 persons, 92.0ms\n",
      "0: 480x640 3 persons, 90.3ms\n",
      "0: 480x640 3 persons, 89.0ms\n",
      "0: 480x640 3 persons, 93.6ms\n",
      "0: 480x640 3 persons, 93.5ms\n",
      "0: 480x640 3 persons, 90.6ms\n",
      "0: 480x640 3 persons, 92.9ms\n",
      "0: 480x640 3 persons, 94.2ms\n",
      "0: 480x640 3 persons, 92.2ms\n",
      "0: 480x640 3 persons, 92.7ms\n",
      "0: 480x640 3 persons, 92.3ms\n",
      "0: 480x640 3 persons, 92.3ms\n",
      "0: 480x640 3 persons, 93.6ms\n",
      "0: 480x640 3 persons, 92.5ms\n",
      "0: 480x640 3 persons, 92.4ms\n",
      "0: 480x640 3 persons, 90.5ms\n",
      "0: 480x640 3 persons, 91.4ms\n",
      "0: 480x640 3 persons, 91.8ms\n",
      "0: 480x640 3 persons, 91.1ms\n",
      "0: 480x640 3 persons, 98.0ms\n",
      "0: 480x640 3 persons, 107.5ms\n",
      "0: 480x640 3 persons, 109.1ms\n",
      "0: 480x640 3 persons, 106.9ms\n",
      "0: 480x640 3 persons, 95.6ms\n",
      "0: 480x640 3 persons, 93.5ms\n",
      "0: 480x640 3 persons, 91.5ms\n",
      "0: 480x640 3 persons, 94.4ms\n",
      "0: 480x640 3 persons, 89.9ms\n",
      "0: 480x640 3 persons, 91.6ms\n",
      "0: 480x640 3 persons, 91.7ms\n",
      "0: 480x640 3 persons, 91.0ms\n",
      "0: 480x640 3 persons, 91.5ms\n",
      "0: 480x640 3 persons, 89.5ms\n",
      "0: 480x640 3 persons, 92.9ms\n",
      "0: 480x640 5 persons, 93.2ms\n",
      "0: 480x640 4 persons, 92.2ms\n",
      "0: 480x640 4 persons, 93.0ms\n",
      "0: 480x640 3 persons, 93.7ms\n",
      "0: 480x640 3 persons, 96.7ms\n",
      "0: 480x640 3 persons, 94.5ms\n",
      "0: 480x640 3 persons, 90.8ms\n",
      "0: 480x640 2 persons, 91.9ms\n",
      "0: 480x640 2 persons, 91.6ms\n",
      "0: 480x640 2 persons, 101.8ms\n",
      "0: 480x640 2 persons, 94.7ms\n",
      "0: 480x640 2 persons, 94.7ms\n",
      "0: 480x640 2 persons, 92.2ms\n",
      "0: 480x640 2 persons, 92.5ms\n",
      "0: 480x640 2 persons, 1 chair, 93.8ms\n",
      "0: 480x640 2 persons, 1 chair, 1 laptop, 90.7ms\n",
      "0: 480x640 2 persons, 1 chair, 1 laptop, 92.8ms\n",
      "0: 480x640 2 persons, 1 chair, 1 laptop, 95.5ms\n",
      "0: 480x640 2 persons, 90.8ms\n",
      "0: 480x640 2 persons, 92.0ms\n",
      "0: 480x640 2 persons, 91.4ms\n",
      "0: 480x640 2 persons, 93.1ms\n",
      "0: 480x640 2 persons, 1 suitcase, 92.1ms\n",
      "0: 480x640 2 persons, 92.8ms\n",
      "0: 480x640 2 persons, 94.8ms\n",
      "0: 480x640 2 persons, 1 cell phone, 95.0ms\n",
      "0: 480x640 2 persons, 120.7ms\n",
      "0: 480x640 2 persons, 93.8ms\n",
      "0: 480x640 2 persons, 92.2ms\n",
      "0: 480x640 2 persons, 90.6ms\n",
      "0: 480x640 2 persons, 1 chair, 92.9ms\n",
      "0: 480x640 2 persons, 90.9ms\n",
      "0: 480x640 2 persons, 93.7ms\n",
      "0: 480x640 2 persons, 1 chair, 89.1ms\n",
      "0: 480x640 2 persons, 1 chair, 92.0ms\n",
      "0: 480x640 2 persons, 1 chair, 93.7ms\n",
      "0: 480x640 2 persons, 92.9ms\n",
      "0: 480x640 2 persons, 91.0ms\n",
      "0: 480x640 2 persons, 93.0ms\n",
      "0: 480x640 2 persons, 93.4ms\n",
      "0: 480x640 2 persons, 91.8ms\n",
      "0: 480x640 4 persons, 92.6ms\n",
      "0: 480x640 5 persons, 92.9ms\n",
      "0: 480x640 4 persons, 1 cell phone, 90.6ms\n",
      "0: 480x640 5 persons, 91.0ms\n",
      "0: 480x640 2 persons, 1 cell phone, 91.4ms\n",
      "0: 480x640 5 persons, 87.5ms\n",
      "0: 480x640 2 persons, 2 cell phones, 90.1ms\n",
      "0: 480x640 2 persons, 1 remote, 88.4ms\n",
      "0: 480x640 3 persons, 2 cell phones, 90.4ms\n",
      "0: 480x640 3 persons, 1 tie, 2 cell phones, 91.3ms\n",
      "0: 480x640 3 persons, 93.5ms\n",
      "0: 480x640 3 persons, 1 remote, 90.6ms\n",
      "0: 480x640 3 persons, 1 remote, 90.2ms\n",
      "0: 480x640 2 persons, 1 remote, 2 cell phones, 98.5ms\n",
      "0: 480x640 3 persons, 1 remote, 1 cell phone, 93.8ms\n",
      "0: 480x640 3 persons, 2 cell phones, 90.8ms\n",
      "0: 480x640 2 persons, 1 cell phone, 91.5ms\n",
      "0: 480x640 3 persons, 1 cell phone, 92.2ms\n",
      "0: 480x640 3 persons, 89.8ms\n",
      "0: 480x640 2 persons, 1 cell phone, 93.4ms\n",
      "0: 480x640 2 persons, 96.1ms\n",
      "0: 480x640 2 persons, 1 cell phone, 92.6ms\n",
      "0: 480x640 1 person, 1 cell phone, 91.0ms\n",
      "0: 480x640 2 persons, 1 cell phone, 89.8ms\n",
      "0: 480x640 1 person, 1 cell phone, 90.2ms\n",
      "0: 480x640 1 person, 1 cell phone, 91.5ms\n",
      "0: 480x640 1 person, 1 cell phone, 88.6ms\n",
      "0: 480x640 2 persons, 1 cell phone, 92.1ms\n",
      "0: 480x640 2 persons, 89.9ms\n",
      "0: 480x640 2 persons, 1 tie, 101.3ms\n",
      "0: 480x640 2 persons, 94.1ms\n",
      "0: 480x640 2 persons, 90.8ms\n",
      "0: 480x640 2 persons, 92.5ms\n",
      "0: 480x640 2 persons, 92.4ms\n",
      "0: 480x640 2 persons, 94.2ms\n",
      "0: 480x640 2 persons, 93.8ms\n",
      "0: 480x640 2 persons, 93.5ms\n",
      "0: 480x640 2 persons, 94.5ms\n",
      "0: 480x640 2 persons, 95.1ms\n",
      "0: 480x640 2 persons, 89.8ms\n",
      "0: 480x640 2 persons, 90.9ms\n",
      "0: 480x640 2 persons, 91.1ms\n",
      "0: 480x640 2 persons, 90.3ms\n",
      "0: 480x640 2 persons, 92.3ms\n",
      "0: 480x640 2 persons, 93.4ms\n",
      "0: 480x640 2 persons, 91.6ms\n",
      "0: 480x640 2 persons, 1 cat, 93.4ms\n",
      "0: 480x640 2 persons, 93.5ms\n",
      "0: 480x640 2 persons, 1 dog, 93.7ms\n",
      "0: 480x640 2 persons, 95.9ms\n",
      "0: 480x640 2 persons, 95.7ms\n",
      "0: 480x640 2 persons, 91.9ms\n",
      "0: 480x640 1 person, 1 cat, 94.3ms\n",
      "0: 480x640 3 persons, 1 cat, 92.2ms\n",
      "0: 480x640 2 persons, 92.7ms\n",
      "0: 480x640 1 person, 89.6ms\n",
      "0: 480x640 1 person, 90.1ms\n",
      "0: 480x640 2 persons, 93.8ms\n",
      "0: 480x640 2 persons, 93.3ms\n",
      "0: 480x640 1 person, 93.0ms\n",
      "0: 480x640 2 persons, 1 horse, 1 cow, 92.5ms\n",
      "0: 480x640 3 persons, 91.4ms\n",
      "0: 480x640 3 persons, 92.0ms\n",
      "0: 480x640 3 persons, 93.1ms\n",
      "0: 480x640 2 persons, 95.5ms\n",
      "0: 480x640 2 persons, 1 horse, 93.8ms\n",
      "0: 480x640 3 persons, 91.3ms\n",
      "0: 480x640 2 persons, 89.9ms\n",
      "0: 480x640 3 persons, 91.0ms\n",
      "0: 480x640 1 person, 1 dog, 91.7ms\n",
      "0: 480x640 2 persons, 1 dog, 90.4ms\n",
      "0: 480x640 2 persons, 91.7ms\n",
      "0: 480x640 1 person, 1 dog, 93.1ms\n",
      "0: 480x640 2 persons, 1 dog, 89.7ms\n",
      "0: 480x640 3 persons, 91.7ms\n",
      "0: 480x640 2 persons, 91.9ms\n",
      "0: 480x640 4 persons, 89.6ms\n",
      "0: 480x640 3 persons, 91.3ms\n",
      "0: 480x640 5 persons, 93.5ms\n",
      "0: 480x640 4 persons, 91.8ms\n",
      "0: 480x640 3 persons, 93.7ms\n",
      "0: 480x640 3 persons, 88.7ms\n",
      "0: 480x640 4 persons, 93.9ms\n",
      "0: 480x640 2 persons, 90.2ms\n",
      "0: 480x640 3 persons, 93.9ms\n",
      "0: 480x640 2 persons, 91.4ms\n",
      "0: 480x640 2 persons, 101.2ms\n",
      "0: 480x640 2 persons, 93.8ms\n",
      "0: 480x640 2 persons, 94.0ms\n",
      "0: 480x640 2 persons, 92.3ms\n",
      "0: 480x640 2 persons, 90.3ms\n",
      "0: 480x640 3 persons, 91.3ms\n",
      "0: 480x640 3 persons, 92.1ms\n",
      "0: 480x640 3 persons, 1 tie, 90.3ms\n",
      "0: 480x640 3 persons, 93.4ms\n",
      "0: 480x640 3 persons, 93.7ms\n",
      "0: 480x640 3 persons, 93.8ms\n",
      "0: 480x640 1 person, 94.5ms\n",
      "0: 480x640 1 person, 94.0ms\n",
      "0: 480x640 1 person, 95.9ms\n",
      "0: 480x640 2 persons, 90.6ms\n",
      "0: 480x640 2 persons, 92.8ms\n",
      "0: 480x640 2 persons, 92.2ms\n",
      "0: 480x640 1 person, 93.8ms\n",
      "0: 480x640 1 person, 91.6ms\n",
      "0: 480x640 1 person, 1 tie, 94.3ms\n",
      "0: 480x640 1 person, 98.9ms\n",
      "0: 480x640 2 persons, 1 tie, 92.7ms\n",
      "0: 480x640 2 persons, 1 tie, 94.7ms\n",
      "0: 480x640 2 persons, 89.8ms\n",
      "0: 480x640 2 persons, 92.1ms\n",
      "0: 480x640 2 persons, 91.3ms\n",
      "0: 480x640 2 persons, 93.6ms\n",
      "0: 480x640 2 persons, 1 cell phone, 94.5ms\n",
      "0: 480x640 1 person, 1 chair, 89.5ms\n",
      "0: 480x640 1 person, 93.3ms\n",
      "0: 480x640 2 persons, 92.1ms\n",
      "0: 480x640 2 persons, 1 chair, 92.7ms\n",
      "0: 480x640 2 persons, 1 chair, 91.9ms\n",
      "0: 480x640 2 persons, 1 chair, 91.4ms\n",
      "0: 480x640 1 person, 1 dog, 93.0ms\n",
      "0: 480x640 2 persons, 1 chair, 1 remote, 92.3ms\n",
      "0: 480x640 3 persons, 110.3ms\n",
      "0: 480x640 2 persons, 1 chair, 107.6ms\n",
      "0: 480x640 2 persons, 107.9ms\n",
      "0: 480x640 3 persons, 106.1ms\n",
      "0: 480x640 2 persons, 94.1ms\n",
      "0: 480x640 2 persons, 92.7ms\n",
      "0: 480x640 3 persons, 1 chair, 92.5ms\n",
      "0: 480x640 2 persons, 1 baseball bat, 2 chairs, 92.7ms\n",
      "0: 480x640 2 persons, 1 baseball bat, 2 chairs, 95.3ms\n",
      "0: 480x640 1 person, 1 baseball bat, 1 chair, 89.6ms\n",
      "0: 480x640 2 persons, 1 baseball bat, 1 chair, 91.7ms\n",
      "0: 480x640 2 persons, 1 baseball bat, 1 chair, 94.3ms\n",
      "0: 480x640 2 persons, 1 baseball bat, 122.0ms\n",
      "0: 480x640 3 persons, 93.7ms\n",
      "0: 480x640 2 persons, 1 chair, 1 remote, 93.0ms\n",
      "0: 480x640 3 persons, 1 chair, 92.2ms\n",
      "0: 480x640 3 persons, 1 chair, 91.8ms\n",
      "0: 480x640 1 person, 89.9ms\n",
      "0: 480x640 3 persons, 94.2ms\n",
      "0: 480x640 3 persons, 101.9ms\n",
      "0: 480x640 2 persons, 95.4ms\n",
      "0: 480x640 2 persons, 94.5ms\n",
      "0: 480x640 1 person, 1 cat, 92.7ms\n",
      "0: 480x640 2 persons, 92.5ms\n",
      "0: 480x640 2 persons, 92.0ms\n",
      "0: 480x640 3 persons, 94.4ms\n",
      "0: 480x640 2 persons, 92.2ms\n",
      "0: 480x640 4 persons, 93.3ms\n",
      "0: 480x640 4 persons, 93.7ms\n",
      "0: 480x640 4 persons, 91.6ms\n",
      "0: 480x640 3 persons, 87.5ms\n",
      "0: 480x640 2 persons, 90.2ms\n",
      "0: 480x640 2 persons, 93.2ms\n",
      "0: 480x640 2 persons, 95.3ms\n",
      "0: 480x640 3 persons, 92.9ms\n",
      "0: 480x640 3 persons, 94.1ms\n",
      "0: 480x640 3 persons, 95.2ms\n",
      "0: 480x640 2 persons, 94.9ms\n",
      "0: 480x640 2 persons, 94.9ms\n",
      "0: 480x640 2 persons, 93.9ms\n",
      "0: 480x640 2 persons, 91.3ms\n",
      "0: 480x640 2 persons, 92.6ms\n",
      "0: 480x640 2 persons, 1 couch, 93.7ms\n",
      "0: 480x640 2 persons, 1 couch, 92.6ms\n",
      "0: 480x640 2 persons, 1 chair, 1 couch, 91.4ms\n",
      "0: 480x640 1 person, 1 couch, 95.0ms\n",
      "0: 480x640 2 persons, 95.0ms\n",
      "0: 480x640 1 person, 92.1ms\n",
      "0: 480x640 2 persons, 94.0ms\n",
      "0: 480x640 2 persons, 91.3ms\n",
      "0: 480x640 4 persons, 1 chair, 91.7ms\n",
      "0: 480x640 3 persons, 1 donut, 92.2ms\n",
      "0: 480x640 3 persons, 91.1ms\n",
      "0: 480x640 2 persons, 91.4ms\n",
      "0: 480x640 3 persons, 93.6ms\n",
      "0: 480x640 3 persons, 92.9ms\n",
      "0: 480x640 3 persons, 95.1ms\n",
      "0: 480x640 2 persons, 94.7ms\n",
      "0: 480x640 2 persons, 91.8ms\n",
      "0: 480x640 4 persons, 91.6ms\n",
      "0: 480x640 3 persons, 91.3ms\n",
      "0: 480x640 4 persons, 90.7ms\n",
      "0: 480x640 5 persons, 91.0ms\n",
      "0: 480x640 4 persons, 95.0ms\n",
      "0: 480x640 4 persons, 1 donut, 91.4ms\n",
      "0: 480x640 5 persons, 2 donuts, 1 toothbrush, 92.1ms\n",
      "0: 480x640 2 persons, 92.0ms\n",
      "0: 480x640 2 persons, 92.2ms\n",
      "0: 480x640 1 person, 1 cat, 1 toothbrush, 91.6ms\n",
      "0: 480x640 1 person, 1 cat, 91.7ms\n",
      "0: 480x640 2 persons, 1 dog, 1 toothbrush, 106.0ms\n",
      "0: 480x640 2 persons, 1 dog, 102.8ms\n",
      "0: 480x640 3 persons, 1 baseball bat, 110.3ms\n",
      "0: 480x640 3 persons, 111.3ms\n",
      "0: 480x640 4 persons, 1 baseball bat, 106.1ms\n",
      "0: 480x640 5 persons, 1 dog, 1 baseball bat, 112.1ms\n",
      "0: 480x640 5 persons, 1 baseball bat, 120.3ms\n",
      "0: 480x640 5 persons, 1 dog, 1 baseball bat, 91.8ms\n",
      "0: 480x640 5 persons, 1 dog, 1 baseball bat, 91.7ms\n",
      "0: 480x640 4 persons, 1 baseball bat, 95.4ms\n",
      "0: 480x640 5 persons, 1 baseball bat, 92.4ms\n",
      "0: 480x640 3 persons, 1 dog, 1 baseball bat, 93.4ms\n",
      "0: 480x640 5 persons, 1 baseball bat, 91.7ms\n",
      "0: 480x640 4 persons, 1 baseball bat, 92.5ms\n",
      "0: 480x640 3 persons, 1 baseball bat, 94.9ms\n",
      "0: 480x640 3 persons, 1 baseball bat, 94.2ms\n",
      "0: 480x640 3 persons, 1 baseball bat, 92.5ms\n",
      "0: 480x640 3 persons, 1 baseball bat, 91.4ms\n",
      "0: 480x640 2 persons, 1 dog, 1 baseball bat, 93.2ms\n",
      "0: 480x640 1 person, 91.8ms\n",
      "0: 480x640 2 persons, 94.3ms\n",
      "0: 480x640 1 person, 92.0ms\n",
      "0: 480x640 3 persons, 1 chair, 94.9ms\n",
      "0: 480x640 2 persons, 1 chair, 104.3ms\n",
      "0: 480x640 2 persons, 108.1ms\n",
      "0: 480x640 2 persons, 92.7ms\n",
      "0: 480x640 2 persons, 91.5ms\n",
      "0: 480x640 2 persons, 89.6ms\n",
      "0: 480x640 2 persons, 93.6ms\n",
      "0: 480x640 2 persons, 92.1ms\n",
      "0: 480x640 3 persons, 90.4ms\n",
      "0: 480x640 3 persons, 92.4ms\n",
      "0: 480x640 3 persons, 96.3ms\n",
      "0: 480x640 4 persons, 102.9ms\n",
      "0: 480x640 2 persons, 100.7ms\n",
      "0: 480x640 3 persons, 101.0ms\n",
      "0: 480x640 2 persons, 106.0ms\n",
      "0: 480x640 3 persons, 105.7ms\n",
      "0: 480x640 2 persons, 104.0ms\n",
      "0: 480x640 1 person, 105.2ms\n",
      "0: 480x640 1 person, 100.7ms\n",
      "0: 480x640 1 person, 99.8ms\n",
      "0: 480x640 1 person, 99.8ms\n",
      "0: 480x640 1 person, 99.4ms\n",
      "0: 480x640 1 person, 98.9ms\n",
      "0: 480x640 1 person, 1 chair, 96.3ms\n",
      "0: 480x640 1 person, 93.7ms\n",
      "0: 480x640 1 person, 91.0ms\n",
      "0: 480x640 1 person, 93.4ms\n",
      "0: 480x640 1 person, 104.4ms\n",
      "0: 480x640 2 persons, 111.1ms\n",
      "0: 480x640 3 persons, 106.2ms\n",
      "0: 480x640 2 persons, 103.4ms\n",
      "0: 480x640 2 persons, 100.8ms\n",
      "0: 480x640 2 persons, 99.6ms\n",
      "0: 480x640 2 persons, 99.9ms\n",
      "0: 480x640 2 persons, 102.4ms\n",
      "0: 480x640 2 persons, 102.0ms\n",
      "0: 480x640 2 persons, 100.6ms\n",
      "0: 480x640 2 persons, 101.1ms\n",
      "0: 480x640 2 persons, 99.5ms\n",
      "0: 480x640 2 persons, 99.5ms\n",
      "0: 480x640 2 persons, 98.5ms\n",
      "0: 480x640 2 persons, 98.2ms\n",
      "0: 480x640 2 persons, 96.8ms\n",
      "0: 480x640 2 persons, 94.5ms\n",
      "0: 480x640 2 persons, 95.5ms\n",
      "0: 480x640 2 persons, 93.6ms\n",
      "0: 480x640 2 persons, 105.9ms\n",
      "0: 480x640 2 persons, 103.3ms\n",
      "0: 480x640 2 persons, 102.7ms\n",
      "0: 480x640 2 persons, 102.4ms\n",
      "0: 480x640 2 persons, 97.2ms\n",
      "0: 480x640 2 persons, 99.7ms\n",
      "0: 480x640 2 persons, 102.6ms\n",
      "0: 480x640 2 persons, 98.1ms\n",
      "0: 480x640 2 persons, 101.6ms\n",
      "0: 480x640 2 persons, 96.6ms\n",
      "0: 480x640 2 persons, 95.5ms\n",
      "0: 480x640 2 persons, 99.6ms\n",
      "0: 480x640 2 persons, 97.0ms\n",
      "0: 480x640 2 persons, 92.7ms\n",
      "0: 480x640 2 persons, 90.7ms\n",
      "0: 480x640 2 persons, 176.4ms\n",
      "0: 480x640 2 persons, 119.7ms\n",
      "0: 480x640 2 persons, 113.1ms\n",
      "0: 480x640 2 persons, 109.0ms\n",
      "0: 480x640 2 persons, 107.5ms\n",
      "0: 480x640 2 persons, 102.3ms\n",
      "0: 480x640 2 persons, 106.5ms\n",
      "0: 480x640 2 persons, 101.2ms\n",
      "0: 480x640 2 persons, 98.2ms\n",
      "0: 480x640 2 persons, 100.7ms\n",
      "0: 480x640 2 persons, 95.2ms\n",
      "0: 480x640 2 persons, 94.3ms\n"
     ]
    },
    {
     "ename": "KeyboardInterrupt",
     "evalue": "",
     "output_type": "error",
     "traceback": [
      "\u001b[1;31m---------------------------------------------------------------------------\u001b[0m",
      "\u001b[1;31mKeyboardInterrupt\u001b[0m                         Traceback (most recent call last)",
      "Cell \u001b[1;32mIn[3], line 1\u001b[0m\n\u001b[1;32m----> 1\u001b[0m \u001b[43mwd\u001b[49m\u001b[38;5;241;43m.\u001b[39;49m\u001b[43mpredict\u001b[49m\u001b[43m(\u001b[49m\u001b[43msource\u001b[49m\u001b[38;5;241;43m=\u001b[39;49m\u001b[38;5;241;43m0\u001b[39;49m\u001b[43m,\u001b[49m\u001b[43m \u001b[49m\u001b[43mshow\u001b[49m\u001b[38;5;241;43m=\u001b[39;49m\u001b[38;5;28;43;01mTrue\u001b[39;49;00m\u001b[43m)\u001b[49m\n",
      "File \u001b[1;32mc:\\Users\\kusha\\OneDrive\\Desktop\\Lib\\site-packages\\ultralytics\\engine\\model.py:555\u001b[0m, in \u001b[0;36mModel.predict\u001b[1;34m(self, source, stream, predictor, **kwargs)\u001b[0m\n\u001b[0;32m    553\u001b[0m \u001b[38;5;28;01mif\u001b[39;00m prompts \u001b[38;5;129;01mand\u001b[39;00m \u001b[38;5;28mhasattr\u001b[39m(\u001b[38;5;28mself\u001b[39m\u001b[38;5;241m.\u001b[39mpredictor, \u001b[38;5;124m\"\u001b[39m\u001b[38;5;124mset_prompts\u001b[39m\u001b[38;5;124m\"\u001b[39m):  \u001b[38;5;66;03m# for SAM-type models\u001b[39;00m\n\u001b[0;32m    554\u001b[0m     \u001b[38;5;28mself\u001b[39m\u001b[38;5;241m.\u001b[39mpredictor\u001b[38;5;241m.\u001b[39mset_prompts(prompts)\n\u001b[1;32m--> 555\u001b[0m \u001b[38;5;28;01mreturn\u001b[39;00m \u001b[38;5;28mself\u001b[39m\u001b[38;5;241m.\u001b[39mpredictor\u001b[38;5;241m.\u001b[39mpredict_cli(source\u001b[38;5;241m=\u001b[39msource) \u001b[38;5;28;01mif\u001b[39;00m is_cli \u001b[38;5;28;01melse\u001b[39;00m \u001b[38;5;28;43mself\u001b[39;49m\u001b[38;5;241;43m.\u001b[39;49m\u001b[43mpredictor\u001b[49m\u001b[43m(\u001b[49m\u001b[43msource\u001b[49m\u001b[38;5;241;43m=\u001b[39;49m\u001b[43msource\u001b[49m\u001b[43m,\u001b[49m\u001b[43m \u001b[49m\u001b[43mstream\u001b[49m\u001b[38;5;241;43m=\u001b[39;49m\u001b[43mstream\u001b[49m\u001b[43m)\u001b[49m\n",
      "File \u001b[1;32mc:\\Users\\kusha\\OneDrive\\Desktop\\Lib\\site-packages\\ultralytics\\engine\\predictor.py:227\u001b[0m, in \u001b[0;36mBasePredictor.__call__\u001b[1;34m(self, source, model, stream, *args, **kwargs)\u001b[0m\n\u001b[0;32m    225\u001b[0m     \u001b[38;5;28;01mreturn\u001b[39;00m \u001b[38;5;28mself\u001b[39m\u001b[38;5;241m.\u001b[39mstream_inference(source, model, \u001b[38;5;241m*\u001b[39margs, \u001b[38;5;241m*\u001b[39m\u001b[38;5;241m*\u001b[39mkwargs)\n\u001b[0;32m    226\u001b[0m \u001b[38;5;28;01melse\u001b[39;00m:\n\u001b[1;32m--> 227\u001b[0m     \u001b[38;5;28;01mreturn\u001b[39;00m \u001b[38;5;28;43mlist\u001b[39;49m\u001b[43m(\u001b[49m\u001b[38;5;28;43mself\u001b[39;49m\u001b[38;5;241;43m.\u001b[39;49m\u001b[43mstream_inference\u001b[49m\u001b[43m(\u001b[49m\u001b[43msource\u001b[49m\u001b[43m,\u001b[49m\u001b[43m \u001b[49m\u001b[43mmodel\u001b[49m\u001b[43m,\u001b[49m\u001b[43m \u001b[49m\u001b[38;5;241;43m*\u001b[39;49m\u001b[43margs\u001b[49m\u001b[43m,\u001b[49m\u001b[43m \u001b[49m\u001b[38;5;241;43m*\u001b[39;49m\u001b[38;5;241;43m*\u001b[39;49m\u001b[43mkwargs\u001b[49m\u001b[43m)\u001b[49m\u001b[43m)\u001b[49m\n",
      "File \u001b[1;32mc:\\Users\\kusha\\OneDrive\\Desktop\\Lib\\site-packages\\torch\\utils\\_contextlib.py:57\u001b[0m, in \u001b[0;36m_wrap_generator.<locals>.generator_context\u001b[1;34m(*args, **kwargs)\u001b[0m\n\u001b[0;32m     54\u001b[0m         \u001b[38;5;28;01melse\u001b[39;00m:\n\u001b[0;32m     55\u001b[0m             \u001b[38;5;66;03m# Pass the last request to the generator and get its response\u001b[39;00m\n\u001b[0;32m     56\u001b[0m             \u001b[38;5;28;01mwith\u001b[39;00m ctx_factory():\n\u001b[1;32m---> 57\u001b[0m                 response \u001b[38;5;241m=\u001b[39m \u001b[43mgen\u001b[49m\u001b[38;5;241;43m.\u001b[39;49m\u001b[43msend\u001b[49m\u001b[43m(\u001b[49m\u001b[43mrequest\u001b[49m\u001b[43m)\u001b[49m\n\u001b[0;32m     59\u001b[0m \u001b[38;5;66;03m# We let the exceptions raised above by the generator's `.throw` or\u001b[39;00m\n\u001b[0;32m     60\u001b[0m \u001b[38;5;66;03m# `.send` methods bubble up to our caller, except for StopIteration\u001b[39;00m\n\u001b[0;32m     61\u001b[0m \u001b[38;5;28;01mexcept\u001b[39;00m \u001b[38;5;167;01mStopIteration\u001b[39;00m \u001b[38;5;28;01mas\u001b[39;00m e:\n\u001b[0;32m     62\u001b[0m     \u001b[38;5;66;03m# The generator informed us that it is done: take whatever its\u001b[39;00m\n\u001b[0;32m     63\u001b[0m     \u001b[38;5;66;03m# returned value (if any) was and indicate that we're done too\u001b[39;00m\n\u001b[0;32m     64\u001b[0m     \u001b[38;5;66;03m# by returning it (see docs for python's return-statement).\u001b[39;00m\n",
      "File \u001b[1;32mc:\\Users\\kusha\\OneDrive\\Desktop\\Lib\\site-packages\\ultralytics\\engine\\predictor.py:351\u001b[0m, in \u001b[0;36mBasePredictor.stream_inference\u001b[1;34m(self, source, model, *args, **kwargs)\u001b[0m\n\u001b[0;32m    345\u001b[0m         \u001b[38;5;28mself\u001b[39m\u001b[38;5;241m.\u001b[39mresults[i]\u001b[38;5;241m.\u001b[39mspeed \u001b[38;5;241m=\u001b[39m {\n\u001b[0;32m    346\u001b[0m             \u001b[38;5;124m\"\u001b[39m\u001b[38;5;124mpreprocess\u001b[39m\u001b[38;5;124m\"\u001b[39m: profilers[\u001b[38;5;241m0\u001b[39m]\u001b[38;5;241m.\u001b[39mdt \u001b[38;5;241m*\u001b[39m \u001b[38;5;241m1e3\u001b[39m \u001b[38;5;241m/\u001b[39m n,\n\u001b[0;32m    347\u001b[0m             \u001b[38;5;124m\"\u001b[39m\u001b[38;5;124minference\u001b[39m\u001b[38;5;124m\"\u001b[39m: profilers[\u001b[38;5;241m1\u001b[39m]\u001b[38;5;241m.\u001b[39mdt \u001b[38;5;241m*\u001b[39m \u001b[38;5;241m1e3\u001b[39m \u001b[38;5;241m/\u001b[39m n,\n\u001b[0;32m    348\u001b[0m             \u001b[38;5;124m\"\u001b[39m\u001b[38;5;124mpostprocess\u001b[39m\u001b[38;5;124m\"\u001b[39m: profilers[\u001b[38;5;241m2\u001b[39m]\u001b[38;5;241m.\u001b[39mdt \u001b[38;5;241m*\u001b[39m \u001b[38;5;241m1e3\u001b[39m \u001b[38;5;241m/\u001b[39m n,\n\u001b[0;32m    349\u001b[0m         }\n\u001b[0;32m    350\u001b[0m         \u001b[38;5;28;01mif\u001b[39;00m \u001b[38;5;28mself\u001b[39m\u001b[38;5;241m.\u001b[39margs\u001b[38;5;241m.\u001b[39mverbose \u001b[38;5;129;01mor\u001b[39;00m \u001b[38;5;28mself\u001b[39m\u001b[38;5;241m.\u001b[39margs\u001b[38;5;241m.\u001b[39msave \u001b[38;5;129;01mor\u001b[39;00m \u001b[38;5;28mself\u001b[39m\u001b[38;5;241m.\u001b[39margs\u001b[38;5;241m.\u001b[39msave_txt \u001b[38;5;129;01mor\u001b[39;00m \u001b[38;5;28mself\u001b[39m\u001b[38;5;241m.\u001b[39margs\u001b[38;5;241m.\u001b[39mshow:\n\u001b[1;32m--> 351\u001b[0m             s[i] \u001b[38;5;241m+\u001b[39m\u001b[38;5;241m=\u001b[39m \u001b[38;5;28;43mself\u001b[39;49m\u001b[38;5;241;43m.\u001b[39;49m\u001b[43mwrite_results\u001b[49m\u001b[43m(\u001b[49m\u001b[43mi\u001b[49m\u001b[43m,\u001b[49m\u001b[43m \u001b[49m\u001b[43mPath\u001b[49m\u001b[43m(\u001b[49m\u001b[43mpaths\u001b[49m\u001b[43m[\u001b[49m\u001b[43mi\u001b[49m\u001b[43m]\u001b[49m\u001b[43m)\u001b[49m\u001b[43m,\u001b[49m\u001b[43m \u001b[49m\u001b[43mim\u001b[49m\u001b[43m,\u001b[49m\u001b[43m \u001b[49m\u001b[43ms\u001b[49m\u001b[43m)\u001b[49m\n\u001b[0;32m    352\u001b[0m \u001b[38;5;28;01mexcept\u001b[39;00m \u001b[38;5;167;01mStopIteration\u001b[39;00m:\n\u001b[0;32m    353\u001b[0m     \u001b[38;5;28;01mbreak\u001b[39;00m\n",
      "File \u001b[1;32mc:\\Users\\kusha\\OneDrive\\Desktop\\Lib\\site-packages\\ultralytics\\engine\\predictor.py:453\u001b[0m, in \u001b[0;36mBasePredictor.write_results\u001b[1;34m(self, i, p, im, s)\u001b[0m\n\u001b[0;32m    451\u001b[0m     result\u001b[38;5;241m.\u001b[39msave_crop(save_dir\u001b[38;5;241m=\u001b[39m\u001b[38;5;28mself\u001b[39m\u001b[38;5;241m.\u001b[39msave_dir \u001b[38;5;241m/\u001b[39m \u001b[38;5;124m\"\u001b[39m\u001b[38;5;124mcrops\u001b[39m\u001b[38;5;124m\"\u001b[39m, file_name\u001b[38;5;241m=\u001b[39m\u001b[38;5;28mself\u001b[39m\u001b[38;5;241m.\u001b[39mtxt_path\u001b[38;5;241m.\u001b[39mstem)\n\u001b[0;32m    452\u001b[0m \u001b[38;5;28;01mif\u001b[39;00m \u001b[38;5;28mself\u001b[39m\u001b[38;5;241m.\u001b[39margs\u001b[38;5;241m.\u001b[39mshow:\n\u001b[1;32m--> 453\u001b[0m     \u001b[38;5;28;43mself\u001b[39;49m\u001b[38;5;241;43m.\u001b[39;49m\u001b[43mshow\u001b[49m\u001b[43m(\u001b[49m\u001b[38;5;28;43mstr\u001b[39;49m\u001b[43m(\u001b[49m\u001b[43mp\u001b[49m\u001b[43m)\u001b[49m\u001b[43m)\u001b[49m\n\u001b[0;32m    454\u001b[0m \u001b[38;5;28;01mif\u001b[39;00m \u001b[38;5;28mself\u001b[39m\u001b[38;5;241m.\u001b[39margs\u001b[38;5;241m.\u001b[39msave:\n\u001b[0;32m    455\u001b[0m     \u001b[38;5;28mself\u001b[39m\u001b[38;5;241m.\u001b[39msave_predicted_images(\u001b[38;5;28mstr\u001b[39m(\u001b[38;5;28mself\u001b[39m\u001b[38;5;241m.\u001b[39msave_dir \u001b[38;5;241m/\u001b[39m p\u001b[38;5;241m.\u001b[39mname), frame)\n",
      "File \u001b[1;32mc:\\Users\\kusha\\OneDrive\\Desktop\\Lib\\site-packages\\ultralytics\\engine\\predictor.py:501\u001b[0m, in \u001b[0;36mBasePredictor.show\u001b[1;34m(self, p)\u001b[0m\n\u001b[0;32m    499\u001b[0m     cv2\u001b[38;5;241m.\u001b[39mresizeWindow(p, im\u001b[38;5;241m.\u001b[39mshape[\u001b[38;5;241m1\u001b[39m], im\u001b[38;5;241m.\u001b[39mshape[\u001b[38;5;241m0\u001b[39m])  \u001b[38;5;66;03m# (width, height)\u001b[39;00m\n\u001b[0;32m    500\u001b[0m cv2\u001b[38;5;241m.\u001b[39mimshow(p, im)\n\u001b[1;32m--> 501\u001b[0m \u001b[38;5;28;01mif\u001b[39;00m \u001b[43mcv2\u001b[49m\u001b[38;5;241;43m.\u001b[39;49m\u001b[43mwaitKey\u001b[49m\u001b[43m(\u001b[49m\u001b[38;5;241;43m300\u001b[39;49m\u001b[43m \u001b[49m\u001b[38;5;28;43;01mif\u001b[39;49;00m\u001b[43m \u001b[49m\u001b[38;5;28;43mself\u001b[39;49m\u001b[38;5;241;43m.\u001b[39;49m\u001b[43mdataset\u001b[49m\u001b[38;5;241;43m.\u001b[39;49m\u001b[43mmode\u001b[49m\u001b[43m \u001b[49m\u001b[38;5;241;43m==\u001b[39;49m\u001b[43m \u001b[49m\u001b[38;5;124;43m\"\u001b[39;49m\u001b[38;5;124;43mimage\u001b[39;49m\u001b[38;5;124;43m\"\u001b[39;49m\u001b[43m \u001b[49m\u001b[38;5;28;43;01melse\u001b[39;49;00m\u001b[43m \u001b[49m\u001b[38;5;241;43m1\u001b[39;49m\u001b[43m)\u001b[49m \u001b[38;5;241m&\u001b[39m \u001b[38;5;241m0xFF\u001b[39m \u001b[38;5;241m==\u001b[39m \u001b[38;5;28mord\u001b[39m(\u001b[38;5;124m\"\u001b[39m\u001b[38;5;124mq\u001b[39m\u001b[38;5;124m\"\u001b[39m):  \u001b[38;5;66;03m# 300ms if image; else 1ms\u001b[39;00m\n\u001b[0;32m    502\u001b[0m     \u001b[38;5;28;01mraise\u001b[39;00m \u001b[38;5;167;01mStopIteration\u001b[39;00m\n",
      "\u001b[1;31mKeyboardInterrupt\u001b[0m: "
     ]
    }
   ],
   "source": [
    "wd.predict(source=0, show=True)"
   ]
  },
  {
   "cell_type": "code",
   "execution_count": 6,
   "id": "76c28b0a",
   "metadata": {},
   "outputs": [
    {
     "name": "stdout",
     "output_type": "stream",
     "text": [
      "Ultralytics 8.3.151  Python-3.12.5 torch-2.7.1+cpu CPU (AMD Ryzen 5 7530U with Radeon Graphics)\n",
      "\u001b[34m\u001b[1mengine\\trainer: \u001b[0magnostic_nms=False, amp=True, augment=False, auto_augment=randaugment, batch=16, bgr=0.0, box=7.5, cache=False, cfg=None, classes=None, close_mosaic=10, cls=0.5, conf=None, copy_paste=0.0, copy_paste_mode=flip, cos_lr=False, cutmix=0.0, data=weeddataset/data.yaml, degrees=0.0, deterministic=True, device=cpu, dfl=1.5, dnn=False, dropout=0.0, dynamic=False, embed=None, epochs=50, erasing=0.4, exist_ok=False, fliplr=0.5, flipud=0.0, format=torchscript, fraction=1.0, freeze=None, half=False, hsv_h=0.015, hsv_s=0.7, hsv_v=0.4, imgsz=640, int8=False, iou=0.7, keras=False, kobj=1.0, line_width=None, lr0=0.01, lrf=0.01, mask_ratio=4, max_det=300, mixup=0.0, mode=train, model=yolov8n.pt, momentum=0.937, mosaic=1.0, multi_scale=False, name=weed_detection_model3, nbs=64, nms=False, opset=None, optimize=False, optimizer=auto, overlap_mask=True, patience=100, perspective=0.0, plots=True, pose=12.0, pretrained=True, profile=False, project=None, rect=False, resume=False, retina_masks=False, save=True, save_conf=False, save_crop=False, save_dir=runs\\detect\\weed_detection_model3, save_frames=False, save_json=False, save_period=-1, save_txt=False, scale=0.5, seed=0, shear=0.0, show=False, show_boxes=True, show_conf=True, show_labels=True, simplify=True, single_cls=False, source=None, split=val, stream_buffer=False, task=detect, time=None, tracker=botsort.yaml, translate=0.1, val=True, verbose=True, vid_stride=1, visualize=False, warmup_bias_lr=0.1, warmup_epochs=3.0, warmup_momentum=0.8, weight_decay=0.0005, workers=8, workspace=None\n",
      "Overriding model.yaml nc=80 with nc=2\n",
      "\n",
      "                   from  n    params  module                                       arguments                     \n",
      "  0                  -1  1       464  ultralytics.nn.modules.conv.Conv             [3, 16, 3, 2]                 \n",
      "  1                  -1  1      4672  ultralytics.nn.modules.conv.Conv             [16, 32, 3, 2]                \n",
      "  2                  -1  1      7360  ultralytics.nn.modules.block.C2f             [32, 32, 1, True]             \n",
      "  3                  -1  1     18560  ultralytics.nn.modules.conv.Conv             [32, 64, 3, 2]                \n",
      "  4                  -1  2     49664  ultralytics.nn.modules.block.C2f             [64, 64, 2, True]             \n",
      "  5                  -1  1     73984  ultralytics.nn.modules.conv.Conv             [64, 128, 3, 2]               \n",
      "  6                  -1  2    197632  ultralytics.nn.modules.block.C2f             [128, 128, 2, True]           \n",
      "  7                  -1  1    295424  ultralytics.nn.modules.conv.Conv             [128, 256, 3, 2]              \n",
      "  8                  -1  1    460288  ultralytics.nn.modules.block.C2f             [256, 256, 1, True]           \n",
      "  9                  -1  1    164608  ultralytics.nn.modules.block.SPPF            [256, 256, 5]                 \n",
      " 10                  -1  1         0  torch.nn.modules.upsampling.Upsample         [None, 2, 'nearest']          \n",
      " 11             [-1, 6]  1         0  ultralytics.nn.modules.conv.Concat           [1]                           \n",
      " 12                  -1  1    148224  ultralytics.nn.modules.block.C2f             [384, 128, 1]                 \n",
      " 13                  -1  1         0  torch.nn.modules.upsampling.Upsample         [None, 2, 'nearest']          \n",
      " 14             [-1, 4]  1         0  ultralytics.nn.modules.conv.Concat           [1]                           \n",
      " 15                  -1  1     37248  ultralytics.nn.modules.block.C2f             [192, 64, 1]                  \n",
      " 16                  -1  1     36992  ultralytics.nn.modules.conv.Conv             [64, 64, 3, 2]                \n",
      " 17            [-1, 12]  1         0  ultralytics.nn.modules.conv.Concat           [1]                           \n",
      " 18                  -1  1    123648  ultralytics.nn.modules.block.C2f             [192, 128, 1]                 \n",
      " 19                  -1  1    147712  ultralytics.nn.modules.conv.Conv             [128, 128, 3, 2]              \n",
      " 20             [-1, 9]  1         0  ultralytics.nn.modules.conv.Concat           [1]                           \n",
      " 21                  -1  1    493056  ultralytics.nn.modules.block.C2f             [384, 256, 1]                 \n",
      " 22        [15, 18, 21]  1    751702  ultralytics.nn.modules.head.Detect           [2, [64, 128, 256]]           \n",
      "Model summary: 129 layers, 3,011,238 parameters, 3,011,222 gradients, 8.2 GFLOPs\n",
      "\n",
      "Transferred 319/355 items from pretrained weights\n",
      "Freezing layer 'model.22.dfl.conv.weight'\n",
      "\u001b[34m\u001b[1mtrain: \u001b[0mFast image access  (ping: 0.20.1 ms, read: 11.23.7 MB/s, size: 84.8 KB)\n"
     ]
    },
    {
     "name": "stderr",
     "output_type": "stream",
     "text": [
      "\u001b[34m\u001b[1mtrain: \u001b[0mScanning C:\\Users\\kusha\\OneDrive\\Desktop\\weed detection model\\weeddataset\\train\\labels.cache... 2469 images, 101 backgrounds, 0 corrupt: 100%|██████████| 2469/2469 [00:00<?, ?it/s]"
     ]
    },
    {
     "name": "stdout",
     "output_type": "stream",
     "text": [
      "\u001b[34m\u001b[1mval: \u001b[0mFast image access  (ping: 0.10.1 ms, read: 19.94.7 MB/s, size: 131.6 KB)\n"
     ]
    },
    {
     "name": "stderr",
     "output_type": "stream",
     "text": [
      "\n",
      "c:\\Users\\kusha\\OneDrive\\Desktop\\Lib\\site-packages\\torch\\utils\\data\\dataloader.py:665: UserWarning: 'pin_memory' argument is set as true but no accelerator is found, then device pinned memory won't be used.\n",
      "  warnings.warn(warn_msg)\n",
      "\u001b[34m\u001b[1mval: \u001b[0mScanning C:\\Users\\kusha\\OneDrive\\Desktop\\weed detection model\\weeddataset\\val\\labels.cache... 235 images, 0 backgrounds, 0 corrupt: 100%|██████████| 235/235 [00:00<?, ?it/s]\n",
      "c:\\Users\\kusha\\OneDrive\\Desktop\\Lib\\site-packages\\torch\\utils\\data\\dataloader.py:665: UserWarning: 'pin_memory' argument is set as true but no accelerator is found, then device pinned memory won't be used.\n",
      "  warnings.warn(warn_msg)\n"
     ]
    },
    {
     "name": "stdout",
     "output_type": "stream",
     "text": [
      "Plotting labels to runs\\detect\\weed_detection_model3\\labels.jpg... \n",
      "\u001b[34m\u001b[1moptimizer:\u001b[0m 'optimizer=auto' found, ignoring 'lr0=0.01' and 'momentum=0.937' and determining best 'optimizer', 'lr0' and 'momentum' automatically... \n",
      "\u001b[34m\u001b[1moptimizer:\u001b[0m AdamW(lr=0.001667, momentum=0.9) with parameter groups 57 weight(decay=0.0), 64 weight(decay=0.0005), 63 bias(decay=0.0)\n",
      "Image sizes 640 train, 640 val\n",
      "Using 0 dataloader workers\n",
      "Logging results to \u001b[1mruns\\detect\\weed_detection_model3\u001b[0m\n",
      "Starting training for 50 epochs...\n",
      "\n",
      "      Epoch    GPU_mem   box_loss   cls_loss   dfl_loss  Instances       Size\n"
     ]
    },
    {
     "name": "stderr",
     "output_type": "stream",
     "text": [
      "       1/50         0G      2.713      3.082       1.27         29        640: 100%|██████████| 155/155 [12:53<00:00,  4.99s/it]\n",
      "                 Class     Images  Instances      Box(P          R      mAP50  mAP50-95): 100%|██████████| 8/8 [00:19<00:00,  2.39s/it]"
     ]
    },
    {
     "name": "stdout",
     "output_type": "stream",
     "text": [
      "                   all        235       1605      0.174      0.294      0.194     0.0719\n"
     ]
    },
    {
     "name": "stderr",
     "output_type": "stream",
     "text": [
      "\n"
     ]
    },
    {
     "name": "stdout",
     "output_type": "stream",
     "text": [
      "\n",
      "      Epoch    GPU_mem   box_loss   cls_loss   dfl_loss  Instances       Size\n"
     ]
    },
    {
     "name": "stderr",
     "output_type": "stream",
     "text": [
      "       2/50         0G      2.557      2.368      1.226         32        640: 100%|██████████| 155/155 [12:05<00:00,  4.68s/it]\n",
      "                 Class     Images  Instances      Box(P          R      mAP50  mAP50-95): 100%|██████████| 8/8 [00:17<00:00,  2.21s/it]"
     ]
    },
    {
     "name": "stdout",
     "output_type": "stream",
     "text": [
      "                   all        235       1605      0.294       0.47      0.268     0.0971\n"
     ]
    },
    {
     "name": "stderr",
     "output_type": "stream",
     "text": [
      "\n"
     ]
    },
    {
     "name": "stdout",
     "output_type": "stream",
     "text": [
      "\n",
      "      Epoch    GPU_mem   box_loss   cls_loss   dfl_loss  Instances       Size\n"
     ]
    },
    {
     "name": "stderr",
     "output_type": "stream",
     "text": [
      "       3/50         0G      2.513      2.168      1.215         44        640: 100%|██████████| 155/155 [12:59<00:00,  5.03s/it]\n",
      "                 Class     Images  Instances      Box(P          R      mAP50  mAP50-95): 100%|██████████| 8/8 [00:19<00:00,  2.38s/it]"
     ]
    },
    {
     "name": "stdout",
     "output_type": "stream",
     "text": [
      "                   all        235       1605       0.28      0.582      0.366      0.166\n"
     ]
    },
    {
     "name": "stderr",
     "output_type": "stream",
     "text": [
      "\n"
     ]
    },
    {
     "name": "stdout",
     "output_type": "stream",
     "text": [
      "\n",
      "      Epoch    GPU_mem   box_loss   cls_loss   dfl_loss  Instances       Size\n"
     ]
    },
    {
     "name": "stderr",
     "output_type": "stream",
     "text": [
      "       4/50         0G      2.487      2.052      1.196         36        640: 100%|██████████| 155/155 [13:59<00:00,  5.42s/it]\n",
      "                 Class     Images  Instances      Box(P          R      mAP50  mAP50-95): 100%|██████████| 8/8 [00:19<00:00,  2.39s/it]"
     ]
    },
    {
     "name": "stdout",
     "output_type": "stream",
     "text": [
      "                   all        235       1605      0.393      0.565       0.42      0.182\n"
     ]
    },
    {
     "name": "stderr",
     "output_type": "stream",
     "text": [
      "\n"
     ]
    },
    {
     "name": "stdout",
     "output_type": "stream",
     "text": [
      "\n",
      "      Epoch    GPU_mem   box_loss   cls_loss   dfl_loss  Instances       Size\n"
     ]
    },
    {
     "name": "stderr",
     "output_type": "stream",
     "text": [
      "       5/50         0G      2.438      1.944      1.178         35        640: 100%|██████████| 155/155 [13:21<00:00,  5.17s/it]\n",
      "                 Class     Images  Instances      Box(P          R      mAP50  mAP50-95): 100%|██████████| 8/8 [00:20<00:00,  2.60s/it]"
     ]
    },
    {
     "name": "stdout",
     "output_type": "stream",
     "text": [
      "                   all        235       1605      0.497      0.416      0.405      0.147\n"
     ]
    },
    {
     "name": "stderr",
     "output_type": "stream",
     "text": [
      "\n"
     ]
    },
    {
     "name": "stdout",
     "output_type": "stream",
     "text": [
      "\n",
      "      Epoch    GPU_mem   box_loss   cls_loss   dfl_loss  Instances       Size\n"
     ]
    },
    {
     "name": "stderr",
     "output_type": "stream",
     "text": [
      "       6/50         0G      2.397      1.897      1.161         32        640: 100%|██████████| 155/155 [15:39<00:00,  6.06s/it]\n",
      "                 Class     Images  Instances      Box(P          R      mAP50  mAP50-95): 100%|██████████| 8/8 [00:20<00:00,  2.57s/it]"
     ]
    },
    {
     "name": "stdout",
     "output_type": "stream",
     "text": [
      "                   all        235       1605       0.46      0.515      0.447      0.177\n"
     ]
    },
    {
     "name": "stderr",
     "output_type": "stream",
     "text": [
      "\n"
     ]
    },
    {
     "name": "stdout",
     "output_type": "stream",
     "text": [
      "\n",
      "      Epoch    GPU_mem   box_loss   cls_loss   dfl_loss  Instances       Size\n"
     ]
    },
    {
     "name": "stderr",
     "output_type": "stream",
     "text": [
      "       7/50         0G      2.351      1.813      1.142         71        640: 100%|██████████| 155/155 [15:40<00:00,  6.07s/it]\n",
      "                 Class     Images  Instances      Box(P          R      mAP50  mAP50-95): 100%|██████████| 8/8 [00:20<00:00,  2.56s/it]"
     ]
    },
    {
     "name": "stdout",
     "output_type": "stream",
     "text": [
      "                   all        235       1605      0.441      0.507      0.433      0.177\n"
     ]
    },
    {
     "name": "stderr",
     "output_type": "stream",
     "text": [
      "\n"
     ]
    },
    {
     "name": "stdout",
     "output_type": "stream",
     "text": [
      "\n",
      "      Epoch    GPU_mem   box_loss   cls_loss   dfl_loss  Instances       Size\n"
     ]
    },
    {
     "name": "stderr",
     "output_type": "stream",
     "text": [
      "       8/50         0G      2.283      1.744      1.125         35        640: 100%|██████████| 155/155 [15:39<00:00,  6.06s/it]\n",
      "                 Class     Images  Instances      Box(P          R      mAP50  mAP50-95): 100%|██████████| 8/8 [00:20<00:00,  2.55s/it]"
     ]
    },
    {
     "name": "stdout",
     "output_type": "stream",
     "text": [
      "                   all        235       1605      0.504      0.436      0.456      0.195\n"
     ]
    },
    {
     "name": "stderr",
     "output_type": "stream",
     "text": [
      "\n"
     ]
    },
    {
     "name": "stdout",
     "output_type": "stream",
     "text": [
      "\n",
      "      Epoch    GPU_mem   box_loss   cls_loss   dfl_loss  Instances       Size\n"
     ]
    },
    {
     "name": "stderr",
     "output_type": "stream",
     "text": [
      "       9/50         0G      2.243      1.703      1.116         27        640: 100%|██████████| 155/155 [15:49<00:00,  6.13s/it]\n",
      "                 Class     Images  Instances      Box(P          R      mAP50  mAP50-95): 100%|██████████| 8/8 [00:20<00:00,  2.54s/it]"
     ]
    },
    {
     "name": "stdout",
     "output_type": "stream",
     "text": [
      "                   all        235       1605      0.426      0.437      0.462      0.174\n"
     ]
    },
    {
     "name": "stderr",
     "output_type": "stream",
     "text": [
      "\n"
     ]
    },
    {
     "name": "stdout",
     "output_type": "stream",
     "text": [
      "\n",
      "      Epoch    GPU_mem   box_loss   cls_loss   dfl_loss  Instances       Size\n"
     ]
    },
    {
     "name": "stderr",
     "output_type": "stream",
     "text": [
      "      10/50         0G      2.229      1.655      1.106         43        640: 100%|██████████| 155/155 [15:46<00:00,  6.11s/it]\n",
      "                 Class     Images  Instances      Box(P          R      mAP50  mAP50-95): 100%|██████████| 8/8 [00:20<00:00,  2.51s/it]"
     ]
    },
    {
     "name": "stdout",
     "output_type": "stream",
     "text": [
      "                   all        235       1605      0.512      0.545      0.482      0.233\n"
     ]
    },
    {
     "name": "stderr",
     "output_type": "stream",
     "text": [
      "\n"
     ]
    },
    {
     "name": "stdout",
     "output_type": "stream",
     "text": [
      "\n",
      "      Epoch    GPU_mem   box_loss   cls_loss   dfl_loss  Instances       Size\n"
     ]
    },
    {
     "name": "stderr",
     "output_type": "stream",
     "text": [
      "      11/50         0G      2.186       1.61        1.1         27        640: 100%|██████████| 155/155 [15:47<00:00,  6.11s/it]\n",
      "                 Class     Images  Instances      Box(P          R      mAP50  mAP50-95): 100%|██████████| 8/8 [00:20<00:00,  2.51s/it]"
     ]
    },
    {
     "name": "stdout",
     "output_type": "stream",
     "text": [
      "                   all        235       1605      0.528       0.62      0.574       0.28\n"
     ]
    },
    {
     "name": "stderr",
     "output_type": "stream",
     "text": [
      "\n"
     ]
    },
    {
     "name": "stdout",
     "output_type": "stream",
     "text": [
      "\n",
      "      Epoch    GPU_mem   box_loss   cls_loss   dfl_loss  Instances       Size\n"
     ]
    },
    {
     "name": "stderr",
     "output_type": "stream",
     "text": [
      "      12/50         0G      2.178      1.598      1.095         57        640: 100%|██████████| 155/155 [15:47<00:00,  6.11s/it]\n",
      "                 Class     Images  Instances      Box(P          R      mAP50  mAP50-95): 100%|██████████| 8/8 [00:20<00:00,  2.53s/it]"
     ]
    },
    {
     "name": "stdout",
     "output_type": "stream",
     "text": [
      "                   all        235       1605      0.536      0.585      0.565      0.268\n"
     ]
    },
    {
     "name": "stderr",
     "output_type": "stream",
     "text": [
      "\n"
     ]
    },
    {
     "name": "stdout",
     "output_type": "stream",
     "text": [
      "\n",
      "      Epoch    GPU_mem   box_loss   cls_loss   dfl_loss  Instances       Size\n"
     ]
    },
    {
     "name": "stderr",
     "output_type": "stream",
     "text": [
      "      13/50         0G      2.119      1.542      1.075         28        640: 100%|██████████| 155/155 [15:47<00:00,  6.11s/it]\n",
      "                 Class     Images  Instances      Box(P          R      mAP50  mAP50-95): 100%|██████████| 8/8 [00:20<00:00,  2.51s/it]"
     ]
    },
    {
     "name": "stdout",
     "output_type": "stream",
     "text": [
      "                   all        235       1605      0.636      0.615      0.597      0.299\n"
     ]
    },
    {
     "name": "stderr",
     "output_type": "stream",
     "text": [
      "\n"
     ]
    },
    {
     "name": "stdout",
     "output_type": "stream",
     "text": [
      "\n",
      "      Epoch    GPU_mem   box_loss   cls_loss   dfl_loss  Instances       Size\n"
     ]
    },
    {
     "name": "stderr",
     "output_type": "stream",
     "text": [
      "      14/50         0G      2.108      1.547      1.082         21        640: 100%|██████████| 155/155 [15:44<00:00,  6.09s/it]\n",
      "                 Class     Images  Instances      Box(P          R      mAP50  mAP50-95): 100%|██████████| 8/8 [00:20<00:00,  2.54s/it]"
     ]
    },
    {
     "name": "stdout",
     "output_type": "stream",
     "text": [
      "                   all        235       1605      0.526      0.491      0.522      0.209\n"
     ]
    },
    {
     "name": "stderr",
     "output_type": "stream",
     "text": [
      "\n"
     ]
    },
    {
     "name": "stdout",
     "output_type": "stream",
     "text": [
      "\n",
      "      Epoch    GPU_mem   box_loss   cls_loss   dfl_loss  Instances       Size\n"
     ]
    },
    {
     "name": "stderr",
     "output_type": "stream",
     "text": [
      "      15/50         0G      2.083      1.503       1.07         57        640: 100%|██████████| 155/155 [15:45<00:00,  6.10s/it]\n",
      "                 Class     Images  Instances      Box(P          R      mAP50  mAP50-95): 100%|██████████| 8/8 [00:20<00:00,  2.51s/it]"
     ]
    },
    {
     "name": "stdout",
     "output_type": "stream",
     "text": [
      "                   all        235       1605      0.504      0.643      0.557      0.282\n"
     ]
    },
    {
     "name": "stderr",
     "output_type": "stream",
     "text": [
      "\n"
     ]
    },
    {
     "name": "stdout",
     "output_type": "stream",
     "text": [
      "\n",
      "      Epoch    GPU_mem   box_loss   cls_loss   dfl_loss  Instances       Size\n"
     ]
    },
    {
     "name": "stderr",
     "output_type": "stream",
     "text": [
      "      16/50         0G      2.076      1.465      1.064         39        640: 100%|██████████| 155/155 [15:46<00:00,  6.11s/it]\n",
      "                 Class     Images  Instances      Box(P          R      mAP50  mAP50-95): 100%|██████████| 8/8 [00:20<00:00,  2.52s/it]"
     ]
    },
    {
     "name": "stdout",
     "output_type": "stream",
     "text": [
      "                   all        235       1605      0.626      0.583      0.611      0.329\n"
     ]
    },
    {
     "name": "stderr",
     "output_type": "stream",
     "text": [
      "\n"
     ]
    },
    {
     "name": "stdout",
     "output_type": "stream",
     "text": [
      "\n",
      "      Epoch    GPU_mem   box_loss   cls_loss   dfl_loss  Instances       Size\n"
     ]
    },
    {
     "name": "stderr",
     "output_type": "stream",
     "text": [
      "      17/50         0G      2.056      1.462      1.065         37        640: 100%|██████████| 155/155 [15:42<00:00,  6.08s/it]\n",
      "                 Class     Images  Instances      Box(P          R      mAP50  mAP50-95): 100%|██████████| 8/8 [00:20<00:00,  2.51s/it]"
     ]
    },
    {
     "name": "stdout",
     "output_type": "stream",
     "text": [
      "                   all        235       1605      0.492      0.609      0.518      0.202\n"
     ]
    },
    {
     "name": "stderr",
     "output_type": "stream",
     "text": [
      "\n"
     ]
    },
    {
     "name": "stdout",
     "output_type": "stream",
     "text": [
      "\n",
      "      Epoch    GPU_mem   box_loss   cls_loss   dfl_loss  Instances       Size\n"
     ]
    },
    {
     "name": "stderr",
     "output_type": "stream",
     "text": [
      "      18/50         0G      2.027      1.421      1.047         31        640: 100%|██████████| 155/155 [1:02:22<00:00, 24.15s/it] \n",
      "                 Class     Images  Instances      Box(P          R      mAP50  mAP50-95): 100%|██████████| 8/8 [00:21<00:00,  2.64s/it]"
     ]
    },
    {
     "name": "stdout",
     "output_type": "stream",
     "text": [
      "                   all        235       1605      0.536      0.611      0.555      0.289\n"
     ]
    },
    {
     "name": "stderr",
     "output_type": "stream",
     "text": [
      "\n"
     ]
    },
    {
     "name": "stdout",
     "output_type": "stream",
     "text": [
      "\n",
      "      Epoch    GPU_mem   box_loss   cls_loss   dfl_loss  Instances       Size\n"
     ]
    },
    {
     "name": "stderr",
     "output_type": "stream",
     "text": [
      "      19/50         0G      2.025      1.402      1.048         42        640: 100%|██████████| 155/155 [15:44<00:00,  6.09s/it]\n",
      "                 Class     Images  Instances      Box(P          R      mAP50  mAP50-95): 100%|██████████| 8/8 [00:20<00:00,  2.55s/it]"
     ]
    },
    {
     "name": "stdout",
     "output_type": "stream",
     "text": [
      "                   all        235       1605      0.628      0.652      0.708      0.351\n"
     ]
    },
    {
     "name": "stderr",
     "output_type": "stream",
     "text": [
      "\n"
     ]
    },
    {
     "name": "stdout",
     "output_type": "stream",
     "text": [
      "\n",
      "      Epoch    GPU_mem   box_loss   cls_loss   dfl_loss  Instances       Size\n"
     ]
    },
    {
     "name": "stderr",
     "output_type": "stream",
     "text": [
      "      20/50         0G          2      1.394      1.044         54        640: 100%|██████████| 155/155 [15:40<00:00,  6.07s/it]\n",
      "                 Class     Images  Instances      Box(P          R      mAP50  mAP50-95): 100%|██████████| 8/8 [00:20<00:00,  2.55s/it]"
     ]
    },
    {
     "name": "stdout",
     "output_type": "stream",
     "text": [
      "                   all        235       1605      0.543      0.412      0.397      0.161\n"
     ]
    },
    {
     "name": "stderr",
     "output_type": "stream",
     "text": [
      "\n"
     ]
    },
    {
     "name": "stdout",
     "output_type": "stream",
     "text": [
      "\n",
      "      Epoch    GPU_mem   box_loss   cls_loss   dfl_loss  Instances       Size\n"
     ]
    },
    {
     "name": "stderr",
     "output_type": "stream",
     "text": [
      "      21/50         0G      1.972      1.366      1.038         29        640: 100%|██████████| 155/155 [15:47<00:00,  6.11s/it]\n",
      "                 Class     Images  Instances      Box(P          R      mAP50  mAP50-95): 100%|██████████| 8/8 [00:20<00:00,  2.55s/it]"
     ]
    },
    {
     "name": "stdout",
     "output_type": "stream",
     "text": [
      "                   all        235       1605      0.468      0.574      0.497      0.223\n"
     ]
    },
    {
     "name": "stderr",
     "output_type": "stream",
     "text": [
      "\n"
     ]
    },
    {
     "name": "stdout",
     "output_type": "stream",
     "text": [
      "\n",
      "      Epoch    GPU_mem   box_loss   cls_loss   dfl_loss  Instances       Size\n"
     ]
    },
    {
     "name": "stderr",
     "output_type": "stream",
     "text": [
      "      22/50         0G      1.998      1.364      1.047         35        640: 100%|██████████| 155/155 [15:44<00:00,  6.09s/it]\n",
      "                 Class     Images  Instances      Box(P          R      mAP50  mAP50-95): 100%|██████████| 8/8 [00:21<00:00,  2.64s/it]"
     ]
    },
    {
     "name": "stdout",
     "output_type": "stream",
     "text": [
      "                   all        235       1605      0.525      0.712      0.618      0.277\n"
     ]
    },
    {
     "name": "stderr",
     "output_type": "stream",
     "text": [
      "\n"
     ]
    },
    {
     "name": "stdout",
     "output_type": "stream",
     "text": [
      "\n",
      "      Epoch    GPU_mem   box_loss   cls_loss   dfl_loss  Instances       Size\n"
     ]
    },
    {
     "name": "stderr",
     "output_type": "stream",
     "text": [
      "      23/50         0G      1.979      1.352      1.036         32        640: 100%|██████████| 155/155 [11:50<00:00,  4.59s/it]\n",
      "                 Class     Images  Instances      Box(P          R      mAP50  mAP50-95): 100%|██████████| 8/8 [00:14<00:00,  1.87s/it]"
     ]
    },
    {
     "name": "stdout",
     "output_type": "stream",
     "text": [
      "                   all        235       1605      0.639      0.636      0.645      0.337\n",
      "\n",
      "      Epoch    GPU_mem   box_loss   cls_loss   dfl_loss  Instances       Size\n"
     ]
    },
    {
     "name": "stderr",
     "output_type": "stream",
     "text": [
      "\n",
      "      24/50         0G      1.952      1.343      1.035         63        640: 100%|██████████| 155/155 [11:15<00:00,  4.36s/it]\n",
      "                 Class     Images  Instances      Box(P          R      mAP50  mAP50-95): 100%|██████████| 8/8 [00:15<00:00,  1.91s/it]"
     ]
    },
    {
     "name": "stdout",
     "output_type": "stream",
     "text": [
      "                   all        235       1605      0.639      0.614      0.632      0.287\n"
     ]
    },
    {
     "name": "stderr",
     "output_type": "stream",
     "text": [
      "\n"
     ]
    },
    {
     "name": "stdout",
     "output_type": "stream",
     "text": [
      "\n",
      "      Epoch    GPU_mem   box_loss   cls_loss   dfl_loss  Instances       Size\n"
     ]
    },
    {
     "name": "stderr",
     "output_type": "stream",
     "text": [
      "      25/50         0G      1.943      1.321      1.031         52        640: 100%|██████████| 155/155 [11:20<00:00,  4.39s/it]\n",
      "                 Class     Images  Instances      Box(P          R      mAP50  mAP50-95): 100%|██████████| 8/8 [00:14<00:00,  1.87s/it]"
     ]
    },
    {
     "name": "stdout",
     "output_type": "stream",
     "text": [
      "                   all        235       1605      0.717      0.559      0.648      0.324\n"
     ]
    },
    {
     "name": "stderr",
     "output_type": "stream",
     "text": [
      "\n"
     ]
    },
    {
     "name": "stdout",
     "output_type": "stream",
     "text": [
      "\n",
      "      Epoch    GPU_mem   box_loss   cls_loss   dfl_loss  Instances       Size\n"
     ]
    },
    {
     "name": "stderr",
     "output_type": "stream",
     "text": [
      "      26/50         0G      1.941      1.305       1.03         54        640: 100%|██████████| 155/155 [11:38<00:00,  4.50s/it]\n",
      "                 Class     Images  Instances      Box(P          R      mAP50  mAP50-95): 100%|██████████| 8/8 [00:17<00:00,  2.19s/it]"
     ]
    },
    {
     "name": "stdout",
     "output_type": "stream",
     "text": [
      "                   all        235       1605      0.518      0.601      0.589      0.264\n"
     ]
    },
    {
     "name": "stderr",
     "output_type": "stream",
     "text": [
      "\n"
     ]
    },
    {
     "name": "stdout",
     "output_type": "stream",
     "text": [
      "\n",
      "      Epoch    GPU_mem   box_loss   cls_loss   dfl_loss  Instances       Size\n"
     ]
    },
    {
     "name": "stderr",
     "output_type": "stream",
     "text": [
      "      27/50         0G      1.921      1.294      1.023         47        640: 100%|██████████| 155/155 [13:25<00:00,  5.20s/it]\n",
      "                 Class     Images  Instances      Box(P          R      mAP50  mAP50-95): 100%|██████████| 8/8 [00:17<00:00,  2.21s/it]"
     ]
    },
    {
     "name": "stdout",
     "output_type": "stream",
     "text": [
      "                   all        235       1605       0.57      0.727      0.704      0.359\n"
     ]
    },
    {
     "name": "stderr",
     "output_type": "stream",
     "text": [
      "\n"
     ]
    },
    {
     "name": "stdout",
     "output_type": "stream",
     "text": [
      "\n",
      "      Epoch    GPU_mem   box_loss   cls_loss   dfl_loss  Instances       Size\n"
     ]
    },
    {
     "name": "stderr",
     "output_type": "stream",
     "text": [
      "      28/50         0G      1.897      1.287      1.016         52        640: 100%|██████████| 155/155 [13:26<00:00,  5.20s/it]\n",
      "                 Class     Images  Instances      Box(P          R      mAP50  mAP50-95): 100%|██████████| 8/8 [00:17<00:00,  2.24s/it]"
     ]
    },
    {
     "name": "stdout",
     "output_type": "stream",
     "text": [
      "                   all        235       1605      0.548      0.651      0.625      0.294\n"
     ]
    },
    {
     "name": "stderr",
     "output_type": "stream",
     "text": [
      "\n"
     ]
    },
    {
     "name": "stdout",
     "output_type": "stream",
     "text": [
      "\n",
      "      Epoch    GPU_mem   box_loss   cls_loss   dfl_loss  Instances       Size\n"
     ]
    },
    {
     "name": "stderr",
     "output_type": "stream",
     "text": [
      "      29/50         0G      1.891      1.278       1.02         36        640: 100%|██████████| 155/155 [12:11<00:00,  4.72s/it]\n",
      "                 Class     Images  Instances      Box(P          R      mAP50  mAP50-95): 100%|██████████| 8/8 [00:15<00:00,  1.90s/it]"
     ]
    },
    {
     "name": "stdout",
     "output_type": "stream",
     "text": [
      "                   all        235       1605      0.577      0.565      0.595      0.278\n"
     ]
    },
    {
     "name": "stderr",
     "output_type": "stream",
     "text": [
      "\n"
     ]
    },
    {
     "name": "stdout",
     "output_type": "stream",
     "text": [
      "\n",
      "      Epoch    GPU_mem   box_loss   cls_loss   dfl_loss  Instances       Size\n"
     ]
    },
    {
     "name": "stderr",
     "output_type": "stream",
     "text": [
      "      30/50         0G       1.85      1.241      1.005         46        640: 100%|██████████| 155/155 [11:10<00:00,  4.33s/it]\n",
      "                 Class     Images  Instances      Box(P          R      mAP50  mAP50-95): 100%|██████████| 8/8 [00:15<00:00,  1.89s/it]"
     ]
    },
    {
     "name": "stdout",
     "output_type": "stream",
     "text": [
      "                   all        235       1605      0.541      0.641      0.582      0.287\n",
      "\n",
      "      Epoch    GPU_mem   box_loss   cls_loss   dfl_loss  Instances       Size\n"
     ]
    },
    {
     "name": "stderr",
     "output_type": "stream",
     "text": [
      "\n",
      "      31/50         0G      1.868      1.251      1.013         41        640: 100%|██████████| 155/155 [11:15<00:00,  4.36s/it]\n",
      "                 Class     Images  Instances      Box(P          R      mAP50  mAP50-95): 100%|██████████| 8/8 [00:15<00:00,  1.88s/it]"
     ]
    },
    {
     "name": "stdout",
     "output_type": "stream",
     "text": [
      "                   all        235       1605      0.606      0.667       0.68       0.35\n",
      "\n",
      "      Epoch    GPU_mem   box_loss   cls_loss   dfl_loss  Instances       Size\n"
     ]
    },
    {
     "name": "stderr",
     "output_type": "stream",
     "text": [
      "\n",
      "      32/50         0G      1.848      1.242      1.011         57        640: 100%|██████████| 155/155 [11:14<00:00,  4.35s/it]\n",
      "                 Class     Images  Instances      Box(P          R      mAP50  mAP50-95): 100%|██████████| 8/8 [00:15<00:00,  1.89s/it]"
     ]
    },
    {
     "name": "stdout",
     "output_type": "stream",
     "text": [
      "                   all        235       1605      0.652       0.67      0.693      0.365\n",
      "\n",
      "      Epoch    GPU_mem   box_loss   cls_loss   dfl_loss  Instances       Size\n"
     ]
    },
    {
     "name": "stderr",
     "output_type": "stream",
     "text": [
      "\n",
      "      33/50         0G      1.844      1.229      1.002         37        640: 100%|██████████| 155/155 [11:10<00:00,  4.33s/it]\n",
      "                 Class     Images  Instances      Box(P          R      mAP50  mAP50-95): 100%|██████████| 8/8 [00:14<00:00,  1.87s/it]"
     ]
    },
    {
     "name": "stdout",
     "output_type": "stream",
     "text": [
      "                   all        235       1605      0.559      0.659       0.62      0.325\n"
     ]
    },
    {
     "name": "stderr",
     "output_type": "stream",
     "text": [
      "\n"
     ]
    },
    {
     "name": "stdout",
     "output_type": "stream",
     "text": [
      "\n",
      "      Epoch    GPU_mem   box_loss   cls_loss   dfl_loss  Instances       Size\n"
     ]
    },
    {
     "name": "stderr",
     "output_type": "stream",
     "text": [
      "      34/50         0G      1.846      1.233      1.005        105        640: 100%|██████████| 155/155 [13:52<00:00,  5.37s/it]\n",
      "                 Class     Images  Instances      Box(P          R      mAP50  mAP50-95): 100%|██████████| 8/8 [00:15<00:00,  1.89s/it]"
     ]
    },
    {
     "name": "stdout",
     "output_type": "stream",
     "text": [
      "                   all        235       1605      0.532      0.654      0.601      0.299\n"
     ]
    },
    {
     "name": "stderr",
     "output_type": "stream",
     "text": [
      "\n"
     ]
    },
    {
     "name": "stdout",
     "output_type": "stream",
     "text": [
      "\n",
      "      Epoch    GPU_mem   box_loss   cls_loss   dfl_loss  Instances       Size\n"
     ]
    },
    {
     "name": "stderr",
     "output_type": "stream",
     "text": [
      "      35/50         0G      1.808      1.198      1.001         43        640: 100%|██████████| 155/155 [11:13<00:00,  4.35s/it]\n",
      "                 Class     Images  Instances      Box(P          R      mAP50  mAP50-95): 100%|██████████| 8/8 [00:15<00:00,  1.89s/it]"
     ]
    },
    {
     "name": "stdout",
     "output_type": "stream",
     "text": [
      "                   all        235       1605      0.633      0.679      0.697      0.358\n"
     ]
    },
    {
     "name": "stderr",
     "output_type": "stream",
     "text": [
      "\n"
     ]
    },
    {
     "name": "stdout",
     "output_type": "stream",
     "text": [
      "\n",
      "      Epoch    GPU_mem   box_loss   cls_loss   dfl_loss  Instances       Size\n"
     ]
    },
    {
     "name": "stderr",
     "output_type": "stream",
     "text": [
      "      36/50         0G      1.814      1.193      1.004         44        640: 100%|██████████| 155/155 [11:12<00:00,  4.34s/it]\n",
      "                 Class     Images  Instances      Box(P          R      mAP50  mAP50-95): 100%|██████████| 8/8 [00:15<00:00,  1.89s/it]"
     ]
    },
    {
     "name": "stdout",
     "output_type": "stream",
     "text": [
      "                   all        235       1605      0.628      0.596      0.618      0.281\n"
     ]
    },
    {
     "name": "stderr",
     "output_type": "stream",
     "text": [
      "\n"
     ]
    },
    {
     "name": "stdout",
     "output_type": "stream",
     "text": [
      "\n",
      "      Epoch    GPU_mem   box_loss   cls_loss   dfl_loss  Instances       Size\n"
     ]
    },
    {
     "name": "stderr",
     "output_type": "stream",
     "text": [
      "      37/50         0G      1.807      1.193     0.9986         20        640: 100%|██████████| 155/155 [13:17<00:00,  5.15s/it]\n",
      "                 Class     Images  Instances      Box(P          R      mAP50  mAP50-95): 100%|██████████| 8/8 [00:21<00:00,  2.64s/it]"
     ]
    },
    {
     "name": "stdout",
     "output_type": "stream",
     "text": [
      "                   all        235       1605      0.677      0.718      0.708      0.368\n"
     ]
    },
    {
     "name": "stderr",
     "output_type": "stream",
     "text": [
      "\n"
     ]
    },
    {
     "name": "stdout",
     "output_type": "stream",
     "text": [
      "\n",
      "      Epoch    GPU_mem   box_loss   cls_loss   dfl_loss  Instances       Size\n"
     ]
    },
    {
     "name": "stderr",
     "output_type": "stream",
     "text": [
      "      38/50         0G      1.793      1.189      0.998         37        640: 100%|██████████| 155/155 [12:05<00:00,  4.68s/it]\n",
      "                 Class     Images  Instances      Box(P          R      mAP50  mAP50-95): 100%|██████████| 8/8 [00:16<00:00,  2.08s/it]"
     ]
    },
    {
     "name": "stdout",
     "output_type": "stream",
     "text": [
      "                   all        235       1605      0.681      0.701      0.701      0.357\n"
     ]
    },
    {
     "name": "stderr",
     "output_type": "stream",
     "text": [
      "\n"
     ]
    },
    {
     "name": "stdout",
     "output_type": "stream",
     "text": [
      "\n",
      "      Epoch    GPU_mem   box_loss   cls_loss   dfl_loss  Instances       Size\n"
     ]
    },
    {
     "name": "stderr",
     "output_type": "stream",
     "text": [
      "      39/50         0G      1.768      1.163     0.9873         47        640: 100%|██████████| 155/155 [11:37<00:00,  4.50s/it]\n",
      "                 Class     Images  Instances      Box(P          R      mAP50  mAP50-95): 100%|██████████| 8/8 [00:14<00:00,  1.87s/it]"
     ]
    },
    {
     "name": "stdout",
     "output_type": "stream",
     "text": [
      "                   all        235       1605      0.599       0.66      0.618       0.31\n"
     ]
    },
    {
     "name": "stderr",
     "output_type": "stream",
     "text": [
      "\n"
     ]
    },
    {
     "name": "stdout",
     "output_type": "stream",
     "text": [
      "\n",
      "      Epoch    GPU_mem   box_loss   cls_loss   dfl_loss  Instances       Size\n"
     ]
    },
    {
     "name": "stderr",
     "output_type": "stream",
     "text": [
      "      40/50         0G      1.764      1.165     0.9886         56        640: 100%|██████████| 155/155 [11:21<00:00,  4.40s/it]\n",
      "                 Class     Images  Instances      Box(P          R      mAP50  mAP50-95): 100%|██████████| 8/8 [00:15<00:00,  1.94s/it]"
     ]
    },
    {
     "name": "stdout",
     "output_type": "stream",
     "text": [
      "                   all        235       1605       0.57      0.691      0.641      0.347\n"
     ]
    },
    {
     "name": "stderr",
     "output_type": "stream",
     "text": [
      "\n"
     ]
    },
    {
     "name": "stdout",
     "output_type": "stream",
     "text": [
      "Closing dataloader mosaic\n",
      "\n",
      "      Epoch    GPU_mem   box_loss   cls_loss   dfl_loss  Instances       Size\n"
     ]
    },
    {
     "name": "stderr",
     "output_type": "stream",
     "text": [
      "c:\\Users\\kusha\\OneDrive\\Desktop\\Lib\\site-packages\\torch\\utils\\data\\dataloader.py:665: UserWarning: 'pin_memory' argument is set as true but no accelerator is found, then device pinned memory won't be used.\n",
      "  warnings.warn(warn_msg)\n",
      "      41/50         0G      1.696      1.126      1.003         23        640: 100%|██████████| 155/155 [11:10<00:00,  4.33s/it]\n",
      "                 Class     Images  Instances      Box(P          R      mAP50  mAP50-95): 100%|██████████| 8/8 [00:15<00:00,  1.92s/it]"
     ]
    },
    {
     "name": "stdout",
     "output_type": "stream",
     "text": [
      "                   all        235       1605      0.625      0.655      0.611      0.278\n"
     ]
    },
    {
     "name": "stderr",
     "output_type": "stream",
     "text": [
      "\n"
     ]
    },
    {
     "name": "stdout",
     "output_type": "stream",
     "text": [
      "\n",
      "      Epoch    GPU_mem   box_loss   cls_loss   dfl_loss  Instances       Size\n"
     ]
    },
    {
     "name": "stderr",
     "output_type": "stream",
     "text": [
      "      42/50         0G       1.67      1.085     0.9867         19        640: 100%|██████████| 155/155 [14:23<00:00,  5.57s/it]\n",
      "                 Class     Images  Instances      Box(P          R      mAP50  mAP50-95): 100%|██████████| 8/8 [00:20<00:00,  2.55s/it]"
     ]
    },
    {
     "name": "stdout",
     "output_type": "stream",
     "text": [
      "                   all        235       1605      0.705      0.653      0.672      0.335\n"
     ]
    },
    {
     "name": "stderr",
     "output_type": "stream",
     "text": [
      "\n"
     ]
    },
    {
     "name": "stdout",
     "output_type": "stream",
     "text": [
      "\n",
      "      Epoch    GPU_mem   box_loss   cls_loss   dfl_loss  Instances       Size\n"
     ]
    },
    {
     "name": "stderr",
     "output_type": "stream",
     "text": [
      "      43/50         0G      1.657      1.079     0.9836         34        640: 100%|██████████| 155/155 [15:16<00:00,  5.91s/it]\n",
      "                 Class     Images  Instances      Box(P          R      mAP50  mAP50-95): 100%|██████████| 8/8 [00:20<00:00,  2.53s/it]"
     ]
    },
    {
     "name": "stdout",
     "output_type": "stream",
     "text": [
      "                   all        235       1605      0.611      0.638      0.622      0.313\n"
     ]
    },
    {
     "name": "stderr",
     "output_type": "stream",
     "text": [
      "\n"
     ]
    },
    {
     "name": "stdout",
     "output_type": "stream",
     "text": [
      "\n",
      "      Epoch    GPU_mem   box_loss   cls_loss   dfl_loss  Instances       Size\n"
     ]
    },
    {
     "name": "stderr",
     "output_type": "stream",
     "text": [
      "      44/50         0G      1.651      1.057     0.9894         41        640: 100%|██████████| 155/155 [15:15<00:00,  5.91s/it]\n",
      "                 Class     Images  Instances      Box(P          R      mAP50  mAP50-95): 100%|██████████| 8/8 [00:20<00:00,  2.56s/it]"
     ]
    },
    {
     "name": "stdout",
     "output_type": "stream",
     "text": [
      "                   all        235       1605      0.663      0.623      0.643      0.323\n"
     ]
    },
    {
     "name": "stderr",
     "output_type": "stream",
     "text": [
      "\n"
     ]
    },
    {
     "name": "stdout",
     "output_type": "stream",
     "text": [
      "\n",
      "      Epoch    GPU_mem   box_loss   cls_loss   dfl_loss  Instances       Size\n"
     ]
    },
    {
     "name": "stderr",
     "output_type": "stream",
     "text": [
      "      45/50         0G      1.614       1.04     0.9759         15        640: 100%|██████████| 155/155 [15:17<00:00,  5.92s/it]\n",
      "                 Class     Images  Instances      Box(P          R      mAP50  mAP50-95): 100%|██████████| 8/8 [00:20<00:00,  2.55s/it]"
     ]
    },
    {
     "name": "stdout",
     "output_type": "stream",
     "text": [
      "                   all        235       1605       0.65      0.723      0.686      0.347\n"
     ]
    },
    {
     "name": "stderr",
     "output_type": "stream",
     "text": [
      "\n"
     ]
    },
    {
     "name": "stdout",
     "output_type": "stream",
     "text": [
      "\n",
      "      Epoch    GPU_mem   box_loss   cls_loss   dfl_loss  Instances       Size\n"
     ]
    },
    {
     "name": "stderr",
     "output_type": "stream",
     "text": [
      "      46/50         0G      1.598      1.025      0.977         43        640: 100%|██████████| 155/155 [15:14<00:00,  5.90s/it]\n",
      "                 Class     Images  Instances      Box(P          R      mAP50  mAP50-95): 100%|██████████| 8/8 [00:20<00:00,  2.51s/it]"
     ]
    },
    {
     "name": "stdout",
     "output_type": "stream",
     "text": [
      "                   all        235       1605      0.582       0.76      0.663       0.34\n"
     ]
    },
    {
     "name": "stderr",
     "output_type": "stream",
     "text": [
      "\n"
     ]
    },
    {
     "name": "stdout",
     "output_type": "stream",
     "text": [
      "\n",
      "      Epoch    GPU_mem   box_loss   cls_loss   dfl_loss  Instances       Size\n"
     ]
    },
    {
     "name": "stderr",
     "output_type": "stream",
     "text": [
      "      47/50         0G      1.587      1.024     0.9725         24        640: 100%|██████████| 155/155 [15:14<00:00,  5.90s/it]\n",
      "                 Class     Images  Instances      Box(P          R      mAP50  mAP50-95): 100%|██████████| 8/8 [00:20<00:00,  2.52s/it]"
     ]
    },
    {
     "name": "stdout",
     "output_type": "stream",
     "text": [
      "                   all        235       1605      0.591      0.634      0.633      0.314\n"
     ]
    },
    {
     "name": "stderr",
     "output_type": "stream",
     "text": [
      "\n"
     ]
    },
    {
     "name": "stdout",
     "output_type": "stream",
     "text": [
      "\n",
      "      Epoch    GPU_mem   box_loss   cls_loss   dfl_loss  Instances       Size\n"
     ]
    },
    {
     "name": "stderr",
     "output_type": "stream",
     "text": [
      "      48/50         0G      1.587       1.02     0.9735         22        640: 100%|██████████| 155/155 [15:10<00:00,  5.88s/it]\n",
      "                 Class     Images  Instances      Box(P          R      mAP50  mAP50-95): 100%|██████████| 8/8 [00:20<00:00,  2.54s/it]"
     ]
    },
    {
     "name": "stdout",
     "output_type": "stream",
     "text": [
      "                   all        235       1605      0.626      0.658      0.656       0.33\n"
     ]
    },
    {
     "name": "stderr",
     "output_type": "stream",
     "text": [
      "\n"
     ]
    },
    {
     "name": "stdout",
     "output_type": "stream",
     "text": [
      "\n",
      "      Epoch    GPU_mem   box_loss   cls_loss   dfl_loss  Instances       Size\n"
     ]
    },
    {
     "name": "stderr",
     "output_type": "stream",
     "text": [
      "      49/50         0G      1.564      1.005     0.9655         17        640: 100%|██████████| 155/155 [15:13<00:00,  5.89s/it]\n",
      "                 Class     Images  Instances      Box(P          R      mAP50  mAP50-95): 100%|██████████| 8/8 [00:20<00:00,  2.53s/it]"
     ]
    },
    {
     "name": "stdout",
     "output_type": "stream",
     "text": [
      "                   all        235       1605      0.615      0.716      0.678      0.343\n"
     ]
    },
    {
     "name": "stderr",
     "output_type": "stream",
     "text": [
      "\n"
     ]
    },
    {
     "name": "stdout",
     "output_type": "stream",
     "text": [
      "\n",
      "      Epoch    GPU_mem   box_loss   cls_loss   dfl_loss  Instances       Size\n"
     ]
    },
    {
     "name": "stderr",
     "output_type": "stream",
     "text": [
      "      50/50         0G      1.561      1.007     0.9683         19        640: 100%|██████████| 155/155 [15:13<00:00,  5.89s/it]\n",
      "                 Class     Images  Instances      Box(P          R      mAP50  mAP50-95): 100%|██████████| 8/8 [00:20<00:00,  2.53s/it]"
     ]
    },
    {
     "name": "stdout",
     "output_type": "stream",
     "text": [
      "                   all        235       1605      0.668      0.673      0.686       0.35\n"
     ]
    },
    {
     "name": "stderr",
     "output_type": "stream",
     "text": [
      "\n"
     ]
    },
    {
     "name": "stdout",
     "output_type": "stream",
     "text": [
      "\n",
      "50 epochs completed in 12.626 hours.\n",
      "Optimizer stripped from runs\\detect\\weed_detection_model3\\weights\\last.pt, 6.2MB\n",
      "Optimizer stripped from runs\\detect\\weed_detection_model3\\weights\\best.pt, 6.2MB\n",
      "\n",
      "Validating runs\\detect\\weed_detection_model3\\weights\\best.pt...\n",
      "Ultralytics 8.3.151  Python-3.12.5 torch-2.7.1+cpu CPU (AMD Ryzen 5 7530U with Radeon Graphics)\n",
      "Model summary (fused): 72 layers, 3,006,038 parameters, 0 gradients, 8.1 GFLOPs\n"
     ]
    },
    {
     "name": "stderr",
     "output_type": "stream",
     "text": [
      "                 Class     Images  Instances      Box(P          R      mAP50  mAP50-95): 100%|██████████| 8/8 [00:17<00:00,  2.21s/it]\n"
     ]
    },
    {
     "name": "stdout",
     "output_type": "stream",
     "text": [
      "                   all        235       1605      0.676      0.717      0.707      0.368\n",
      "                  crop         17         47      0.632      0.766      0.709      0.432\n",
      "                  weed        228       1558      0.721      0.669      0.705      0.303\n",
      "Speed: 1.5ms preprocess, 62.5ms inference, 0.0ms loss, 0.8ms postprocess per image\n",
      "Results saved to \u001b[1mruns\\detect\\weed_detection_model3\u001b[0m\n"
     ]
    },
    {
     "data": {
      "text/plain": [
       "ultralytics.utils.metrics.DetMetrics object with attributes:\n",
       "\n",
       "ap_class_index: array([0, 1])\n",
       "box: ultralytics.utils.metrics.Metric object\n",
       "confusion_matrix: <ultralytics.utils.metrics.ConfusionMatrix object at 0x000001D059827530>\n",
       "curves: ['Precision-Recall(B)', 'F1-Confidence(B)', 'Precision-Confidence(B)', 'Recall-Confidence(B)']\n",
       "curves_results: [[array([          0,    0.001001,    0.002002,    0.003003,    0.004004,    0.005005,    0.006006,    0.007007,    0.008008,    0.009009,     0.01001,    0.011011,    0.012012,    0.013013,    0.014014,    0.015015,    0.016016,    0.017017,    0.018018,    0.019019,     0.02002,    0.021021,    0.022022,    0.023023,\n",
       "          0.024024,    0.025025,    0.026026,    0.027027,    0.028028,    0.029029,     0.03003,    0.031031,    0.032032,    0.033033,    0.034034,    0.035035,    0.036036,    0.037037,    0.038038,    0.039039,     0.04004,    0.041041,    0.042042,    0.043043,    0.044044,    0.045045,    0.046046,    0.047047,\n",
       "          0.048048,    0.049049,     0.05005,    0.051051,    0.052052,    0.053053,    0.054054,    0.055055,    0.056056,    0.057057,    0.058058,    0.059059,     0.06006,    0.061061,    0.062062,    0.063063,    0.064064,    0.065065,    0.066066,    0.067067,    0.068068,    0.069069,     0.07007,    0.071071,\n",
       "          0.072072,    0.073073,    0.074074,    0.075075,    0.076076,    0.077077,    0.078078,    0.079079,     0.08008,    0.081081,    0.082082,    0.083083,    0.084084,    0.085085,    0.086086,    0.087087,    0.088088,    0.089089,     0.09009,    0.091091,    0.092092,    0.093093,    0.094094,    0.095095,\n",
       "          0.096096,    0.097097,    0.098098,    0.099099,      0.1001,      0.1011,      0.1021,      0.1031,      0.1041,     0.10511,     0.10611,     0.10711,     0.10811,     0.10911,     0.11011,     0.11111,     0.11211,     0.11311,     0.11411,     0.11512,     0.11612,     0.11712,     0.11812,     0.11912,\n",
       "           0.12012,     0.12112,     0.12212,     0.12312,     0.12412,     0.12513,     0.12613,     0.12713,     0.12813,     0.12913,     0.13013,     0.13113,     0.13213,     0.13313,     0.13413,     0.13514,     0.13614,     0.13714,     0.13814,     0.13914,     0.14014,     0.14114,     0.14214,     0.14314,\n",
       "           0.14414,     0.14515,     0.14615,     0.14715,     0.14815,     0.14915,     0.15015,     0.15115,     0.15215,     0.15315,     0.15415,     0.15516,     0.15616,     0.15716,     0.15816,     0.15916,     0.16016,     0.16116,     0.16216,     0.16316,     0.16416,     0.16517,     0.16617,     0.16717,\n",
       "           0.16817,     0.16917,     0.17017,     0.17117,     0.17217,     0.17317,     0.17417,     0.17518,     0.17618,     0.17718,     0.17818,     0.17918,     0.18018,     0.18118,     0.18218,     0.18318,     0.18418,     0.18519,     0.18619,     0.18719,     0.18819,     0.18919,     0.19019,     0.19119,\n",
       "           0.19219,     0.19319,     0.19419,      0.1952,      0.1962,      0.1972,      0.1982,      0.1992,      0.2002,      0.2012,      0.2022,      0.2032,      0.2042,     0.20521,     0.20621,     0.20721,     0.20821,     0.20921,     0.21021,     0.21121,     0.21221,     0.21321,     0.21421,     0.21522,\n",
       "           0.21622,     0.21722,     0.21822,     0.21922,     0.22022,     0.22122,     0.22222,     0.22322,     0.22422,     0.22523,     0.22623,     0.22723,     0.22823,     0.22923,     0.23023,     0.23123,     0.23223,     0.23323,     0.23423,     0.23524,     0.23624,     0.23724,     0.23824,     0.23924,\n",
       "           0.24024,     0.24124,     0.24224,     0.24324,     0.24424,     0.24525,     0.24625,     0.24725,     0.24825,     0.24925,     0.25025,     0.25125,     0.25225,     0.25325,     0.25425,     0.25526,     0.25626,     0.25726,     0.25826,     0.25926,     0.26026,     0.26126,     0.26226,     0.26326,\n",
       "           0.26426,     0.26527,     0.26627,     0.26727,     0.26827,     0.26927,     0.27027,     0.27127,     0.27227,     0.27327,     0.27427,     0.27528,     0.27628,     0.27728,     0.27828,     0.27928,     0.28028,     0.28128,     0.28228,     0.28328,     0.28428,     0.28529,     0.28629,     0.28729,\n",
       "           0.28829,     0.28929,     0.29029,     0.29129,     0.29229,     0.29329,     0.29429,      0.2953,      0.2963,      0.2973,      0.2983,      0.2993,      0.3003,      0.3013,      0.3023,      0.3033,      0.3043,     0.30531,     0.30631,     0.30731,     0.30831,     0.30931,     0.31031,     0.31131,\n",
       "           0.31231,     0.31331,     0.31431,     0.31532,     0.31632,     0.31732,     0.31832,     0.31932,     0.32032,     0.32132,     0.32232,     0.32332,     0.32432,     0.32533,     0.32633,     0.32733,     0.32833,     0.32933,     0.33033,     0.33133,     0.33233,     0.33333,     0.33433,     0.33534,\n",
       "           0.33634,     0.33734,     0.33834,     0.33934,     0.34034,     0.34134,     0.34234,     0.34334,     0.34434,     0.34535,     0.34635,     0.34735,     0.34835,     0.34935,     0.35035,     0.35135,     0.35235,     0.35335,     0.35435,     0.35536,     0.35636,     0.35736,     0.35836,     0.35936,\n",
       "           0.36036,     0.36136,     0.36236,     0.36336,     0.36436,     0.36537,     0.36637,     0.36737,     0.36837,     0.36937,     0.37037,     0.37137,     0.37237,     0.37337,     0.37437,     0.37538,     0.37638,     0.37738,     0.37838,     0.37938,     0.38038,     0.38138,     0.38238,     0.38338,\n",
       "           0.38438,     0.38539,     0.38639,     0.38739,     0.38839,     0.38939,     0.39039,     0.39139,     0.39239,     0.39339,     0.39439,      0.3954,      0.3964,      0.3974,      0.3984,      0.3994,      0.4004,      0.4014,      0.4024,      0.4034,      0.4044,     0.40541,     0.40641,     0.40741,\n",
       "           0.40841,     0.40941,     0.41041,     0.41141,     0.41241,     0.41341,     0.41441,     0.41542,     0.41642,     0.41742,     0.41842,     0.41942,     0.42042,     0.42142,     0.42242,     0.42342,     0.42442,     0.42543,     0.42643,     0.42743,     0.42843,     0.42943,     0.43043,     0.43143,\n",
       "           0.43243,     0.43343,     0.43443,     0.43544,     0.43644,     0.43744,     0.43844,     0.43944,     0.44044,     0.44144,     0.44244,     0.44344,     0.44444,     0.44545,     0.44645,     0.44745,     0.44845,     0.44945,     0.45045,     0.45145,     0.45245,     0.45345,     0.45445,     0.45546,\n",
       "           0.45646,     0.45746,     0.45846,     0.45946,     0.46046,     0.46146,     0.46246,     0.46346,     0.46446,     0.46547,     0.46647,     0.46747,     0.46847,     0.46947,     0.47047,     0.47147,     0.47247,     0.47347,     0.47447,     0.47548,     0.47648,     0.47748,     0.47848,     0.47948,\n",
       "           0.48048,     0.48148,     0.48248,     0.48348,     0.48448,     0.48549,     0.48649,     0.48749,     0.48849,     0.48949,     0.49049,     0.49149,     0.49249,     0.49349,     0.49449,      0.4955,      0.4965,      0.4975,      0.4985,      0.4995,      0.5005,      0.5015,      0.5025,      0.5035,\n",
       "            0.5045,     0.50551,     0.50651,     0.50751,     0.50851,     0.50951,     0.51051,     0.51151,     0.51251,     0.51351,     0.51451,     0.51552,     0.51652,     0.51752,     0.51852,     0.51952,     0.52052,     0.52152,     0.52252,     0.52352,     0.52452,     0.52553,     0.52653,     0.52753,\n",
       "           0.52853,     0.52953,     0.53053,     0.53153,     0.53253,     0.53353,     0.53453,     0.53554,     0.53654,     0.53754,     0.53854,     0.53954,     0.54054,     0.54154,     0.54254,     0.54354,     0.54454,     0.54555,     0.54655,     0.54755,     0.54855,     0.54955,     0.55055,     0.55155,\n",
       "           0.55255,     0.55355,     0.55455,     0.55556,     0.55656,     0.55756,     0.55856,     0.55956,     0.56056,     0.56156,     0.56256,     0.56356,     0.56456,     0.56557,     0.56657,     0.56757,     0.56857,     0.56957,     0.57057,     0.57157,     0.57257,     0.57357,     0.57457,     0.57558,\n",
       "           0.57658,     0.57758,     0.57858,     0.57958,     0.58058,     0.58158,     0.58258,     0.58358,     0.58458,     0.58559,     0.58659,     0.58759,     0.58859,     0.58959,     0.59059,     0.59159,     0.59259,     0.59359,     0.59459,      0.5956,      0.5966,      0.5976,      0.5986,      0.5996,\n",
       "            0.6006,      0.6016,      0.6026,      0.6036,      0.6046,     0.60561,     0.60661,     0.60761,     0.60861,     0.60961,     0.61061,     0.61161,     0.61261,     0.61361,     0.61461,     0.61562,     0.61662,     0.61762,     0.61862,     0.61962,     0.62062,     0.62162,     0.62262,     0.62362,\n",
       "           0.62462,     0.62563,     0.62663,     0.62763,     0.62863,     0.62963,     0.63063,     0.63163,     0.63263,     0.63363,     0.63463,     0.63564,     0.63664,     0.63764,     0.63864,     0.63964,     0.64064,     0.64164,     0.64264,     0.64364,     0.64464,     0.64565,     0.64665,     0.64765,\n",
       "           0.64865,     0.64965,     0.65065,     0.65165,     0.65265,     0.65365,     0.65465,     0.65566,     0.65666,     0.65766,     0.65866,     0.65966,     0.66066,     0.66166,     0.66266,     0.66366,     0.66466,     0.66567,     0.66667,     0.66767,     0.66867,     0.66967,     0.67067,     0.67167,\n",
       "           0.67267,     0.67367,     0.67467,     0.67568,     0.67668,     0.67768,     0.67868,     0.67968,     0.68068,     0.68168,     0.68268,     0.68368,     0.68468,     0.68569,     0.68669,     0.68769,     0.68869,     0.68969,     0.69069,     0.69169,     0.69269,     0.69369,     0.69469,      0.6957,\n",
       "            0.6967,      0.6977,      0.6987,      0.6997,      0.7007,      0.7017,      0.7027,      0.7037,      0.7047,     0.70571,     0.70671,     0.70771,     0.70871,     0.70971,     0.71071,     0.71171,     0.71271,     0.71371,     0.71471,     0.71572,     0.71672,     0.71772,     0.71872,     0.71972,\n",
       "           0.72072,     0.72172,     0.72272,     0.72372,     0.72472,     0.72573,     0.72673,     0.72773,     0.72873,     0.72973,     0.73073,     0.73173,     0.73273,     0.73373,     0.73473,     0.73574,     0.73674,     0.73774,     0.73874,     0.73974,     0.74074,     0.74174,     0.74274,     0.74374,\n",
       "           0.74474,     0.74575,     0.74675,     0.74775,     0.74875,     0.74975,     0.75075,     0.75175,     0.75275,     0.75375,     0.75475,     0.75576,     0.75676,     0.75776,     0.75876,     0.75976,     0.76076,     0.76176,     0.76276,     0.76376,     0.76476,     0.76577,     0.76677,     0.76777,\n",
       "           0.76877,     0.76977,     0.77077,     0.77177,     0.77277,     0.77377,     0.77477,     0.77578,     0.77678,     0.77778,     0.77878,     0.77978,     0.78078,     0.78178,     0.78278,     0.78378,     0.78478,     0.78579,     0.78679,     0.78779,     0.78879,     0.78979,     0.79079,     0.79179,\n",
       "           0.79279,     0.79379,     0.79479,      0.7958,      0.7968,      0.7978,      0.7988,      0.7998,      0.8008,      0.8018,      0.8028,      0.8038,      0.8048,     0.80581,     0.80681,     0.80781,     0.80881,     0.80981,     0.81081,     0.81181,     0.81281,     0.81381,     0.81481,     0.81582,\n",
       "           0.81682,     0.81782,     0.81882,     0.81982,     0.82082,     0.82182,     0.82282,     0.82382,     0.82482,     0.82583,     0.82683,     0.82783,     0.82883,     0.82983,     0.83083,     0.83183,     0.83283,     0.83383,     0.83483,     0.83584,     0.83684,     0.83784,     0.83884,     0.83984,\n",
       "           0.84084,     0.84184,     0.84284,     0.84384,     0.84484,     0.84585,     0.84685,     0.84785,     0.84885,     0.84985,     0.85085,     0.85185,     0.85285,     0.85385,     0.85485,     0.85586,     0.85686,     0.85786,     0.85886,     0.85986,     0.86086,     0.86186,     0.86286,     0.86386,\n",
       "           0.86486,     0.86587,     0.86687,     0.86787,     0.86887,     0.86987,     0.87087,     0.87187,     0.87287,     0.87387,     0.87487,     0.87588,     0.87688,     0.87788,     0.87888,     0.87988,     0.88088,     0.88188,     0.88288,     0.88388,     0.88488,     0.88589,     0.88689,     0.88789,\n",
       "           0.88889,     0.88989,     0.89089,     0.89189,     0.89289,     0.89389,     0.89489,      0.8959,      0.8969,      0.8979,      0.8989,      0.8999,      0.9009,      0.9019,      0.9029,      0.9039,      0.9049,     0.90591,     0.90691,     0.90791,     0.90891,     0.90991,     0.91091,     0.91191,\n",
       "           0.91291,     0.91391,     0.91491,     0.91592,     0.91692,     0.91792,     0.91892,     0.91992,     0.92092,     0.92192,     0.92292,     0.92392,     0.92492,     0.92593,     0.92693,     0.92793,     0.92893,     0.92993,     0.93093,     0.93193,     0.93293,     0.93393,     0.93493,     0.93594,\n",
       "           0.93694,     0.93794,     0.93894,     0.93994,     0.94094,     0.94194,     0.94294,     0.94394,     0.94494,     0.94595,     0.94695,     0.94795,     0.94895,     0.94995,     0.95095,     0.95195,     0.95295,     0.95395,     0.95495,     0.95596,     0.95696,     0.95796,     0.95896,     0.95996,\n",
       "           0.96096,     0.96196,     0.96296,     0.96396,     0.96496,     0.96597,     0.96697,     0.96797,     0.96897,     0.96997,     0.97097,     0.97197,     0.97297,     0.97397,     0.97497,     0.97598,     0.97698,     0.97798,     0.97898,     0.97998,     0.98098,     0.98198,     0.98298,     0.98398,\n",
       "           0.98498,     0.98599,     0.98699,     0.98799,     0.98899,     0.98999,     0.99099,     0.99199,     0.99299,     0.99399,     0.99499,       0.996,       0.997,       0.998,       0.999,           1]), array([[          1,           1,           1, ...,  0.00074049,  0.00037025,           0],\n",
       "       [          1,           1,        0.96, ...,   0.0021266,   0.0010633,           0]]), 'Recall', 'Precision'], [array([          0,    0.001001,    0.002002,    0.003003,    0.004004,    0.005005,    0.006006,    0.007007,    0.008008,    0.009009,     0.01001,    0.011011,    0.012012,    0.013013,    0.014014,    0.015015,    0.016016,    0.017017,    0.018018,    0.019019,     0.02002,    0.021021,    0.022022,    0.023023,\n",
       "          0.024024,    0.025025,    0.026026,    0.027027,    0.028028,    0.029029,     0.03003,    0.031031,    0.032032,    0.033033,    0.034034,    0.035035,    0.036036,    0.037037,    0.038038,    0.039039,     0.04004,    0.041041,    0.042042,    0.043043,    0.044044,    0.045045,    0.046046,    0.047047,\n",
       "          0.048048,    0.049049,     0.05005,    0.051051,    0.052052,    0.053053,    0.054054,    0.055055,    0.056056,    0.057057,    0.058058,    0.059059,     0.06006,    0.061061,    0.062062,    0.063063,    0.064064,    0.065065,    0.066066,    0.067067,    0.068068,    0.069069,     0.07007,    0.071071,\n",
       "          0.072072,    0.073073,    0.074074,    0.075075,    0.076076,    0.077077,    0.078078,    0.079079,     0.08008,    0.081081,    0.082082,    0.083083,    0.084084,    0.085085,    0.086086,    0.087087,    0.088088,    0.089089,     0.09009,    0.091091,    0.092092,    0.093093,    0.094094,    0.095095,\n",
       "          0.096096,    0.097097,    0.098098,    0.099099,      0.1001,      0.1011,      0.1021,      0.1031,      0.1041,     0.10511,     0.10611,     0.10711,     0.10811,     0.10911,     0.11011,     0.11111,     0.11211,     0.11311,     0.11411,     0.11512,     0.11612,     0.11712,     0.11812,     0.11912,\n",
       "           0.12012,     0.12112,     0.12212,     0.12312,     0.12412,     0.12513,     0.12613,     0.12713,     0.12813,     0.12913,     0.13013,     0.13113,     0.13213,     0.13313,     0.13413,     0.13514,     0.13614,     0.13714,     0.13814,     0.13914,     0.14014,     0.14114,     0.14214,     0.14314,\n",
       "           0.14414,     0.14515,     0.14615,     0.14715,     0.14815,     0.14915,     0.15015,     0.15115,     0.15215,     0.15315,     0.15415,     0.15516,     0.15616,     0.15716,     0.15816,     0.15916,     0.16016,     0.16116,     0.16216,     0.16316,     0.16416,     0.16517,     0.16617,     0.16717,\n",
       "           0.16817,     0.16917,     0.17017,     0.17117,     0.17217,     0.17317,     0.17417,     0.17518,     0.17618,     0.17718,     0.17818,     0.17918,     0.18018,     0.18118,     0.18218,     0.18318,     0.18418,     0.18519,     0.18619,     0.18719,     0.18819,     0.18919,     0.19019,     0.19119,\n",
       "           0.19219,     0.19319,     0.19419,      0.1952,      0.1962,      0.1972,      0.1982,      0.1992,      0.2002,      0.2012,      0.2022,      0.2032,      0.2042,     0.20521,     0.20621,     0.20721,     0.20821,     0.20921,     0.21021,     0.21121,     0.21221,     0.21321,     0.21421,     0.21522,\n",
       "           0.21622,     0.21722,     0.21822,     0.21922,     0.22022,     0.22122,     0.22222,     0.22322,     0.22422,     0.22523,     0.22623,     0.22723,     0.22823,     0.22923,     0.23023,     0.23123,     0.23223,     0.23323,     0.23423,     0.23524,     0.23624,     0.23724,     0.23824,     0.23924,\n",
       "           0.24024,     0.24124,     0.24224,     0.24324,     0.24424,     0.24525,     0.24625,     0.24725,     0.24825,     0.24925,     0.25025,     0.25125,     0.25225,     0.25325,     0.25425,     0.25526,     0.25626,     0.25726,     0.25826,     0.25926,     0.26026,     0.26126,     0.26226,     0.26326,\n",
       "           0.26426,     0.26527,     0.26627,     0.26727,     0.26827,     0.26927,     0.27027,     0.27127,     0.27227,     0.27327,     0.27427,     0.27528,     0.27628,     0.27728,     0.27828,     0.27928,     0.28028,     0.28128,     0.28228,     0.28328,     0.28428,     0.28529,     0.28629,     0.28729,\n",
       "           0.28829,     0.28929,     0.29029,     0.29129,     0.29229,     0.29329,     0.29429,      0.2953,      0.2963,      0.2973,      0.2983,      0.2993,      0.3003,      0.3013,      0.3023,      0.3033,      0.3043,     0.30531,     0.30631,     0.30731,     0.30831,     0.30931,     0.31031,     0.31131,\n",
       "           0.31231,     0.31331,     0.31431,     0.31532,     0.31632,     0.31732,     0.31832,     0.31932,     0.32032,     0.32132,     0.32232,     0.32332,     0.32432,     0.32533,     0.32633,     0.32733,     0.32833,     0.32933,     0.33033,     0.33133,     0.33233,     0.33333,     0.33433,     0.33534,\n",
       "           0.33634,     0.33734,     0.33834,     0.33934,     0.34034,     0.34134,     0.34234,     0.34334,     0.34434,     0.34535,     0.34635,     0.34735,     0.34835,     0.34935,     0.35035,     0.35135,     0.35235,     0.35335,     0.35435,     0.35536,     0.35636,     0.35736,     0.35836,     0.35936,\n",
       "           0.36036,     0.36136,     0.36236,     0.36336,     0.36436,     0.36537,     0.36637,     0.36737,     0.36837,     0.36937,     0.37037,     0.37137,     0.37237,     0.37337,     0.37437,     0.37538,     0.37638,     0.37738,     0.37838,     0.37938,     0.38038,     0.38138,     0.38238,     0.38338,\n",
       "           0.38438,     0.38539,     0.38639,     0.38739,     0.38839,     0.38939,     0.39039,     0.39139,     0.39239,     0.39339,     0.39439,      0.3954,      0.3964,      0.3974,      0.3984,      0.3994,      0.4004,      0.4014,      0.4024,      0.4034,      0.4044,     0.40541,     0.40641,     0.40741,\n",
       "           0.40841,     0.40941,     0.41041,     0.41141,     0.41241,     0.41341,     0.41441,     0.41542,     0.41642,     0.41742,     0.41842,     0.41942,     0.42042,     0.42142,     0.42242,     0.42342,     0.42442,     0.42543,     0.42643,     0.42743,     0.42843,     0.42943,     0.43043,     0.43143,\n",
       "           0.43243,     0.43343,     0.43443,     0.43544,     0.43644,     0.43744,     0.43844,     0.43944,     0.44044,     0.44144,     0.44244,     0.44344,     0.44444,     0.44545,     0.44645,     0.44745,     0.44845,     0.44945,     0.45045,     0.45145,     0.45245,     0.45345,     0.45445,     0.45546,\n",
       "           0.45646,     0.45746,     0.45846,     0.45946,     0.46046,     0.46146,     0.46246,     0.46346,     0.46446,     0.46547,     0.46647,     0.46747,     0.46847,     0.46947,     0.47047,     0.47147,     0.47247,     0.47347,     0.47447,     0.47548,     0.47648,     0.47748,     0.47848,     0.47948,\n",
       "           0.48048,     0.48148,     0.48248,     0.48348,     0.48448,     0.48549,     0.48649,     0.48749,     0.48849,     0.48949,     0.49049,     0.49149,     0.49249,     0.49349,     0.49449,      0.4955,      0.4965,      0.4975,      0.4985,      0.4995,      0.5005,      0.5015,      0.5025,      0.5035,\n",
       "            0.5045,     0.50551,     0.50651,     0.50751,     0.50851,     0.50951,     0.51051,     0.51151,     0.51251,     0.51351,     0.51451,     0.51552,     0.51652,     0.51752,     0.51852,     0.51952,     0.52052,     0.52152,     0.52252,     0.52352,     0.52452,     0.52553,     0.52653,     0.52753,\n",
       "           0.52853,     0.52953,     0.53053,     0.53153,     0.53253,     0.53353,     0.53453,     0.53554,     0.53654,     0.53754,     0.53854,     0.53954,     0.54054,     0.54154,     0.54254,     0.54354,     0.54454,     0.54555,     0.54655,     0.54755,     0.54855,     0.54955,     0.55055,     0.55155,\n",
       "           0.55255,     0.55355,     0.55455,     0.55556,     0.55656,     0.55756,     0.55856,     0.55956,     0.56056,     0.56156,     0.56256,     0.56356,     0.56456,     0.56557,     0.56657,     0.56757,     0.56857,     0.56957,     0.57057,     0.57157,     0.57257,     0.57357,     0.57457,     0.57558,\n",
       "           0.57658,     0.57758,     0.57858,     0.57958,     0.58058,     0.58158,     0.58258,     0.58358,     0.58458,     0.58559,     0.58659,     0.58759,     0.58859,     0.58959,     0.59059,     0.59159,     0.59259,     0.59359,     0.59459,      0.5956,      0.5966,      0.5976,      0.5986,      0.5996,\n",
       "            0.6006,      0.6016,      0.6026,      0.6036,      0.6046,     0.60561,     0.60661,     0.60761,     0.60861,     0.60961,     0.61061,     0.61161,     0.61261,     0.61361,     0.61461,     0.61562,     0.61662,     0.61762,     0.61862,     0.61962,     0.62062,     0.62162,     0.62262,     0.62362,\n",
       "           0.62462,     0.62563,     0.62663,     0.62763,     0.62863,     0.62963,     0.63063,     0.63163,     0.63263,     0.63363,     0.63463,     0.63564,     0.63664,     0.63764,     0.63864,     0.63964,     0.64064,     0.64164,     0.64264,     0.64364,     0.64464,     0.64565,     0.64665,     0.64765,\n",
       "           0.64865,     0.64965,     0.65065,     0.65165,     0.65265,     0.65365,     0.65465,     0.65566,     0.65666,     0.65766,     0.65866,     0.65966,     0.66066,     0.66166,     0.66266,     0.66366,     0.66466,     0.66567,     0.66667,     0.66767,     0.66867,     0.66967,     0.67067,     0.67167,\n",
       "           0.67267,     0.67367,     0.67467,     0.67568,     0.67668,     0.67768,     0.67868,     0.67968,     0.68068,     0.68168,     0.68268,     0.68368,     0.68468,     0.68569,     0.68669,     0.68769,     0.68869,     0.68969,     0.69069,     0.69169,     0.69269,     0.69369,     0.69469,      0.6957,\n",
       "            0.6967,      0.6977,      0.6987,      0.6997,      0.7007,      0.7017,      0.7027,      0.7037,      0.7047,     0.70571,     0.70671,     0.70771,     0.70871,     0.70971,     0.71071,     0.71171,     0.71271,     0.71371,     0.71471,     0.71572,     0.71672,     0.71772,     0.71872,     0.71972,\n",
       "           0.72072,     0.72172,     0.72272,     0.72372,     0.72472,     0.72573,     0.72673,     0.72773,     0.72873,     0.72973,     0.73073,     0.73173,     0.73273,     0.73373,     0.73473,     0.73574,     0.73674,     0.73774,     0.73874,     0.73974,     0.74074,     0.74174,     0.74274,     0.74374,\n",
       "           0.74474,     0.74575,     0.74675,     0.74775,     0.74875,     0.74975,     0.75075,     0.75175,     0.75275,     0.75375,     0.75475,     0.75576,     0.75676,     0.75776,     0.75876,     0.75976,     0.76076,     0.76176,     0.76276,     0.76376,     0.76476,     0.76577,     0.76677,     0.76777,\n",
       "           0.76877,     0.76977,     0.77077,     0.77177,     0.77277,     0.77377,     0.77477,     0.77578,     0.77678,     0.77778,     0.77878,     0.77978,     0.78078,     0.78178,     0.78278,     0.78378,     0.78478,     0.78579,     0.78679,     0.78779,     0.78879,     0.78979,     0.79079,     0.79179,\n",
       "           0.79279,     0.79379,     0.79479,      0.7958,      0.7968,      0.7978,      0.7988,      0.7998,      0.8008,      0.8018,      0.8028,      0.8038,      0.8048,     0.80581,     0.80681,     0.80781,     0.80881,     0.80981,     0.81081,     0.81181,     0.81281,     0.81381,     0.81481,     0.81582,\n",
       "           0.81682,     0.81782,     0.81882,     0.81982,     0.82082,     0.82182,     0.82282,     0.82382,     0.82482,     0.82583,     0.82683,     0.82783,     0.82883,     0.82983,     0.83083,     0.83183,     0.83283,     0.83383,     0.83483,     0.83584,     0.83684,     0.83784,     0.83884,     0.83984,\n",
       "           0.84084,     0.84184,     0.84284,     0.84384,     0.84484,     0.84585,     0.84685,     0.84785,     0.84885,     0.84985,     0.85085,     0.85185,     0.85285,     0.85385,     0.85485,     0.85586,     0.85686,     0.85786,     0.85886,     0.85986,     0.86086,     0.86186,     0.86286,     0.86386,\n",
       "           0.86486,     0.86587,     0.86687,     0.86787,     0.86887,     0.86987,     0.87087,     0.87187,     0.87287,     0.87387,     0.87487,     0.87588,     0.87688,     0.87788,     0.87888,     0.87988,     0.88088,     0.88188,     0.88288,     0.88388,     0.88488,     0.88589,     0.88689,     0.88789,\n",
       "           0.88889,     0.88989,     0.89089,     0.89189,     0.89289,     0.89389,     0.89489,      0.8959,      0.8969,      0.8979,      0.8989,      0.8999,      0.9009,      0.9019,      0.9029,      0.9039,      0.9049,     0.90591,     0.90691,     0.90791,     0.90891,     0.90991,     0.91091,     0.91191,\n",
       "           0.91291,     0.91391,     0.91491,     0.91592,     0.91692,     0.91792,     0.91892,     0.91992,     0.92092,     0.92192,     0.92292,     0.92392,     0.92492,     0.92593,     0.92693,     0.92793,     0.92893,     0.92993,     0.93093,     0.93193,     0.93293,     0.93393,     0.93493,     0.93594,\n",
       "           0.93694,     0.93794,     0.93894,     0.93994,     0.94094,     0.94194,     0.94294,     0.94394,     0.94494,     0.94595,     0.94695,     0.94795,     0.94895,     0.94995,     0.95095,     0.95195,     0.95295,     0.95395,     0.95495,     0.95596,     0.95696,     0.95796,     0.95896,     0.95996,\n",
       "           0.96096,     0.96196,     0.96296,     0.96396,     0.96496,     0.96597,     0.96697,     0.96797,     0.96897,     0.96997,     0.97097,     0.97197,     0.97297,     0.97397,     0.97497,     0.97598,     0.97698,     0.97798,     0.97898,     0.97998,     0.98098,     0.98198,     0.98298,     0.98398,\n",
       "           0.98498,     0.98599,     0.98699,     0.98799,     0.98899,     0.98999,     0.99099,     0.99199,     0.99299,     0.99399,     0.99499,       0.996,       0.997,       0.998,       0.999,           1]), array([[   0.060863,    0.060863,    0.080527, ...,           0,           0,           0],\n",
       "       [   0.089672,    0.089721,      0.1279, ...,           0,           0,           0]]), 'Confidence', 'F1'], [array([          0,    0.001001,    0.002002,    0.003003,    0.004004,    0.005005,    0.006006,    0.007007,    0.008008,    0.009009,     0.01001,    0.011011,    0.012012,    0.013013,    0.014014,    0.015015,    0.016016,    0.017017,    0.018018,    0.019019,     0.02002,    0.021021,    0.022022,    0.023023,\n",
       "          0.024024,    0.025025,    0.026026,    0.027027,    0.028028,    0.029029,     0.03003,    0.031031,    0.032032,    0.033033,    0.034034,    0.035035,    0.036036,    0.037037,    0.038038,    0.039039,     0.04004,    0.041041,    0.042042,    0.043043,    0.044044,    0.045045,    0.046046,    0.047047,\n",
       "          0.048048,    0.049049,     0.05005,    0.051051,    0.052052,    0.053053,    0.054054,    0.055055,    0.056056,    0.057057,    0.058058,    0.059059,     0.06006,    0.061061,    0.062062,    0.063063,    0.064064,    0.065065,    0.066066,    0.067067,    0.068068,    0.069069,     0.07007,    0.071071,\n",
       "          0.072072,    0.073073,    0.074074,    0.075075,    0.076076,    0.077077,    0.078078,    0.079079,     0.08008,    0.081081,    0.082082,    0.083083,    0.084084,    0.085085,    0.086086,    0.087087,    0.088088,    0.089089,     0.09009,    0.091091,    0.092092,    0.093093,    0.094094,    0.095095,\n",
       "          0.096096,    0.097097,    0.098098,    0.099099,      0.1001,      0.1011,      0.1021,      0.1031,      0.1041,     0.10511,     0.10611,     0.10711,     0.10811,     0.10911,     0.11011,     0.11111,     0.11211,     0.11311,     0.11411,     0.11512,     0.11612,     0.11712,     0.11812,     0.11912,\n",
       "           0.12012,     0.12112,     0.12212,     0.12312,     0.12412,     0.12513,     0.12613,     0.12713,     0.12813,     0.12913,     0.13013,     0.13113,     0.13213,     0.13313,     0.13413,     0.13514,     0.13614,     0.13714,     0.13814,     0.13914,     0.14014,     0.14114,     0.14214,     0.14314,\n",
       "           0.14414,     0.14515,     0.14615,     0.14715,     0.14815,     0.14915,     0.15015,     0.15115,     0.15215,     0.15315,     0.15415,     0.15516,     0.15616,     0.15716,     0.15816,     0.15916,     0.16016,     0.16116,     0.16216,     0.16316,     0.16416,     0.16517,     0.16617,     0.16717,\n",
       "           0.16817,     0.16917,     0.17017,     0.17117,     0.17217,     0.17317,     0.17417,     0.17518,     0.17618,     0.17718,     0.17818,     0.17918,     0.18018,     0.18118,     0.18218,     0.18318,     0.18418,     0.18519,     0.18619,     0.18719,     0.18819,     0.18919,     0.19019,     0.19119,\n",
       "           0.19219,     0.19319,     0.19419,      0.1952,      0.1962,      0.1972,      0.1982,      0.1992,      0.2002,      0.2012,      0.2022,      0.2032,      0.2042,     0.20521,     0.20621,     0.20721,     0.20821,     0.20921,     0.21021,     0.21121,     0.21221,     0.21321,     0.21421,     0.21522,\n",
       "           0.21622,     0.21722,     0.21822,     0.21922,     0.22022,     0.22122,     0.22222,     0.22322,     0.22422,     0.22523,     0.22623,     0.22723,     0.22823,     0.22923,     0.23023,     0.23123,     0.23223,     0.23323,     0.23423,     0.23524,     0.23624,     0.23724,     0.23824,     0.23924,\n",
       "           0.24024,     0.24124,     0.24224,     0.24324,     0.24424,     0.24525,     0.24625,     0.24725,     0.24825,     0.24925,     0.25025,     0.25125,     0.25225,     0.25325,     0.25425,     0.25526,     0.25626,     0.25726,     0.25826,     0.25926,     0.26026,     0.26126,     0.26226,     0.26326,\n",
       "           0.26426,     0.26527,     0.26627,     0.26727,     0.26827,     0.26927,     0.27027,     0.27127,     0.27227,     0.27327,     0.27427,     0.27528,     0.27628,     0.27728,     0.27828,     0.27928,     0.28028,     0.28128,     0.28228,     0.28328,     0.28428,     0.28529,     0.28629,     0.28729,\n",
       "           0.28829,     0.28929,     0.29029,     0.29129,     0.29229,     0.29329,     0.29429,      0.2953,      0.2963,      0.2973,      0.2983,      0.2993,      0.3003,      0.3013,      0.3023,      0.3033,      0.3043,     0.30531,     0.30631,     0.30731,     0.30831,     0.30931,     0.31031,     0.31131,\n",
       "           0.31231,     0.31331,     0.31431,     0.31532,     0.31632,     0.31732,     0.31832,     0.31932,     0.32032,     0.32132,     0.32232,     0.32332,     0.32432,     0.32533,     0.32633,     0.32733,     0.32833,     0.32933,     0.33033,     0.33133,     0.33233,     0.33333,     0.33433,     0.33534,\n",
       "           0.33634,     0.33734,     0.33834,     0.33934,     0.34034,     0.34134,     0.34234,     0.34334,     0.34434,     0.34535,     0.34635,     0.34735,     0.34835,     0.34935,     0.35035,     0.35135,     0.35235,     0.35335,     0.35435,     0.35536,     0.35636,     0.35736,     0.35836,     0.35936,\n",
       "           0.36036,     0.36136,     0.36236,     0.36336,     0.36436,     0.36537,     0.36637,     0.36737,     0.36837,     0.36937,     0.37037,     0.37137,     0.37237,     0.37337,     0.37437,     0.37538,     0.37638,     0.37738,     0.37838,     0.37938,     0.38038,     0.38138,     0.38238,     0.38338,\n",
       "           0.38438,     0.38539,     0.38639,     0.38739,     0.38839,     0.38939,     0.39039,     0.39139,     0.39239,     0.39339,     0.39439,      0.3954,      0.3964,      0.3974,      0.3984,      0.3994,      0.4004,      0.4014,      0.4024,      0.4034,      0.4044,     0.40541,     0.40641,     0.40741,\n",
       "           0.40841,     0.40941,     0.41041,     0.41141,     0.41241,     0.41341,     0.41441,     0.41542,     0.41642,     0.41742,     0.41842,     0.41942,     0.42042,     0.42142,     0.42242,     0.42342,     0.42442,     0.42543,     0.42643,     0.42743,     0.42843,     0.42943,     0.43043,     0.43143,\n",
       "           0.43243,     0.43343,     0.43443,     0.43544,     0.43644,     0.43744,     0.43844,     0.43944,     0.44044,     0.44144,     0.44244,     0.44344,     0.44444,     0.44545,     0.44645,     0.44745,     0.44845,     0.44945,     0.45045,     0.45145,     0.45245,     0.45345,     0.45445,     0.45546,\n",
       "           0.45646,     0.45746,     0.45846,     0.45946,     0.46046,     0.46146,     0.46246,     0.46346,     0.46446,     0.46547,     0.46647,     0.46747,     0.46847,     0.46947,     0.47047,     0.47147,     0.47247,     0.47347,     0.47447,     0.47548,     0.47648,     0.47748,     0.47848,     0.47948,\n",
       "           0.48048,     0.48148,     0.48248,     0.48348,     0.48448,     0.48549,     0.48649,     0.48749,     0.48849,     0.48949,     0.49049,     0.49149,     0.49249,     0.49349,     0.49449,      0.4955,      0.4965,      0.4975,      0.4985,      0.4995,      0.5005,      0.5015,      0.5025,      0.5035,\n",
       "            0.5045,     0.50551,     0.50651,     0.50751,     0.50851,     0.50951,     0.51051,     0.51151,     0.51251,     0.51351,     0.51451,     0.51552,     0.51652,     0.51752,     0.51852,     0.51952,     0.52052,     0.52152,     0.52252,     0.52352,     0.52452,     0.52553,     0.52653,     0.52753,\n",
       "           0.52853,     0.52953,     0.53053,     0.53153,     0.53253,     0.53353,     0.53453,     0.53554,     0.53654,     0.53754,     0.53854,     0.53954,     0.54054,     0.54154,     0.54254,     0.54354,     0.54454,     0.54555,     0.54655,     0.54755,     0.54855,     0.54955,     0.55055,     0.55155,\n",
       "           0.55255,     0.55355,     0.55455,     0.55556,     0.55656,     0.55756,     0.55856,     0.55956,     0.56056,     0.56156,     0.56256,     0.56356,     0.56456,     0.56557,     0.56657,     0.56757,     0.56857,     0.56957,     0.57057,     0.57157,     0.57257,     0.57357,     0.57457,     0.57558,\n",
       "           0.57658,     0.57758,     0.57858,     0.57958,     0.58058,     0.58158,     0.58258,     0.58358,     0.58458,     0.58559,     0.58659,     0.58759,     0.58859,     0.58959,     0.59059,     0.59159,     0.59259,     0.59359,     0.59459,      0.5956,      0.5966,      0.5976,      0.5986,      0.5996,\n",
       "            0.6006,      0.6016,      0.6026,      0.6036,      0.6046,     0.60561,     0.60661,     0.60761,     0.60861,     0.60961,     0.61061,     0.61161,     0.61261,     0.61361,     0.61461,     0.61562,     0.61662,     0.61762,     0.61862,     0.61962,     0.62062,     0.62162,     0.62262,     0.62362,\n",
       "           0.62462,     0.62563,     0.62663,     0.62763,     0.62863,     0.62963,     0.63063,     0.63163,     0.63263,     0.63363,     0.63463,     0.63564,     0.63664,     0.63764,     0.63864,     0.63964,     0.64064,     0.64164,     0.64264,     0.64364,     0.64464,     0.64565,     0.64665,     0.64765,\n",
       "           0.64865,     0.64965,     0.65065,     0.65165,     0.65265,     0.65365,     0.65465,     0.65566,     0.65666,     0.65766,     0.65866,     0.65966,     0.66066,     0.66166,     0.66266,     0.66366,     0.66466,     0.66567,     0.66667,     0.66767,     0.66867,     0.66967,     0.67067,     0.67167,\n",
       "           0.67267,     0.67367,     0.67467,     0.67568,     0.67668,     0.67768,     0.67868,     0.67968,     0.68068,     0.68168,     0.68268,     0.68368,     0.68468,     0.68569,     0.68669,     0.68769,     0.68869,     0.68969,     0.69069,     0.69169,     0.69269,     0.69369,     0.69469,      0.6957,\n",
       "            0.6967,      0.6977,      0.6987,      0.6997,      0.7007,      0.7017,      0.7027,      0.7037,      0.7047,     0.70571,     0.70671,     0.70771,     0.70871,     0.70971,     0.71071,     0.71171,     0.71271,     0.71371,     0.71471,     0.71572,     0.71672,     0.71772,     0.71872,     0.71972,\n",
       "           0.72072,     0.72172,     0.72272,     0.72372,     0.72472,     0.72573,     0.72673,     0.72773,     0.72873,     0.72973,     0.73073,     0.73173,     0.73273,     0.73373,     0.73473,     0.73574,     0.73674,     0.73774,     0.73874,     0.73974,     0.74074,     0.74174,     0.74274,     0.74374,\n",
       "           0.74474,     0.74575,     0.74675,     0.74775,     0.74875,     0.74975,     0.75075,     0.75175,     0.75275,     0.75375,     0.75475,     0.75576,     0.75676,     0.75776,     0.75876,     0.75976,     0.76076,     0.76176,     0.76276,     0.76376,     0.76476,     0.76577,     0.76677,     0.76777,\n",
       "           0.76877,     0.76977,     0.77077,     0.77177,     0.77277,     0.77377,     0.77477,     0.77578,     0.77678,     0.77778,     0.77878,     0.77978,     0.78078,     0.78178,     0.78278,     0.78378,     0.78478,     0.78579,     0.78679,     0.78779,     0.78879,     0.78979,     0.79079,     0.79179,\n",
       "           0.79279,     0.79379,     0.79479,      0.7958,      0.7968,      0.7978,      0.7988,      0.7998,      0.8008,      0.8018,      0.8028,      0.8038,      0.8048,     0.80581,     0.80681,     0.80781,     0.80881,     0.80981,     0.81081,     0.81181,     0.81281,     0.81381,     0.81481,     0.81582,\n",
       "           0.81682,     0.81782,     0.81882,     0.81982,     0.82082,     0.82182,     0.82282,     0.82382,     0.82482,     0.82583,     0.82683,     0.82783,     0.82883,     0.82983,     0.83083,     0.83183,     0.83283,     0.83383,     0.83483,     0.83584,     0.83684,     0.83784,     0.83884,     0.83984,\n",
       "           0.84084,     0.84184,     0.84284,     0.84384,     0.84484,     0.84585,     0.84685,     0.84785,     0.84885,     0.84985,     0.85085,     0.85185,     0.85285,     0.85385,     0.85485,     0.85586,     0.85686,     0.85786,     0.85886,     0.85986,     0.86086,     0.86186,     0.86286,     0.86386,\n",
       "           0.86486,     0.86587,     0.86687,     0.86787,     0.86887,     0.86987,     0.87087,     0.87187,     0.87287,     0.87387,     0.87487,     0.87588,     0.87688,     0.87788,     0.87888,     0.87988,     0.88088,     0.88188,     0.88288,     0.88388,     0.88488,     0.88589,     0.88689,     0.88789,\n",
       "           0.88889,     0.88989,     0.89089,     0.89189,     0.89289,     0.89389,     0.89489,      0.8959,      0.8969,      0.8979,      0.8989,      0.8999,      0.9009,      0.9019,      0.9029,      0.9039,      0.9049,     0.90591,     0.90691,     0.90791,     0.90891,     0.90991,     0.91091,     0.91191,\n",
       "           0.91291,     0.91391,     0.91491,     0.91592,     0.91692,     0.91792,     0.91892,     0.91992,     0.92092,     0.92192,     0.92292,     0.92392,     0.92492,     0.92593,     0.92693,     0.92793,     0.92893,     0.92993,     0.93093,     0.93193,     0.93293,     0.93393,     0.93493,     0.93594,\n",
       "           0.93694,     0.93794,     0.93894,     0.93994,     0.94094,     0.94194,     0.94294,     0.94394,     0.94494,     0.94595,     0.94695,     0.94795,     0.94895,     0.94995,     0.95095,     0.95195,     0.95295,     0.95395,     0.95495,     0.95596,     0.95696,     0.95796,     0.95896,     0.95996,\n",
       "           0.96096,     0.96196,     0.96296,     0.96396,     0.96496,     0.96597,     0.96697,     0.96797,     0.96897,     0.96997,     0.97097,     0.97197,     0.97297,     0.97397,     0.97497,     0.97598,     0.97698,     0.97798,     0.97898,     0.97998,     0.98098,     0.98198,     0.98298,     0.98398,\n",
       "           0.98498,     0.98599,     0.98699,     0.98799,     0.98899,     0.98999,     0.99099,     0.99199,     0.99299,     0.99399,     0.99499,       0.996,       0.997,       0.998,       0.999,           1]), array([[   0.031479,    0.031479,    0.042163, ...,           1,           1,           1],\n",
       "       [   0.047043,     0.04707,    0.068588, ...,           1,           1,           1]]), 'Confidence', 'Precision'], [array([          0,    0.001001,    0.002002,    0.003003,    0.004004,    0.005005,    0.006006,    0.007007,    0.008008,    0.009009,     0.01001,    0.011011,    0.012012,    0.013013,    0.014014,    0.015015,    0.016016,    0.017017,    0.018018,    0.019019,     0.02002,    0.021021,    0.022022,    0.023023,\n",
       "          0.024024,    0.025025,    0.026026,    0.027027,    0.028028,    0.029029,     0.03003,    0.031031,    0.032032,    0.033033,    0.034034,    0.035035,    0.036036,    0.037037,    0.038038,    0.039039,     0.04004,    0.041041,    0.042042,    0.043043,    0.044044,    0.045045,    0.046046,    0.047047,\n",
       "          0.048048,    0.049049,     0.05005,    0.051051,    0.052052,    0.053053,    0.054054,    0.055055,    0.056056,    0.057057,    0.058058,    0.059059,     0.06006,    0.061061,    0.062062,    0.063063,    0.064064,    0.065065,    0.066066,    0.067067,    0.068068,    0.069069,     0.07007,    0.071071,\n",
       "          0.072072,    0.073073,    0.074074,    0.075075,    0.076076,    0.077077,    0.078078,    0.079079,     0.08008,    0.081081,    0.082082,    0.083083,    0.084084,    0.085085,    0.086086,    0.087087,    0.088088,    0.089089,     0.09009,    0.091091,    0.092092,    0.093093,    0.094094,    0.095095,\n",
       "          0.096096,    0.097097,    0.098098,    0.099099,      0.1001,      0.1011,      0.1021,      0.1031,      0.1041,     0.10511,     0.10611,     0.10711,     0.10811,     0.10911,     0.11011,     0.11111,     0.11211,     0.11311,     0.11411,     0.11512,     0.11612,     0.11712,     0.11812,     0.11912,\n",
       "           0.12012,     0.12112,     0.12212,     0.12312,     0.12412,     0.12513,     0.12613,     0.12713,     0.12813,     0.12913,     0.13013,     0.13113,     0.13213,     0.13313,     0.13413,     0.13514,     0.13614,     0.13714,     0.13814,     0.13914,     0.14014,     0.14114,     0.14214,     0.14314,\n",
       "           0.14414,     0.14515,     0.14615,     0.14715,     0.14815,     0.14915,     0.15015,     0.15115,     0.15215,     0.15315,     0.15415,     0.15516,     0.15616,     0.15716,     0.15816,     0.15916,     0.16016,     0.16116,     0.16216,     0.16316,     0.16416,     0.16517,     0.16617,     0.16717,\n",
       "           0.16817,     0.16917,     0.17017,     0.17117,     0.17217,     0.17317,     0.17417,     0.17518,     0.17618,     0.17718,     0.17818,     0.17918,     0.18018,     0.18118,     0.18218,     0.18318,     0.18418,     0.18519,     0.18619,     0.18719,     0.18819,     0.18919,     0.19019,     0.19119,\n",
       "           0.19219,     0.19319,     0.19419,      0.1952,      0.1962,      0.1972,      0.1982,      0.1992,      0.2002,      0.2012,      0.2022,      0.2032,      0.2042,     0.20521,     0.20621,     0.20721,     0.20821,     0.20921,     0.21021,     0.21121,     0.21221,     0.21321,     0.21421,     0.21522,\n",
       "           0.21622,     0.21722,     0.21822,     0.21922,     0.22022,     0.22122,     0.22222,     0.22322,     0.22422,     0.22523,     0.22623,     0.22723,     0.22823,     0.22923,     0.23023,     0.23123,     0.23223,     0.23323,     0.23423,     0.23524,     0.23624,     0.23724,     0.23824,     0.23924,\n",
       "           0.24024,     0.24124,     0.24224,     0.24324,     0.24424,     0.24525,     0.24625,     0.24725,     0.24825,     0.24925,     0.25025,     0.25125,     0.25225,     0.25325,     0.25425,     0.25526,     0.25626,     0.25726,     0.25826,     0.25926,     0.26026,     0.26126,     0.26226,     0.26326,\n",
       "           0.26426,     0.26527,     0.26627,     0.26727,     0.26827,     0.26927,     0.27027,     0.27127,     0.27227,     0.27327,     0.27427,     0.27528,     0.27628,     0.27728,     0.27828,     0.27928,     0.28028,     0.28128,     0.28228,     0.28328,     0.28428,     0.28529,     0.28629,     0.28729,\n",
       "           0.28829,     0.28929,     0.29029,     0.29129,     0.29229,     0.29329,     0.29429,      0.2953,      0.2963,      0.2973,      0.2983,      0.2993,      0.3003,      0.3013,      0.3023,      0.3033,      0.3043,     0.30531,     0.30631,     0.30731,     0.30831,     0.30931,     0.31031,     0.31131,\n",
       "           0.31231,     0.31331,     0.31431,     0.31532,     0.31632,     0.31732,     0.31832,     0.31932,     0.32032,     0.32132,     0.32232,     0.32332,     0.32432,     0.32533,     0.32633,     0.32733,     0.32833,     0.32933,     0.33033,     0.33133,     0.33233,     0.33333,     0.33433,     0.33534,\n",
       "           0.33634,     0.33734,     0.33834,     0.33934,     0.34034,     0.34134,     0.34234,     0.34334,     0.34434,     0.34535,     0.34635,     0.34735,     0.34835,     0.34935,     0.35035,     0.35135,     0.35235,     0.35335,     0.35435,     0.35536,     0.35636,     0.35736,     0.35836,     0.35936,\n",
       "           0.36036,     0.36136,     0.36236,     0.36336,     0.36436,     0.36537,     0.36637,     0.36737,     0.36837,     0.36937,     0.37037,     0.37137,     0.37237,     0.37337,     0.37437,     0.37538,     0.37638,     0.37738,     0.37838,     0.37938,     0.38038,     0.38138,     0.38238,     0.38338,\n",
       "           0.38438,     0.38539,     0.38639,     0.38739,     0.38839,     0.38939,     0.39039,     0.39139,     0.39239,     0.39339,     0.39439,      0.3954,      0.3964,      0.3974,      0.3984,      0.3994,      0.4004,      0.4014,      0.4024,      0.4034,      0.4044,     0.40541,     0.40641,     0.40741,\n",
       "           0.40841,     0.40941,     0.41041,     0.41141,     0.41241,     0.41341,     0.41441,     0.41542,     0.41642,     0.41742,     0.41842,     0.41942,     0.42042,     0.42142,     0.42242,     0.42342,     0.42442,     0.42543,     0.42643,     0.42743,     0.42843,     0.42943,     0.43043,     0.43143,\n",
       "           0.43243,     0.43343,     0.43443,     0.43544,     0.43644,     0.43744,     0.43844,     0.43944,     0.44044,     0.44144,     0.44244,     0.44344,     0.44444,     0.44545,     0.44645,     0.44745,     0.44845,     0.44945,     0.45045,     0.45145,     0.45245,     0.45345,     0.45445,     0.45546,\n",
       "           0.45646,     0.45746,     0.45846,     0.45946,     0.46046,     0.46146,     0.46246,     0.46346,     0.46446,     0.46547,     0.46647,     0.46747,     0.46847,     0.46947,     0.47047,     0.47147,     0.47247,     0.47347,     0.47447,     0.47548,     0.47648,     0.47748,     0.47848,     0.47948,\n",
       "           0.48048,     0.48148,     0.48248,     0.48348,     0.48448,     0.48549,     0.48649,     0.48749,     0.48849,     0.48949,     0.49049,     0.49149,     0.49249,     0.49349,     0.49449,      0.4955,      0.4965,      0.4975,      0.4985,      0.4995,      0.5005,      0.5015,      0.5025,      0.5035,\n",
       "            0.5045,     0.50551,     0.50651,     0.50751,     0.50851,     0.50951,     0.51051,     0.51151,     0.51251,     0.51351,     0.51451,     0.51552,     0.51652,     0.51752,     0.51852,     0.51952,     0.52052,     0.52152,     0.52252,     0.52352,     0.52452,     0.52553,     0.52653,     0.52753,\n",
       "           0.52853,     0.52953,     0.53053,     0.53153,     0.53253,     0.53353,     0.53453,     0.53554,     0.53654,     0.53754,     0.53854,     0.53954,     0.54054,     0.54154,     0.54254,     0.54354,     0.54454,     0.54555,     0.54655,     0.54755,     0.54855,     0.54955,     0.55055,     0.55155,\n",
       "           0.55255,     0.55355,     0.55455,     0.55556,     0.55656,     0.55756,     0.55856,     0.55956,     0.56056,     0.56156,     0.56256,     0.56356,     0.56456,     0.56557,     0.56657,     0.56757,     0.56857,     0.56957,     0.57057,     0.57157,     0.57257,     0.57357,     0.57457,     0.57558,\n",
       "           0.57658,     0.57758,     0.57858,     0.57958,     0.58058,     0.58158,     0.58258,     0.58358,     0.58458,     0.58559,     0.58659,     0.58759,     0.58859,     0.58959,     0.59059,     0.59159,     0.59259,     0.59359,     0.59459,      0.5956,      0.5966,      0.5976,      0.5986,      0.5996,\n",
       "            0.6006,      0.6016,      0.6026,      0.6036,      0.6046,     0.60561,     0.60661,     0.60761,     0.60861,     0.60961,     0.61061,     0.61161,     0.61261,     0.61361,     0.61461,     0.61562,     0.61662,     0.61762,     0.61862,     0.61962,     0.62062,     0.62162,     0.62262,     0.62362,\n",
       "           0.62462,     0.62563,     0.62663,     0.62763,     0.62863,     0.62963,     0.63063,     0.63163,     0.63263,     0.63363,     0.63463,     0.63564,     0.63664,     0.63764,     0.63864,     0.63964,     0.64064,     0.64164,     0.64264,     0.64364,     0.64464,     0.64565,     0.64665,     0.64765,\n",
       "           0.64865,     0.64965,     0.65065,     0.65165,     0.65265,     0.65365,     0.65465,     0.65566,     0.65666,     0.65766,     0.65866,     0.65966,     0.66066,     0.66166,     0.66266,     0.66366,     0.66466,     0.66567,     0.66667,     0.66767,     0.66867,     0.66967,     0.67067,     0.67167,\n",
       "           0.67267,     0.67367,     0.67467,     0.67568,     0.67668,     0.67768,     0.67868,     0.67968,     0.68068,     0.68168,     0.68268,     0.68368,     0.68468,     0.68569,     0.68669,     0.68769,     0.68869,     0.68969,     0.69069,     0.69169,     0.69269,     0.69369,     0.69469,      0.6957,\n",
       "            0.6967,      0.6977,      0.6987,      0.6997,      0.7007,      0.7017,      0.7027,      0.7037,      0.7047,     0.70571,     0.70671,     0.70771,     0.70871,     0.70971,     0.71071,     0.71171,     0.71271,     0.71371,     0.71471,     0.71572,     0.71672,     0.71772,     0.71872,     0.71972,\n",
       "           0.72072,     0.72172,     0.72272,     0.72372,     0.72472,     0.72573,     0.72673,     0.72773,     0.72873,     0.72973,     0.73073,     0.73173,     0.73273,     0.73373,     0.73473,     0.73574,     0.73674,     0.73774,     0.73874,     0.73974,     0.74074,     0.74174,     0.74274,     0.74374,\n",
       "           0.74474,     0.74575,     0.74675,     0.74775,     0.74875,     0.74975,     0.75075,     0.75175,     0.75275,     0.75375,     0.75475,     0.75576,     0.75676,     0.75776,     0.75876,     0.75976,     0.76076,     0.76176,     0.76276,     0.76376,     0.76476,     0.76577,     0.76677,     0.76777,\n",
       "           0.76877,     0.76977,     0.77077,     0.77177,     0.77277,     0.77377,     0.77477,     0.77578,     0.77678,     0.77778,     0.77878,     0.77978,     0.78078,     0.78178,     0.78278,     0.78378,     0.78478,     0.78579,     0.78679,     0.78779,     0.78879,     0.78979,     0.79079,     0.79179,\n",
       "           0.79279,     0.79379,     0.79479,      0.7958,      0.7968,      0.7978,      0.7988,      0.7998,      0.8008,      0.8018,      0.8028,      0.8038,      0.8048,     0.80581,     0.80681,     0.80781,     0.80881,     0.80981,     0.81081,     0.81181,     0.81281,     0.81381,     0.81481,     0.81582,\n",
       "           0.81682,     0.81782,     0.81882,     0.81982,     0.82082,     0.82182,     0.82282,     0.82382,     0.82482,     0.82583,     0.82683,     0.82783,     0.82883,     0.82983,     0.83083,     0.83183,     0.83283,     0.83383,     0.83483,     0.83584,     0.83684,     0.83784,     0.83884,     0.83984,\n",
       "           0.84084,     0.84184,     0.84284,     0.84384,     0.84484,     0.84585,     0.84685,     0.84785,     0.84885,     0.84985,     0.85085,     0.85185,     0.85285,     0.85385,     0.85485,     0.85586,     0.85686,     0.85786,     0.85886,     0.85986,     0.86086,     0.86186,     0.86286,     0.86386,\n",
       "           0.86486,     0.86587,     0.86687,     0.86787,     0.86887,     0.86987,     0.87087,     0.87187,     0.87287,     0.87387,     0.87487,     0.87588,     0.87688,     0.87788,     0.87888,     0.87988,     0.88088,     0.88188,     0.88288,     0.88388,     0.88488,     0.88589,     0.88689,     0.88789,\n",
       "           0.88889,     0.88989,     0.89089,     0.89189,     0.89289,     0.89389,     0.89489,      0.8959,      0.8969,      0.8979,      0.8989,      0.8999,      0.9009,      0.9019,      0.9029,      0.9039,      0.9049,     0.90591,     0.90691,     0.90791,     0.90891,     0.90991,     0.91091,     0.91191,\n",
       "           0.91291,     0.91391,     0.91491,     0.91592,     0.91692,     0.91792,     0.91892,     0.91992,     0.92092,     0.92192,     0.92292,     0.92392,     0.92492,     0.92593,     0.92693,     0.92793,     0.92893,     0.92993,     0.93093,     0.93193,     0.93293,     0.93393,     0.93493,     0.93594,\n",
       "           0.93694,     0.93794,     0.93894,     0.93994,     0.94094,     0.94194,     0.94294,     0.94394,     0.94494,     0.94595,     0.94695,     0.94795,     0.94895,     0.94995,     0.95095,     0.95195,     0.95295,     0.95395,     0.95495,     0.95596,     0.95696,     0.95796,     0.95896,     0.95996,\n",
       "           0.96096,     0.96196,     0.96296,     0.96396,     0.96496,     0.96597,     0.96697,     0.96797,     0.96897,     0.96997,     0.97097,     0.97197,     0.97297,     0.97397,     0.97497,     0.97598,     0.97698,     0.97798,     0.97898,     0.97998,     0.98098,     0.98198,     0.98298,     0.98398,\n",
       "           0.98498,     0.98599,     0.98699,     0.98799,     0.98899,     0.98999,     0.99099,     0.99199,     0.99299,     0.99399,     0.99499,       0.996,       0.997,       0.998,       0.999,           1]), array([[    0.91489,     0.91489,     0.89362, ...,           0,           0,           0],\n",
       "       [    0.95571,     0.95571,     0.94608, ...,           0,           0,           0]]), 'Confidence', 'Recall']]\n",
       "fitness: np.float64(0.4017062775185807)\n",
       "keys: ['metrics/precision(B)', 'metrics/recall(B)', 'metrics/mAP50(B)', 'metrics/mAP50-95(B)']\n",
       "maps: array([    0.43225,     0.30337])\n",
       "names: {0: 'crop', 1: 'weed'}\n",
       "plot: True\n",
       "results_dict: {'metrics/precision(B)': np.float64(0.676491254759519), 'metrics/recall(B)': np.float64(0.7173818042771694), 'metrics/mAP50(B)': np.float64(0.70681051101651), 'metrics/mAP50-95(B)': np.float64(0.36780580712992184), 'fitness': np.float64(0.4017062775185807)}\n",
       "save_dir: WindowsPath('runs/detect/weed_detection_model3')\n",
       "speed: {'preprocess': 1.4913229787588476, 'inference': 62.46148638298458, 'loss': 5.2340390616433415e-05, 'postprocess': 0.7735051063912366}\n",
       "task: 'detect'"
      ]
     },
     "execution_count": 6,
     "metadata": {},
     "output_type": "execute_result"
    }
   ],
   "source": [
    "wd.train(\n",
    "    data=\"weeddataset/data.yaml\",\n",
    "    epochs=50,\n",
    "    imgsz=640,\n",
    "    batch=16,\n",
    "    name=\"weed_detection_model\",\n",
    ")"
   ]
  }
 ],
 "metadata": {
  "kernelspec": {
   "display_name": "Python 3",
   "language": "python",
   "name": "python3"
  },
  "language_info": {
   "codemirror_mode": {
    "name": "ipython",
    "version": 3
   },
   "file_extension": ".py",
   "mimetype": "text/x-python",
   "name": "python",
   "nbconvert_exporter": "python",
   "pygments_lexer": "ipython3",
   "version": "3.12.4"
  }
 },
 "nbformat": 4,
 "nbformat_minor": 5
}
