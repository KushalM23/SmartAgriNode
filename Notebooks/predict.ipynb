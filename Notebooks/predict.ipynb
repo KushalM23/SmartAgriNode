{
 "cells": [
  {
   "cell_type": "code",
   "execution_count": 1,
   "id": "148c15ca",
   "metadata": {},
   "outputs": [],
   "source": [
    "import pandas as pd\n",
    "import joblib"
   ]
  },
  {
   "cell_type": "code",
   "execution_count": 3,
   "id": "e0bf17f3",
   "metadata": {},
   "outputs": [
    {
     "name": "stdout",
     "output_type": "stream",
     "text": [
      "Recommended crop: muskmelon\n"
     ]
    },
    {
     "name": "stderr",
     "output_type": "stream",
     "text": [
      "c:\\Users\\LENOVO\\AppData\\Local\\Programs\\Python\\Python313\\Lib\\site-packages\\sklearn\\utils\\validation.py:2749: UserWarning: X does not have valid feature names, but RandomForestClassifier was fitted with feature names\n",
      "  warnings.warn(\n"
     ]
    }
   ],
   "source": [
    "cr= joblib.load('../Models/crop_recommendation_model.pkl')\n",
    "input_data = pd.DataFrame([[91,62,91,30,2,4.5,7]])\n",
    "prediction = cr.predict(input_data)\n",
    "print(\"Recommended crop:\", prediction[0])"
   ]
  },
  {
   "cell_type": "code",
   "execution_count": 2,
   "id": "5e8fdd92",
   "metadata": {},
   "outputs": [],
   "source": [
    "from ultralytics import YOLO\n",
    "wd = YOLO(\"../Models/weed_detection_model.pt\")"
   ]
  },
  {
   "cell_type": "code",
   "execution_count": 3,
   "id": "5a556846",
   "metadata": {},
   "outputs": [
    {
     "name": "stdout",
     "output_type": "stream",
     "text": [
      "\n",
      "image 1/1 c:\\Users\\LENOVO\\Documents\\GitHub\\SmartAgriNode\\Notebooks\\..\\test_images\\run3.jpg: 384x640 6 weeds, 163.9ms\n",
      "Speed: 5.3ms preprocess, 163.9ms inference, 20.3ms postprocess per image at shape (1, 3, 384, 640)\n",
      "Results saved to \u001b[1m..\\Outputs\\test_runs\\WeedDetection\\run3\u001b[0m\n"
     ]
    },
    {
     "data": {
      "text/plain": [
       "[ultralytics.engine.results.Results object with attributes:\n",
       " \n",
       " boxes: ultralytics.engine.results.Boxes object\n",
       " keypoints: None\n",
       " masks: None\n",
       " names: {0: 'crop', 1: 'weed'}\n",
       " obb: None\n",
       " orig_img: array([[[165, 174, 141],\n",
       "         [166, 175, 142],\n",
       "         [167, 176, 143],\n",
       "         ...,\n",
       "         [163, 164, 154],\n",
       "         [162, 160, 150],\n",
       "         [ 55,  53,  43]],\n",
       " \n",
       "        [[159, 168, 135],\n",
       "         [160, 169, 136],\n",
       "         [163, 172, 139],\n",
       "         ...,\n",
       "         [165, 166, 156],\n",
       "         [162, 161, 151],\n",
       "         [ 54,  52,  42]],\n",
       " \n",
       "        [[156, 165, 132],\n",
       "         [157, 166, 133],\n",
       "         [160, 169, 136],\n",
       "         ...,\n",
       "         [167, 168, 159],\n",
       "         [160, 159, 149],\n",
       "         [ 50,  49,  39]],\n",
       " \n",
       "        ...,\n",
       " \n",
       "        [[127, 144, 130],\n",
       "         [125, 142, 128],\n",
       "         [126, 141, 127],\n",
       "         ...,\n",
       "         [ 30,  30,  30],\n",
       "         [ 30,  30,  30],\n",
       "         [ 30,  30,  30]],\n",
       " \n",
       "        [[128, 143, 129],\n",
       "         [126, 141, 127],\n",
       "         [123, 139, 122],\n",
       "         ...,\n",
       "         [ 30,  30,  30],\n",
       "         [ 30,  30,  30],\n",
       "         [ 30,  30,  30]],\n",
       " \n",
       "        [[ 80,  95,  81],\n",
       "         [ 77,  92,  78],\n",
       "         [ 73,  89,  72],\n",
       "         ...,\n",
       "         [ 30,  30,  30],\n",
       "         [ 30,  30,  30],\n",
       "         [ 30,  30,  30]]], shape=(720, 1280, 3), dtype=uint8)\n",
       " orig_shape: (720, 1280)\n",
       " path: 'c:\\\\Users\\\\LENOVO\\\\Documents\\\\GitHub\\\\SmartAgriNode\\\\Notebooks\\\\..\\\\test_images\\\\run3.jpg'\n",
       " probs: None\n",
       " save_dir: '..\\\\Outputs\\\\test_runs\\\\WeedDetection\\\\run3'\n",
       " speed: {'preprocess': 5.303699988871813, 'inference': 163.94950001267716, 'postprocess': 20.3124999825377}]"
      ]
     },
     "execution_count": 3,
     "metadata": {},
     "output_type": "execute_result"
    }
   ],
   "source": [
    "wd.predict(\n",
    "    source=\"../test_images/run3.jpg\", \n",
    "    save=True,\n",
    "    project=\"../Outputs/test_runs/WeedDetection\",\n",
    "    name=\"run\"\n",
    "    )"
   ]
  }
 ],
 "metadata": {
  "kernelspec": {
   "display_name": "Python 3",
   "language": "python",
   "name": "python3"
  },
  "language_info": {
   "codemirror_mode": {
    "name": "ipython",
    "version": 3
   },
   "file_extension": ".py",
   "mimetype": "text/x-python",
   "name": "python",
   "nbconvert_exporter": "python",
   "pygments_lexer": "ipython3",
   "version": "3.13.7"
  }
 },
 "nbformat": 4,
 "nbformat_minor": 5
}
